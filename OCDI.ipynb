{
  "nbformat": 4,
  "nbformat_minor": 0,
  "metadata": {
    "colab": {
      "provenance": [],
      "toc_visible": true
    },
    "kernelspec": {
      "name": "python3",
      "display_name": "Python 3"
    },
    "language_info": {
      "name": "python"
    }
  },
  "cells": [
    {
      "cell_type": "code",
      "execution_count": null,
      "metadata": {
        "id": "UlI-gy9kBTEp"
      },
      "outputs": [],
      "source": [
        "import matplotlib.pyplot as plt\n",
        "import pandas as pd\n",
        "import numpy as np\n",
        "import math\n",
        "import seaborn as sns"
      ]
    },
    {
      "cell_type": "code",
      "source": [
        "data = pd.read_csv('/content/OCDI_SR_RJM.csv')"
      ],
      "metadata": {
        "id": "2WMDxRYRDj-h"
      },
      "execution_count": null,
      "outputs": []
    },
    {
      "cell_type": "code",
      "source": [
        "data.head(5)"
      ],
      "metadata": {
        "colab": {
          "base_uri": "https://localhost:8080/",
          "height": 273
        },
        "id": "cz3ZO0fND5eN",
        "outputId": "123c4652-2c8a-44b5-8d37-d6204c2db348"
      },
      "execution_count": null,
      "outputs": [
        {
          "output_type": "execute_result",
          "data": {
            "text/plain": [
              "   Unnamed: 0  research_consent  Phases ocdi_id_participant  age  \\\n",
              "0          70                 1       3          OCAR_01786   24   \n",
              "1          84                 1       3          OCAR_01778   34   \n",
              "2          90                 1       3          OCAR_01858   19   \n",
              "3         102                 1       3          OCAR_01780   19   \n",
              "4         110                 1       3          OCAR_01773   34   \n",
              "\n",
              "  gender_allphases   Race  education_level sexual_orientation  \\\n",
              "0              Man  White              4.0                NaN   \n",
              "1            Woman  White              7.0                NaN   \n",
              "2              Man  White              3.0                NaN   \n",
              "3              Man  White              4.0                NaN   \n",
              "4              Man  White              5.0                NaN   \n",
              "\n",
              "   dsmiv_primary_diagnosis  ... docs1_cat3_admit  docs2_cat3_admit  \\\n",
              "0                      NaN  ...              1.0               1.0   \n",
              "1                      NaN  ...              0.0               0.0   \n",
              "2                     16.0  ...              2.0               3.0   \n",
              "3                     16.0  ...              1.0               2.0   \n",
              "4                      NaN  ...              3.0               3.0   \n",
              "\n",
              "  docs3_cat3_admit  docs4_cat3_admit docs5_cat3_admit  docs1_cat4_admit  \\\n",
              "0              3.0               2.0              2.0               0.0   \n",
              "1              0.0               0.0              0.0               0.0   \n",
              "2              3.0               3.0              3.0               1.0   \n",
              "3              2.0               1.0              3.0               0.0   \n",
              "4              3.0               3.0              4.0               0.0   \n",
              "\n",
              "  docs2_cat4_admit  docs3_cat4_admit  docs4_cat4_admit  docs5_cat4_admit  \n",
              "0              0.0               1.0               1.0               1.0  \n",
              "1              0.0               0.0               0.0               0.0  \n",
              "2              1.0               1.0               1.0               1.0  \n",
              "3              0.0               1.0               1.0               0.0  \n",
              "4              0.0               0.0               0.0               0.0  \n",
              "\n",
              "[5 rows x 133 columns]"
            ],
            "text/html": [
              "\n",
              "  <div id=\"df-e5b35991-9a65-452b-a494-4bcc0c8a08b7\" class=\"colab-df-container\">\n",
              "    <div>\n",
              "<style scoped>\n",
              "    .dataframe tbody tr th:only-of-type {\n",
              "        vertical-align: middle;\n",
              "    }\n",
              "\n",
              "    .dataframe tbody tr th {\n",
              "        vertical-align: top;\n",
              "    }\n",
              "\n",
              "    .dataframe thead th {\n",
              "        text-align: right;\n",
              "    }\n",
              "</style>\n",
              "<table border=\"1\" class=\"dataframe\">\n",
              "  <thead>\n",
              "    <tr style=\"text-align: right;\">\n",
              "      <th></th>\n",
              "      <th>Unnamed: 0</th>\n",
              "      <th>research_consent</th>\n",
              "      <th>Phases</th>\n",
              "      <th>ocdi_id_participant</th>\n",
              "      <th>age</th>\n",
              "      <th>gender_allphases</th>\n",
              "      <th>Race</th>\n",
              "      <th>education_level</th>\n",
              "      <th>sexual_orientation</th>\n",
              "      <th>dsmiv_primary_diagnosis</th>\n",
              "      <th>...</th>\n",
              "      <th>docs1_cat3_admit</th>\n",
              "      <th>docs2_cat3_admit</th>\n",
              "      <th>docs3_cat3_admit</th>\n",
              "      <th>docs4_cat3_admit</th>\n",
              "      <th>docs5_cat3_admit</th>\n",
              "      <th>docs1_cat4_admit</th>\n",
              "      <th>docs2_cat4_admit</th>\n",
              "      <th>docs3_cat4_admit</th>\n",
              "      <th>docs4_cat4_admit</th>\n",
              "      <th>docs5_cat4_admit</th>\n",
              "    </tr>\n",
              "  </thead>\n",
              "  <tbody>\n",
              "    <tr>\n",
              "      <th>0</th>\n",
              "      <td>70</td>\n",
              "      <td>1</td>\n",
              "      <td>3</td>\n",
              "      <td>OCAR_01786</td>\n",
              "      <td>24</td>\n",
              "      <td>Man</td>\n",
              "      <td>White</td>\n",
              "      <td>4.0</td>\n",
              "      <td>NaN</td>\n",
              "      <td>NaN</td>\n",
              "      <td>...</td>\n",
              "      <td>1.0</td>\n",
              "      <td>1.0</td>\n",
              "      <td>3.0</td>\n",
              "      <td>2.0</td>\n",
              "      <td>2.0</td>\n",
              "      <td>0.0</td>\n",
              "      <td>0.0</td>\n",
              "      <td>1.0</td>\n",
              "      <td>1.0</td>\n",
              "      <td>1.0</td>\n",
              "    </tr>\n",
              "    <tr>\n",
              "      <th>1</th>\n",
              "      <td>84</td>\n",
              "      <td>1</td>\n",
              "      <td>3</td>\n",
              "      <td>OCAR_01778</td>\n",
              "      <td>34</td>\n",
              "      <td>Woman</td>\n",
              "      <td>White</td>\n",
              "      <td>7.0</td>\n",
              "      <td>NaN</td>\n",
              "      <td>NaN</td>\n",
              "      <td>...</td>\n",
              "      <td>0.0</td>\n",
              "      <td>0.0</td>\n",
              "      <td>0.0</td>\n",
              "      <td>0.0</td>\n",
              "      <td>0.0</td>\n",
              "      <td>0.0</td>\n",
              "      <td>0.0</td>\n",
              "      <td>0.0</td>\n",
              "      <td>0.0</td>\n",
              "      <td>0.0</td>\n",
              "    </tr>\n",
              "    <tr>\n",
              "      <th>2</th>\n",
              "      <td>90</td>\n",
              "      <td>1</td>\n",
              "      <td>3</td>\n",
              "      <td>OCAR_01858</td>\n",
              "      <td>19</td>\n",
              "      <td>Man</td>\n",
              "      <td>White</td>\n",
              "      <td>3.0</td>\n",
              "      <td>NaN</td>\n",
              "      <td>16.0</td>\n",
              "      <td>...</td>\n",
              "      <td>2.0</td>\n",
              "      <td>3.0</td>\n",
              "      <td>3.0</td>\n",
              "      <td>3.0</td>\n",
              "      <td>3.0</td>\n",
              "      <td>1.0</td>\n",
              "      <td>1.0</td>\n",
              "      <td>1.0</td>\n",
              "      <td>1.0</td>\n",
              "      <td>1.0</td>\n",
              "    </tr>\n",
              "    <tr>\n",
              "      <th>3</th>\n",
              "      <td>102</td>\n",
              "      <td>1</td>\n",
              "      <td>3</td>\n",
              "      <td>OCAR_01780</td>\n",
              "      <td>19</td>\n",
              "      <td>Man</td>\n",
              "      <td>White</td>\n",
              "      <td>4.0</td>\n",
              "      <td>NaN</td>\n",
              "      <td>16.0</td>\n",
              "      <td>...</td>\n",
              "      <td>1.0</td>\n",
              "      <td>2.0</td>\n",
              "      <td>2.0</td>\n",
              "      <td>1.0</td>\n",
              "      <td>3.0</td>\n",
              "      <td>0.0</td>\n",
              "      <td>0.0</td>\n",
              "      <td>1.0</td>\n",
              "      <td>1.0</td>\n",
              "      <td>0.0</td>\n",
              "    </tr>\n",
              "    <tr>\n",
              "      <th>4</th>\n",
              "      <td>110</td>\n",
              "      <td>1</td>\n",
              "      <td>3</td>\n",
              "      <td>OCAR_01773</td>\n",
              "      <td>34</td>\n",
              "      <td>Man</td>\n",
              "      <td>White</td>\n",
              "      <td>5.0</td>\n",
              "      <td>NaN</td>\n",
              "      <td>NaN</td>\n",
              "      <td>...</td>\n",
              "      <td>3.0</td>\n",
              "      <td>3.0</td>\n",
              "      <td>3.0</td>\n",
              "      <td>3.0</td>\n",
              "      <td>4.0</td>\n",
              "      <td>0.0</td>\n",
              "      <td>0.0</td>\n",
              "      <td>0.0</td>\n",
              "      <td>0.0</td>\n",
              "      <td>0.0</td>\n",
              "    </tr>\n",
              "  </tbody>\n",
              "</table>\n",
              "<p>5 rows × 133 columns</p>\n",
              "</div>\n",
              "    <div class=\"colab-df-buttons\">\n",
              "\n",
              "  <div class=\"colab-df-container\">\n",
              "    <button class=\"colab-df-convert\" onclick=\"convertToInteractive('df-e5b35991-9a65-452b-a494-4bcc0c8a08b7')\"\n",
              "            title=\"Convert this dataframe to an interactive table.\"\n",
              "            style=\"display:none;\">\n",
              "\n",
              "  <svg xmlns=\"http://www.w3.org/2000/svg\" height=\"24px\" viewBox=\"0 -960 960 960\">\n",
              "    <path d=\"M120-120v-720h720v720H120Zm60-500h600v-160H180v160Zm220 220h160v-160H400v160Zm0 220h160v-160H400v160ZM180-400h160v-160H180v160Zm440 0h160v-160H620v160ZM180-180h160v-160H180v160Zm440 0h160v-160H620v160Z\"/>\n",
              "  </svg>\n",
              "    </button>\n",
              "\n",
              "  <style>\n",
              "    .colab-df-container {\n",
              "      display:flex;\n",
              "      gap: 12px;\n",
              "    }\n",
              "\n",
              "    .colab-df-convert {\n",
              "      background-color: #E8F0FE;\n",
              "      border: none;\n",
              "      border-radius: 50%;\n",
              "      cursor: pointer;\n",
              "      display: none;\n",
              "      fill: #1967D2;\n",
              "      height: 32px;\n",
              "      padding: 0 0 0 0;\n",
              "      width: 32px;\n",
              "    }\n",
              "\n",
              "    .colab-df-convert:hover {\n",
              "      background-color: #E2EBFA;\n",
              "      box-shadow: 0px 1px 2px rgba(60, 64, 67, 0.3), 0px 1px 3px 1px rgba(60, 64, 67, 0.15);\n",
              "      fill: #174EA6;\n",
              "    }\n",
              "\n",
              "    .colab-df-buttons div {\n",
              "      margin-bottom: 4px;\n",
              "    }\n",
              "\n",
              "    [theme=dark] .colab-df-convert {\n",
              "      background-color: #3B4455;\n",
              "      fill: #D2E3FC;\n",
              "    }\n",
              "\n",
              "    [theme=dark] .colab-df-convert:hover {\n",
              "      background-color: #434B5C;\n",
              "      box-shadow: 0px 1px 3px 1px rgba(0, 0, 0, 0.15);\n",
              "      filter: drop-shadow(0px 1px 2px rgba(0, 0, 0, 0.3));\n",
              "      fill: #FFFFFF;\n",
              "    }\n",
              "  </style>\n",
              "\n",
              "    <script>\n",
              "      const buttonEl =\n",
              "        document.querySelector('#df-e5b35991-9a65-452b-a494-4bcc0c8a08b7 button.colab-df-convert');\n",
              "      buttonEl.style.display =\n",
              "        google.colab.kernel.accessAllowed ? 'block' : 'none';\n",
              "\n",
              "      async function convertToInteractive(key) {\n",
              "        const element = document.querySelector('#df-e5b35991-9a65-452b-a494-4bcc0c8a08b7');\n",
              "        const dataTable =\n",
              "          await google.colab.kernel.invokeFunction('convertToInteractive',\n",
              "                                                    [key], {});\n",
              "        if (!dataTable) return;\n",
              "\n",
              "        const docLinkHtml = 'Like what you see? Visit the ' +\n",
              "          '<a target=\"_blank\" href=https://colab.research.google.com/notebooks/data_table.ipynb>data table notebook</a>'\n",
              "          + ' to learn more about interactive tables.';\n",
              "        element.innerHTML = '';\n",
              "        dataTable['output_type'] = 'display_data';\n",
              "        await google.colab.output.renderOutput(dataTable, element);\n",
              "        const docLink = document.createElement('div');\n",
              "        docLink.innerHTML = docLinkHtml;\n",
              "        element.appendChild(docLink);\n",
              "      }\n",
              "    </script>\n",
              "  </div>\n",
              "\n",
              "\n",
              "<div id=\"df-7ab2b924-fcff-4a9e-9f51-3777cf3b05a5\">\n",
              "  <button class=\"colab-df-quickchart\" onclick=\"quickchart('df-7ab2b924-fcff-4a9e-9f51-3777cf3b05a5')\"\n",
              "            title=\"Suggest charts\"\n",
              "            style=\"display:none;\">\n",
              "\n",
              "<svg xmlns=\"http://www.w3.org/2000/svg\" height=\"24px\"viewBox=\"0 0 24 24\"\n",
              "     width=\"24px\">\n",
              "    <g>\n",
              "        <path d=\"M19 3H5c-1.1 0-2 .9-2 2v14c0 1.1.9 2 2 2h14c1.1 0 2-.9 2-2V5c0-1.1-.9-2-2-2zM9 17H7v-7h2v7zm4 0h-2V7h2v10zm4 0h-2v-4h2v4z\"/>\n",
              "    </g>\n",
              "</svg>\n",
              "  </button>\n",
              "\n",
              "<style>\n",
              "  .colab-df-quickchart {\n",
              "      --bg-color: #E8F0FE;\n",
              "      --fill-color: #1967D2;\n",
              "      --hover-bg-color: #E2EBFA;\n",
              "      --hover-fill-color: #174EA6;\n",
              "      --disabled-fill-color: #AAA;\n",
              "      --disabled-bg-color: #DDD;\n",
              "  }\n",
              "\n",
              "  [theme=dark] .colab-df-quickchart {\n",
              "      --bg-color: #3B4455;\n",
              "      --fill-color: #D2E3FC;\n",
              "      --hover-bg-color: #434B5C;\n",
              "      --hover-fill-color: #FFFFFF;\n",
              "      --disabled-bg-color: #3B4455;\n",
              "      --disabled-fill-color: #666;\n",
              "  }\n",
              "\n",
              "  .colab-df-quickchart {\n",
              "    background-color: var(--bg-color);\n",
              "    border: none;\n",
              "    border-radius: 50%;\n",
              "    cursor: pointer;\n",
              "    display: none;\n",
              "    fill: var(--fill-color);\n",
              "    height: 32px;\n",
              "    padding: 0;\n",
              "    width: 32px;\n",
              "  }\n",
              "\n",
              "  .colab-df-quickchart:hover {\n",
              "    background-color: var(--hover-bg-color);\n",
              "    box-shadow: 0 1px 2px rgba(60, 64, 67, 0.3), 0 1px 3px 1px rgba(60, 64, 67, 0.15);\n",
              "    fill: var(--button-hover-fill-color);\n",
              "  }\n",
              "\n",
              "  .colab-df-quickchart-complete:disabled,\n",
              "  .colab-df-quickchart-complete:disabled:hover {\n",
              "    background-color: var(--disabled-bg-color);\n",
              "    fill: var(--disabled-fill-color);\n",
              "    box-shadow: none;\n",
              "  }\n",
              "\n",
              "  .colab-df-spinner {\n",
              "    border: 2px solid var(--fill-color);\n",
              "    border-color: transparent;\n",
              "    border-bottom-color: var(--fill-color);\n",
              "    animation:\n",
              "      spin 1s steps(1) infinite;\n",
              "  }\n",
              "\n",
              "  @keyframes spin {\n",
              "    0% {\n",
              "      border-color: transparent;\n",
              "      border-bottom-color: var(--fill-color);\n",
              "      border-left-color: var(--fill-color);\n",
              "    }\n",
              "    20% {\n",
              "      border-color: transparent;\n",
              "      border-left-color: var(--fill-color);\n",
              "      border-top-color: var(--fill-color);\n",
              "    }\n",
              "    30% {\n",
              "      border-color: transparent;\n",
              "      border-left-color: var(--fill-color);\n",
              "      border-top-color: var(--fill-color);\n",
              "      border-right-color: var(--fill-color);\n",
              "    }\n",
              "    40% {\n",
              "      border-color: transparent;\n",
              "      border-right-color: var(--fill-color);\n",
              "      border-top-color: var(--fill-color);\n",
              "    }\n",
              "    60% {\n",
              "      border-color: transparent;\n",
              "      border-right-color: var(--fill-color);\n",
              "    }\n",
              "    80% {\n",
              "      border-color: transparent;\n",
              "      border-right-color: var(--fill-color);\n",
              "      border-bottom-color: var(--fill-color);\n",
              "    }\n",
              "    90% {\n",
              "      border-color: transparent;\n",
              "      border-bottom-color: var(--fill-color);\n",
              "    }\n",
              "  }\n",
              "</style>\n",
              "\n",
              "  <script>\n",
              "    async function quickchart(key) {\n",
              "      const quickchartButtonEl =\n",
              "        document.querySelector('#' + key + ' button');\n",
              "      quickchartButtonEl.disabled = true;  // To prevent multiple clicks.\n",
              "      quickchartButtonEl.classList.add('colab-df-spinner');\n",
              "      try {\n",
              "        const charts = await google.colab.kernel.invokeFunction(\n",
              "            'suggestCharts', [key], {});\n",
              "      } catch (error) {\n",
              "        console.error('Error during call to suggestCharts:', error);\n",
              "      }\n",
              "      quickchartButtonEl.classList.remove('colab-df-spinner');\n",
              "      quickchartButtonEl.classList.add('colab-df-quickchart-complete');\n",
              "    }\n",
              "    (() => {\n",
              "      let quickchartButtonEl =\n",
              "        document.querySelector('#df-7ab2b924-fcff-4a9e-9f51-3777cf3b05a5 button');\n",
              "      quickchartButtonEl.style.display =\n",
              "        google.colab.kernel.accessAllowed ? 'block' : 'none';\n",
              "    })();\n",
              "  </script>\n",
              "</div>\n",
              "    </div>\n",
              "  </div>\n"
            ],
            "application/vnd.google.colaboratory.intrinsic+json": {
              "type": "dataframe",
              "variable_name": "data"
            }
          },
          "metadata": {},
          "execution_count": 4
        }
      ]
    },
    {
      "cell_type": "code",
      "source": [
        "data.columns"
      ],
      "metadata": {
        "colab": {
          "base_uri": "https://localhost:8080/"
        },
        "id": "zMWK9QzfEbM5",
        "outputId": "3d5274cf-6e93-43e5-f328-57b7b9fbf6be"
      },
      "execution_count": null,
      "outputs": [
        {
          "output_type": "execute_result",
          "data": {
            "text/plain": [
              "Index(['Unnamed: 0', 'research_consent', 'Phases', 'ocdi_id_participant',\n",
              "       'age', 'gender_allphases', 'Race', 'education_level',\n",
              "       'sexual_orientation', 'dsmiv_primary_diagnosis',\n",
              "       ...\n",
              "       'docs1_cat3_admit', 'docs2_cat3_admit', 'docs3_cat3_admit',\n",
              "       'docs4_cat3_admit', 'docs5_cat3_admit', 'docs1_cat4_admit',\n",
              "       'docs2_cat4_admit', 'docs3_cat4_admit', 'docs4_cat4_admit',\n",
              "       'docs5_cat4_admit'],\n",
              "      dtype='object', length=133)"
            ]
          },
          "metadata": {},
          "execution_count": 5
        }
      ]
    },
    {
      "cell_type": "code",
      "source": [
        "col_names = [x.replace('_admit','').replace('_cmi','').replace('uestion','').replace('obq44','obq') for x in data.columns]"
      ],
      "metadata": {
        "id": "aMLvwV5UT7YV"
      },
      "execution_count": null,
      "outputs": []
    },
    {
      "cell_type": "code",
      "source": [
        "demo_col = ['age','gender_allphases','Race','education_level','sexual_orientation']\n",
        "dsm_col = [x for x in col_names if x.startswith('dsm')==True]\n",
        "ybocs_col = [x for x in col_names if x.startswith('ybocs')==True]\n",
        "obq_col = [x for x in col_names if x.startswith('obq')==True]\n",
        "ocir_col = [x for x in col_names if x.startswith('ocir')==True]\n",
        "docs_col = [x for x in col_names if x.startswith('docs')==True]"
      ],
      "metadata": {
        "id": "jk6xE2lPD_uX"
      },
      "execution_count": null,
      "outputs": []
    },
    {
      "cell_type": "code",
      "source": [
        "obq_mapping = {'RT':[1,5,6,8,15,16,17,19,22,23,29,33,34,36,39,41],\n",
        "               'PC':[2,3,4,9,10,11,12,14,18,20,25,26,31,37,40,43],\n",
        "               'ICT':[7,13,21,24,27,28,30,32,35,38,42,44]}\n",
        "ocir_mapping = {'Checking': [2,8,14],\n",
        "                'Hoarding': [1,7,13],\n",
        "                'Neutralising': [4,10,16],\n",
        "                'Obsessing': [6,12,18],\n",
        "                'Ordering': [3,9,15],\n",
        "                'Washing': [5,11,17]}"
      ],
      "metadata": {
        "id": "3roD-gfBEKjL"
      },
      "execution_count": null,
      "outputs": []
    },
    {
      "cell_type": "code",
      "source": [
        "obq_label = []\n",
        "for obq in obq_col:\n",
        "  if obq.startswith('obq_q') == False:\n",
        "    obq_label.append(obq)\n",
        "  else:\n",
        "    seq = int(obq.replace('obq_q',''))\n",
        "    if seq in obq_mapping['RT']:\n",
        "      label = obq+'_rt'\n",
        "      obq_label.append(label)\n",
        "    elif seq in obq_mapping['PC']:\n",
        "      label = obq+'_pc'\n",
        "      obq_label.append(label)\n",
        "    elif seq in obq_mapping['ICT']:\n",
        "      label = obq+'_ict'\n",
        "      obq_label.append(label)"
      ],
      "metadata": {
        "id": "9hYVL_txUp0R"
      },
      "execution_count": null,
      "outputs": []
    },
    {
      "cell_type": "code",
      "source": [
        "ocir_label = []\n",
        "for ocir in ocir_col:\n",
        "  if ocir.endswith('total') == True:\n",
        "    ocir_label.append(ocir)\n",
        "  else:\n",
        "    seq = int(ocir.replace('ocir_',''))\n",
        "    if seq in ocir_mapping['Checking']:\n",
        "      label = ocir+'_chk'\n",
        "      ocir_label.append(label)\n",
        "    elif seq in ocir_mapping['Hoarding']:\n",
        "      label = ocir+'_hd'\n",
        "      ocir_label.append(label)\n",
        "    elif seq in ocir_mapping['Neutralising']:\n",
        "      label = ocir+'_neut'\n",
        "      ocir_label.append(label)\n",
        "    elif seq in ocir_mapping['Obsessing']:\n",
        "      label = ocir+'_obs'\n",
        "      ocir_label.append(label)\n",
        "    elif seq in ocir_mapping['Ordering']:\n",
        "      label = ocir+'_ord'\n",
        "      ocir_label.append(label)\n",
        "    elif seq in ocir_mapping['Washing']:\n",
        "      label = ocir+'_ws'\n",
        "      ocir_label.append(label)"
      ],
      "metadata": {
        "id": "mlxQfEytT_mY"
      },
      "execution_count": null,
      "outputs": []
    },
    {
      "cell_type": "code",
      "source": [
        "docs_label = [x.replace('cat1','ctm').replace('cat2','rsp').replace('cat3','unacc').replace('cat4','right').replace('_total','') for x in docs_col]"
      ],
      "metadata": {
        "id": "lZNcbzeZhb99"
      },
      "execution_count": null,
      "outputs": []
    },
    {
      "cell_type": "code",
      "source": [
        "df = data.drop(columns=['Unnamed: 0', 'research_consent', 'Phases', 'ocdi_id_participant',])"
      ],
      "metadata": {
        "id": "N8MY083WXOpu"
      },
      "execution_count": null,
      "outputs": []
    },
    {
      "cell_type": "code",
      "source": [
        "df.columns = demo_col + dsm_col + ybocs_col + obq_label + ocir_label + docs_label"
      ],
      "metadata": {
        "id": "pqknonR1ZCFP"
      },
      "execution_count": null,
      "outputs": []
    },
    {
      "cell_type": "code",
      "source": [
        "ocir_themes = ['chk','hd','neut','obs','ord','ws']\n",
        "ocir_label_append = []\n",
        "for theme in ocir_themes:\n",
        "  col_name = 'ocir_'+theme\n",
        "  ocir_label_append.append(col_name)\n",
        "  df[col_name] = df.filter(items=[x for x in ocir_label if x.endswith(theme)]).sum(axis=1, numeric_only=True)"
      ],
      "metadata": {
        "id": "DR7aoiffWYrE"
      },
      "execution_count": null,
      "outputs": []
    },
    {
      "cell_type": "code",
      "source": [
        "ybocs_label_append = ['ybocs_obs','ybocs_comp']\n",
        "ybocs_items = ybocs_col.copy()\n",
        "ybocs_items.remove('ybocs_total')\n",
        "df['ybocs_obs'] = df.filter(items=[x for x in ybocs_items if int(x[-1:])<6]).sum(axis=1, numeric_only=True)\n",
        "df['ybocs_comp'] = df.filter(items=[x for x in ybocs_items if int(x[-1:])>=6]).sum(axis=1, numeric_only=True)"
      ],
      "metadata": {
        "id": "r67tXbNfZZIm"
      },
      "execution_count": null,
      "outputs": []
    },
    {
      "cell_type": "code",
      "source": [
        "docs_label_append = ['docs_total']\n",
        "df['docs_total'] = df.filter(items=[x for x in docs_label if any(char.isdigit() for char in x) ==False]).sum(axis=1, numeric_only=True)"
      ],
      "metadata": {
        "id": "sz7BVbY9iXtY"
      },
      "execution_count": null,
      "outputs": []
    },
    {
      "cell_type": "markdown",
      "source": [
        "Correlation of Beliefs & Symptoms"
      ],
      "metadata": {
        "id": "QuP7W4tOMRO9"
      }
    },
    {
      "cell_type": "code",
      "source": [
        "import matplotlib.pyplot as plt\n",
        "import numpy as np\n",
        "\n",
        "#from sklearn.datasets import load_iris\n",
        "from sklearn.decomposition import PCA, FactorAnalysis\n",
        "from sklearn.preprocessing import StandardScaler"
      ],
      "metadata": {
        "id": "BHOmtXL4ZNSC"
      },
      "execution_count": null,
      "outputs": []
    },
    {
      "cell_type": "code",
      "source": [
        "int_col = ybocs_col + obq_label + ocir_label + docs_label + ocir_label_append + ybocs_label_append + docs_label_append\n",
        "int_total_col = [x for x in int_col if x.endswith('total')==True]\n",
        "int_theme_col = [x for x in int_col if x.endswith('total')==False and any(char.isdigit() for char in x) ==False]\n",
        "int_item_col = [x for x in int_col if x.endswith('total')==False and any(char.isdigit() for char in x) ==True]"
      ],
      "metadata": {
        "id": "2EsZKWAbMuO9"
      },
      "execution_count": null,
      "outputs": []
    },
    {
      "cell_type": "code",
      "source": [
        "X = StandardScaler().fit_transform(df[int_total_col])\n",
        "ax = plt.axes()\n",
        "\n",
        "im = ax.imshow(pd.DataFrame(X).corr(), cmap=\"RdBu_r\", vmin=-1, vmax=1)\n",
        "\n",
        "ax.set_xticks(range(0,4))\n",
        "ax.set_xticklabels(int_total_col, rotation=90)\n",
        "ax.set_yticks(range(0,4))\n",
        "ax.set_yticklabels(int_total_col)\n",
        "\n",
        "plt.colorbar(im).ax.set_ylabel(\"$r$\", rotation=0)\n",
        "ax.set_title(\"OCD Meta Beliefs & Symptoms correlation matrix\")\n",
        "plt.tight_layout()"
      ],
      "metadata": {
        "colab": {
          "base_uri": "https://localhost:8080/",
          "height": 486
        },
        "id": "hyWhbCkvj82I",
        "outputId": "ea4c550f-7fb8-4241-e11e-a3b6d6c9bb68"
      },
      "execution_count": null,
      "outputs": [
        {
          "output_type": "display_data",
          "data": {
            "text/plain": [
              "<Figure size 640x480 with 2 Axes>"
            ],
            "image/png": "[encoded data removed]"
          },
          "metadata": {}
        }
      ]
    },
    {
      "cell_type": "code",
      "source": [
        "X = StandardScaler().fit_transform(df[int_theme_col])\n",
        "ax = plt.axes()\n",
        "\n",
        "im = ax.imshow(pd.DataFrame(X).corr(), cmap=\"RdBu_r\", vmin=-1, vmax=1)\n",
        "\n",
        "ax.set_xticks(range(0,15))\n",
        "ax.set_xticklabels(int_theme_col, rotation=90)\n",
        "ax.set_yticks(range(0,15))\n",
        "ax.set_yticklabels(int_theme_col)\n",
        "\n",
        "plt.colorbar(im).ax.set_ylabel(\"$r$\", rotation=0)\n",
        "ax.set_title(\"OCD Meta Beliefs & Symptoms correlation matrix\")\n",
        "plt.tight_layout()"
      ],
      "metadata": {
        "colab": {
          "base_uri": "https://localhost:8080/",
          "height": 487
        },
        "id": "6qLM33RuMaGB",
        "outputId": "8f351c24-f284-40a6-98a7-0dcf18347ec9"
      },
      "execution_count": null,
      "outputs": [
        {
          "output_type": "display_data",
          "data": {
            "text/plain": [
              "<Figure size 640x480 with 2 Axes>"
            ],
            "image/png": "[encoded data removed]"
          },
          "metadata": {}
        }
      ]
    },
    {
      "cell_type": "markdown",
      "source": [
        "PCA - sklearn"
      ],
      "metadata": {
        "id": "kINY3BSnnOrw"
      }
    },
    {
      "cell_type": "code",
      "source": [
        "df[int_theme_col].isna().sum()"
      ],
      "metadata": {
        "colab": {
          "base_uri": "https://localhost:8080/"
        },
        "id": "XEo-YnXDnlYI",
        "outputId": "f0558e3d-a9f7-41d3-acda-c15347ae65a9"
      },
      "execution_count": null,
      "outputs": [
        {
          "output_type": "execute_result",
          "data": {
            "text/plain": [
              "obq_rt        0\n",
              "obq_pc        0\n",
              "obq_ict       0\n",
              "docs_ctm      2\n",
              "docs_rsp      3\n",
              "docs_unacc    3\n",
              "docs_right    4\n",
              "ocir_chk      0\n",
              "ocir_hd       0\n",
              "ocir_neut     0\n",
              "ocir_obs      0\n",
              "ocir_ord      0\n",
              "ocir_ws       0\n",
              "ybocs_obs     0\n",
              "ybocs_comp    0\n",
              "dtype: int64"
            ]
          },
          "metadata": {},
          "execution_count": 21
        }
      ]
    },
    {
      "cell_type": "code",
      "source": [
        "X = StandardScaler().fit_transform(df[int_theme_col].fillna(0))\n",
        "feature_names = df[int_theme_col].columns"
      ],
      "metadata": {
        "id": "yL1PHT2qe0aT"
      },
      "execution_count": null,
      "outputs": []
    },
    {
      "cell_type": "code",
      "source": [
        "X.shape"
      ],
      "metadata": {
        "colab": {
          "base_uri": "https://localhost:8080/"
        },
        "id": "H2T-TElrK7EI",
        "outputId": "42340729-4c5e-40aa-dd78-5a1e7403a9f8"
      },
      "execution_count": null,
      "outputs": [
        {
          "output_type": "execute_result",
          "data": {
            "text/plain": [
              "(855, 15)"
            ]
          },
          "metadata": {},
          "execution_count": 23
        }
      ]
    },
    {
      "cell_type": "code",
      "source": [
        "nums = np.arange(16)"
      ],
      "metadata": {
        "id": "w81wCgCkRnxR"
      },
      "execution_count": null,
      "outputs": []
    },
    {
      "cell_type": "code",
      "source": [
        "var_ratio = []\n",
        "for num in nums:\n",
        "  pca = PCA(n_components=num)\n",
        "  pca.fit(X)\n",
        "  var_ratio.append(np.sum(pca.explained_variance_ratio_))"
      ],
      "metadata": {
        "id": "C_NOBpTbRkeP"
      },
      "execution_count": null,
      "outputs": []
    },
    {
      "cell_type": "code",
      "source": [
        "plt.figure(figsize=(8,4),dpi=150)\n",
        "plt.grid()\n",
        "plt.plot(nums,var_ratio,marker='o')\n",
        "plt.xlabel('n_components')\n",
        "plt.ylabel('Explained variance ratio')\n",
        "plt.title('n_components vs. Explained Variance Ratio')"
      ],
      "metadata": {
        "colab": {
          "base_uri": "https://localhost:8080/",
          "height": 621
        },
        "id": "TiPWMhZARrF5",
        "outputId": "d12088bb-07cf-4507-f52c-43458679ede2"
      },
      "execution_count": null,
      "outputs": [
        {
          "output_type": "execute_result",
          "data": {
            "text/plain": [
              "Text(0.5, 1.0, 'n_components vs. Explained Variance Ratio')"
            ]
          },
          "metadata": {},
          "execution_count": 26
        },
        {
          "output_type": "display_data",
          "data": {
            "text/plain": [
              "<Figure size 1200x600 with 1 Axes>"
            ],
            "image/png": "[encoded data removed]"
          },
          "metadata": {}
        }
      ]
    },
    {
      "cell_type": "code",
      "source": [
        "# fit PCA with 6 components\n",
        "pca = PCA(n_components=6)\n",
        "l = len(X)\n",
        "X_pca = pca.fit(X)"
      ],
      "metadata": {
        "id": "wFYm_QpjKz9Y"
      },
      "execution_count": null,
      "outputs": []
    },
    {
      "cell_type": "code",
      "source": [
        "X_pca.transform(X).shape"
      ],
      "metadata": {
        "colab": {
          "base_uri": "https://localhost:8080/"
        },
        "id": "LdGKp1pnr2ma",
        "outputId": "4dda2b55-5008-4c04-8e33-309844ef7019"
      },
      "execution_count": null,
      "outputs": [
        {
          "output_type": "execute_result",
          "data": {
            "text/plain": [
              "(855, 6)"
            ]
          },
          "metadata": {},
          "execution_count": 28
        }
      ]
    },
    {
      "cell_type": "code",
      "source": [
        "# get explained variance for each component\n",
        "pca.explained_variance_ratio_"
      ],
      "metadata": {
        "colab": {
          "base_uri": "https://localhost:8080/"
        },
        "id": "e7d0N7FMOr6B",
        "outputId": "0d21778a-19fe-46b7-ce66-0ef673d0ceae"
      },
      "execution_count": null,
      "outputs": [
        {
          "output_type": "execute_result",
          "data": {
            "text/plain": [
              "array([0.31488008, 0.13474841, 0.11661687, 0.08356492, 0.06531842,\n",
              "       0.05675485])"
            ]
          },
          "metadata": {},
          "execution_count": 29
        }
      ]
    },
    {
      "cell_type": "code",
      "source": [
        "# total explained variance by all 5 components\n",
        "sum(pca.explained_variance_ratio_)"
      ],
      "metadata": {
        "colab": {
          "base_uri": "https://localhost:8080/"
        },
        "id": "MFH8XtdrRJIO",
        "outputId": "220f0126-e8eb-4a9c-a1d6-4ca8849f7f55"
      },
      "execution_count": null,
      "outputs": [
        {
          "output_type": "execute_result",
          "data": {
            "text/plain": [
              "0.7718835531483462"
            ]
          },
          "metadata": {},
          "execution_count": 30
        }
      ]
    },
    {
      "cell_type": "code",
      "source": [
        "# eigenvectors\n",
        "X_pca.components_.T"
      ],
      "metadata": {
        "colab": {
          "base_uri": "https://localhost:8080/"
        },
        "id": "GI4x9Y6ONbOI",
        "outputId": "175654b3-1fee-48ee-b509-a5e4b40f1121"
      },
      "execution_count": null,
      "outputs": [
        {
          "output_type": "execute_result",
          "data": {
            "text/plain": [
              "array([[ 0.31874323, -0.23312032, -0.06039547,  0.36572298, -0.11184102,\n",
              "         0.24382499],\n",
              "       [ 0.25078608, -0.14488573, -0.29908103,  0.19951352, -0.53954136,\n",
              "        -0.08232068],\n",
              "       [ 0.26120738, -0.40289031, -0.03241519,  0.25306235, -0.11943579,\n",
              "        -0.20358131],\n",
              "       [ 0.20551968,  0.37793616,  0.38830538,  0.3230335 , -0.08826503,\n",
              "        -0.15196059],\n",
              "       [ 0.30773751, -0.07223551,  0.0129275 ,  0.03490298,  0.23922922,\n",
              "         0.59408786],\n",
              "       [ 0.22238276, -0.36859702,  0.2100522 , -0.23759768,  0.23592302,\n",
              "        -0.27812872],\n",
              "       [ 0.25689845,  0.20508513, -0.34845252, -0.26753382, -0.01380315,\n",
              "        -0.23057748],\n",
              "       [ 0.31190384,  0.13026049, -0.11564369,  0.03620848,  0.21385612,\n",
              "         0.39763262],\n",
              "       [ 0.19470184,  0.10055063, -0.32083734, -0.03877056, -0.07136928,\n",
              "        -0.04694732],\n",
              "       [ 0.27137061,  0.16535832, -0.07029367, -0.0315763 ,  0.51017369,\n",
              "        -0.14370647],\n",
              "       [ 0.24601099, -0.3822291 ,  0.2287211 , -0.04740392,  0.1970709 ,\n",
              "        -0.26449892],\n",
              "       [ 0.26482739,  0.24564787, -0.35968584, -0.09020884,  0.0781485 ,\n",
              "        -0.26096562],\n",
              "       [ 0.22071883,  0.36826431,  0.37444914,  0.34440781, -0.01784616,\n",
              "        -0.18401609],\n",
              "       [ 0.25691772, -0.05750614,  0.29547408, -0.46426041, -0.26838553,\n",
              "         0.13470505],\n",
              "       [ 0.24632272,  0.19124838,  0.24270828, -0.42479894, -0.3644882 ,\n",
              "         0.12139178]])"
            ]
          },
          "metadata": {},
          "execution_count": 31
        }
      ]
    },
    {
      "cell_type": "code",
      "source": [
        "# component matrix\n",
        "# component (columns) loadings on all 15 variables (rows), can be seen as correlation\n",
        "# component loadings = eigenvector * sqrt(eigenvalues)\n",
        "X_pca.components_.T * np.sqrt(X_pca.explained_variance_)"
      ],
      "metadata": {
        "colab": {
          "base_uri": "https://localhost:8080/"
        },
        "id": "DezBRFUzYtgz",
        "outputId": "9446b3a7-cb55-43b6-b47e-eb3a6e2277e5"
      },
      "execution_count": null,
      "outputs": [
        {
          "output_type": "execute_result",
          "data": {
            "text/plain": [
              "array([[ 0.69312779, -0.33162075, -0.07992539,  0.40969815, -0.11076912,\n",
              "         0.22510206],\n",
              "       [ 0.54535058, -0.20610436, -0.39579409,  0.22350338, -0.53437034,\n",
              "        -0.07599941],\n",
              "       [ 0.56801236, -0.57312374, -0.04289721,  0.28349101, -0.1182911 ,\n",
              "        -0.18794862],\n",
              "       [ 0.44691586,  0.5376257 ,  0.51387069,  0.36187562, -0.08741909,\n",
              "        -0.14029178],\n",
              "       [ 0.66919514, -0.10275721,  0.01710784,  0.03909978,  0.23693643,\n",
              "         0.5484688 ],\n",
              "       [ 0.48358571, -0.5243405 ,  0.27797624, -0.26616685,  0.23366191,\n",
              "        -0.25677166],\n",
              "       [ 0.55864232,  0.29173984, -0.46113072, -0.29970256, -0.01367086,\n",
              "        -0.21287181],\n",
              "       [ 0.6782551 ,  0.18529951, -0.15303909,  0.04056226,  0.21180651,\n",
              "         0.36709905],\n",
              "       [ 0.42339176,  0.14303634, -0.42458568, -0.0434324 , -0.07068527,\n",
              "        -0.04334231],\n",
              "       [ 0.59011297,  0.23522725, -0.09302435, -0.0353731 ,  0.50528414,\n",
              "        -0.13267148],\n",
              "       [ 0.53496683, -0.54373253,  0.30268206, -0.05310385,  0.19518215,\n",
              "        -0.24418847],\n",
              "       [ 0.5758843 ,  0.34944158, -0.47599652, -0.10105571,  0.07739952,\n",
              "        -0.24092649],\n",
              "       [ 0.47996739,  0.5238672 ,  0.4955338 ,  0.38582001, -0.01767512,\n",
              "        -0.16988579],\n",
              "       [ 0.55868421, -0.08180423,  0.39102077, -0.52008389, -0.2658133 ,\n",
              "         0.12436126],\n",
              "       [ 0.53564469,  0.27205664,  0.32119223, -0.47587751, -0.36099491,\n",
              "         0.1120703 ]])"
            ]
          },
          "metadata": {},
          "execution_count": 32
        }
      ]
    },
    {
      "cell_type": "code",
      "source": [
        "x_comp = pd.DataFrame(X_pca.components_.T * np.sqrt(X_pca.explained_variance_))\n",
        "x_comp['variable'] = feature_names\n",
        "x_comp1 = pd.DataFrame(x_comp.set_index('variable'))\n",
        "x_comp2 = x_comp1.apply(lambda x: np.where(x.where(x > -.4) < .4,'',round(x,2)))\n",
        "x_comp2.sort_values([0,1], ascending=False)"
      ],
      "metadata": {
        "colab": {
          "base_uri": "https://localhost:8080/",
          "height": 551
        },
        "id": "-7uYXoh9Vbrn",
        "outputId": "28e712a9-1f5d-4815-884e-eb1aa61b08e8"
      },
      "execution_count": null,
      "outputs": [
        {
          "output_type": "execute_result",
          "data": {
            "text/plain": [
              "               0      1      2      3      4     5\n",
              "variable                                          \n",
              "obq_rt      0.69                 0.41             \n",
              "ocir_chk    0.68                                  \n",
              "docs_rsp    0.67                              0.55\n",
              "ocir_neut   0.59                        0.51      \n",
              "ocir_ord    0.58         -0.48                    \n",
              "obq_ict     0.57  -0.57                           \n",
              "docs_right  0.56         -0.46                    \n",
              "ybocs_obs   0.56                -0.52             \n",
              "obq_pc      0.55                       -0.53      \n",
              "ybocs_comp  0.54                -0.48             \n",
              "ocir_obs    0.53  -0.54                           \n",
              "ocir_ws     0.48   0.52    0.5                    \n",
              "docs_unacc  0.48  -0.52                           \n",
              "docs_ctm    0.45   0.54   0.51                    \n",
              "ocir_hd     0.42         -0.42                    "
            ],
            "text/html": [
              "\n",
              "  <div id=\"df-27dbce50-5f51-4d27-91e2-78d3a7fa3060\" class=\"colab-df-container\">\n",
              "    <div>\n",
              "<style scoped>\n",
              "    .dataframe tbody tr th:only-of-type {\n",
              "        vertical-align: middle;\n",
              "    }\n",
              "\n",
              "    .dataframe tbody tr th {\n",
              "        vertical-align: top;\n",
              "    }\n",
              "\n",
              "    .dataframe thead th {\n",
              "        text-align: right;\n",
              "    }\n",
              "</style>\n",
              "<table border=\"1\" class=\"dataframe\">\n",
              "  <thead>\n",
              "    <tr style=\"text-align: right;\">\n",
              "      <th></th>\n",
              "      <th>0</th>\n",
              "      <th>1</th>\n",
              "      <th>2</th>\n",
              "      <th>3</th>\n",
              "      <th>4</th>\n",
              "      <th>5</th>\n",
              "    </tr>\n",
              "    <tr>\n",
              "      <th>variable</th>\n",
              "      <th></th>\n",
              "      <th></th>\n",
              "      <th></th>\n",
              "      <th></th>\n",
              "      <th></th>\n",
              "      <th></th>\n",
              "    </tr>\n",
              "  </thead>\n",
              "  <tbody>\n",
              "    <tr>\n",
              "      <th>obq_rt</th>\n",
              "      <td>0.69</td>\n",
              "      <td></td>\n",
              "      <td></td>\n",
              "      <td>0.41</td>\n",
              "      <td></td>\n",
              "      <td></td>\n",
              "    </tr>\n",
              "    <tr>\n",
              "      <th>ocir_chk</th>\n",
              "      <td>0.68</td>\n",
              "      <td></td>\n",
              "      <td></td>\n",
              "      <td></td>\n",
              "      <td></td>\n",
              "      <td></td>\n",
              "    </tr>\n",
              "    <tr>\n",
              "      <th>docs_rsp</th>\n",
              "      <td>0.67</td>\n",
              "      <td></td>\n",
              "      <td></td>\n",
              "      <td></td>\n",
              "      <td></td>\n",
              "      <td>0.55</td>\n",
              "    </tr>\n",
              "    <tr>\n",
              "      <th>ocir_neut</th>\n",
              "      <td>0.59</td>\n",
              "      <td></td>\n",
              "      <td></td>\n",
              "      <td></td>\n",
              "      <td>0.51</td>\n",
              "      <td></td>\n",
              "    </tr>\n",
              "    <tr>\n",
              "      <th>ocir_ord</th>\n",
              "      <td>0.58</td>\n",
              "      <td></td>\n",
              "      <td>-0.48</td>\n",
              "      <td></td>\n",
              "      <td></td>\n",
              "      <td></td>\n",
              "    </tr>\n",
              "    <tr>\n",
              "      <th>obq_ict</th>\n",
              "      <td>0.57</td>\n",
              "      <td>-0.57</td>\n",
              "      <td></td>\n",
              "      <td></td>\n",
              "      <td></td>\n",
              "      <td></td>\n",
              "    </tr>\n",
              "    <tr>\n",
              "      <th>docs_right</th>\n",
              "      <td>0.56</td>\n",
              "      <td></td>\n",
              "      <td>-0.46</td>\n",
              "      <td></td>\n",
              "      <td></td>\n",
              "      <td></td>\n",
              "    </tr>\n",
              "    <tr>\n",
              "      <th>ybocs_obs</th>\n",
              "      <td>0.56</td>\n",
              "      <td></td>\n",
              "      <td></td>\n",
              "      <td>-0.52</td>\n",
              "      <td></td>\n",
              "      <td></td>\n",
              "    </tr>\n",
              "    <tr>\n",
              "      <th>obq_pc</th>\n",
              "      <td>0.55</td>\n",
              "      <td></td>\n",
              "      <td></td>\n",
              "      <td></td>\n",
              "      <td>-0.53</td>\n",
              "      <td></td>\n",
              "    </tr>\n",
              "    <tr>\n",
              "      <th>ybocs_comp</th>\n",
              "      <td>0.54</td>\n",
              "      <td></td>\n",
              "      <td></td>\n",
              "      <td>-0.48</td>\n",
              "      <td></td>\n",
              "      <td></td>\n",
              "    </tr>\n",
              "    <tr>\n",
              "      <th>ocir_obs</th>\n",
              "      <td>0.53</td>\n",
              "      <td>-0.54</td>\n",
              "      <td></td>\n",
              "      <td></td>\n",
              "      <td></td>\n",
              "      <td></td>\n",
              "    </tr>\n",
              "    <tr>\n",
              "      <th>ocir_ws</th>\n",
              "      <td>0.48</td>\n",
              "      <td>0.52</td>\n",
              "      <td>0.5</td>\n",
              "      <td></td>\n",
              "      <td></td>\n",
              "      <td></td>\n",
              "    </tr>\n",
              "    <tr>\n",
              "      <th>docs_unacc</th>\n",
              "      <td>0.48</td>\n",
              "      <td>-0.52</td>\n",
              "      <td></td>\n",
              "      <td></td>\n",
              "      <td></td>\n",
              "      <td></td>\n",
              "    </tr>\n",
              "    <tr>\n",
              "      <th>docs_ctm</th>\n",
              "      <td>0.45</td>\n",
              "      <td>0.54</td>\n",
              "      <td>0.51</td>\n",
              "      <td></td>\n",
              "      <td></td>\n",
              "      <td></td>\n",
              "    </tr>\n",
              "    <tr>\n",
              "      <th>ocir_hd</th>\n",
              "      <td>0.42</td>\n",
              "      <td></td>\n",
              "      <td>-0.42</td>\n",
              "      <td></td>\n",
              "      <td></td>\n",
              "      <td></td>\n",
              "    </tr>\n",
              "  </tbody>\n",
              "</table>\n",
              "</div>\n",
              "    <div class=\"colab-df-buttons\">\n",
              "\n",
              "  <div class=\"colab-df-container\">\n",
              "    <button class=\"colab-df-convert\" onclick=\"convertToInteractive('df-27dbce50-5f51-4d27-91e2-78d3a7fa3060')\"\n",
              "            title=\"Convert this dataframe to an interactive table.\"\n",
              "            style=\"display:none;\">\n",
              "\n",
              "  <svg xmlns=\"http://www.w3.org/2000/svg\" height=\"24px\" viewBox=\"0 -960 960 960\">\n",
              "    <path d=\"M120-120v-720h720v720H120Zm60-500h600v-160H180v160Zm220 220h160v-160H400v160Zm0 220h160v-160H400v160ZM180-400h160v-160H180v160Zm440 0h160v-160H620v160ZM180-180h160v-160H180v160Zm440 0h160v-160H620v160Z\"/>\n",
              "  </svg>\n",
              "    </button>\n",
              "\n",
              "  <style>\n",
              "    .colab-df-container {\n",
              "      display:flex;\n",
              "      gap: 12px;\n",
              "    }\n",
              "\n",
              "    .colab-df-convert {\n",
              "      background-color: #E8F0FE;\n",
              "      border: none;\n",
              "      border-radius: 50%;\n",
              "      cursor: pointer;\n",
              "      display: none;\n",
              "      fill: #1967D2;\n",
              "      height: 32px;\n",
              "      padding: 0 0 0 0;\n",
              "      width: 32px;\n",
              "    }\n",
              "\n",
              "    .colab-df-convert:hover {\n",
              "      background-color: #E2EBFA;\n",
              "      box-shadow: 0px 1px 2px rgba(60, 64, 67, 0.3), 0px 1px 3px 1px rgba(60, 64, 67, 0.15);\n",
              "      fill: #174EA6;\n",
              "    }\n",
              "\n",
              "    .colab-df-buttons div {\n",
              "      margin-bottom: 4px;\n",
              "    }\n",
              "\n",
              "    [theme=dark] .colab-df-convert {\n",
              "      background-color: #3B4455;\n",
              "      fill: #D2E3FC;\n",
              "    }\n",
              "\n",
              "    [theme=dark] .colab-df-convert:hover {\n",
              "      background-color: #434B5C;\n",
              "      box-shadow: 0px 1px 3px 1px rgba(0, 0, 0, 0.15);\n",
              "      filter: drop-shadow(0px 1px 2px rgba(0, 0, 0, 0.3));\n",
              "      fill: #FFFFFF;\n",
              "    }\n",
              "  </style>\n",
              "\n",
              "    <script>\n",
              "      const buttonEl =\n",
              "        document.querySelector('#df-27dbce50-5f51-4d27-91e2-78d3a7fa3060 button.colab-df-convert');\n",
              "      buttonEl.style.display =\n",
              "        google.colab.kernel.accessAllowed ? 'block' : 'none';\n",
              "\n",
              "      async function convertToInteractive(key) {\n",
              "        const element = document.querySelector('#df-27dbce50-5f51-4d27-91e2-78d3a7fa3060');\n",
              "        const dataTable =\n",
              "          await google.colab.kernel.invokeFunction('convertToInteractive',\n",
              "                                                    [key], {});\n",
              "        if (!dataTable) return;\n",
              "\n",
              "        const docLinkHtml = 'Like what you see? Visit the ' +\n",
              "          '<a target=\"_blank\" href=https://colab.research.google.com/notebooks/data_table.ipynb>data table notebook</a>'\n",
              "          + ' to learn more about interactive tables.';\n",
              "        element.innerHTML = '';\n",
              "        dataTable['output_type'] = 'display_data';\n",
              "        await google.colab.output.renderOutput(dataTable, element);\n",
              "        const docLink = document.createElement('div');\n",
              "        docLink.innerHTML = docLinkHtml;\n",
              "        element.appendChild(docLink);\n",
              "      }\n",
              "    </script>\n",
              "  </div>\n",
              "\n",
              "\n",
              "<div id=\"df-989709b1-b13b-4e62-a3a5-09f785b40175\">\n",
              "  <button class=\"colab-df-quickchart\" onclick=\"quickchart('df-989709b1-b13b-4e62-a3a5-09f785b40175')\"\n",
              "            title=\"Suggest charts\"\n",
              "            style=\"display:none;\">\n",
              "\n",
              "<svg xmlns=\"http://www.w3.org/2000/svg\" height=\"24px\"viewBox=\"0 0 24 24\"\n",
              "     width=\"24px\">\n",
              "    <g>\n",
              "        <path d=\"M19 3H5c-1.1 0-2 .9-2 2v14c0 1.1.9 2 2 2h14c1.1 0 2-.9 2-2V5c0-1.1-.9-2-2-2zM9 17H7v-7h2v7zm4 0h-2V7h2v10zm4 0h-2v-4h2v4z\"/>\n",
              "    </g>\n",
              "</svg>\n",
              "  </button>\n",
              "\n",
              "<style>\n",
              "  .colab-df-quickchart {\n",
              "      --bg-color: #E8F0FE;\n",
              "      --fill-color: #1967D2;\n",
              "      --hover-bg-color: #E2EBFA;\n",
              "      --hover-fill-color: #174EA6;\n",
              "      --disabled-fill-color: #AAA;\n",
              "      --disabled-bg-color: #DDD;\n",
              "  }\n",
              "\n",
              "  [theme=dark] .colab-df-quickchart {\n",
              "      --bg-color: #3B4455;\n",
              "      --fill-color: #D2E3FC;\n",
              "      --hover-bg-color: #434B5C;\n",
              "      --hover-fill-color: #FFFFFF;\n",
              "      --disabled-bg-color: #3B4455;\n",
              "      --disabled-fill-color: #666;\n",
              "  }\n",
              "\n",
              "  .colab-df-quickchart {\n",
              "    background-color: var(--bg-color);\n",
              "    border: none;\n",
              "    border-radius: 50%;\n",
              "    cursor: pointer;\n",
              "    display: none;\n",
              "    fill: var(--fill-color);\n",
              "    height: 32px;\n",
              "    padding: 0;\n",
              "    width: 32px;\n",
              "  }\n",
              "\n",
              "  .colab-df-quickchart:hover {\n",
              "    background-color: var(--hover-bg-color);\n",
              "    box-shadow: 0 1px 2px rgba(60, 64, 67, 0.3), 0 1px 3px 1px rgba(60, 64, 67, 0.15);\n",
              "    fill: var(--button-hover-fill-color);\n",
              "  }\n",
              "\n",
              "  .colab-df-quickchart-complete:disabled,\n",
              "  .colab-df-quickchart-complete:disabled:hover {\n",
              "    background-color: var(--disabled-bg-color);\n",
              "    fill: var(--disabled-fill-color);\n",
              "    box-shadow: none;\n",
              "  }\n",
              "\n",
              "  .colab-df-spinner {\n",
              "    border: 2px solid var(--fill-color);\n",
              "    border-color: transparent;\n",
              "    border-bottom-color: var(--fill-color);\n",
              "    animation:\n",
              "      spin 1s steps(1) infinite;\n",
              "  }\n",
              "\n",
              "  @keyframes spin {\n",
              "    0% {\n",
              "      border-color: transparent;\n",
              "      border-bottom-color: var(--fill-color);\n",
              "      border-left-color: var(--fill-color);\n",
              "    }\n",
              "    20% {\n",
              "      border-color: transparent;\n",
              "      border-left-color: var(--fill-color);\n",
              "      border-top-color: var(--fill-color);\n",
              "    }\n",
              "    30% {\n",
              "      border-color: transparent;\n",
              "      border-left-color: var(--fill-color);\n",
              "      border-top-color: var(--fill-color);\n",
              "      border-right-color: var(--fill-color);\n",
              "    }\n",
              "    40% {\n",
              "      border-color: transparent;\n",
              "      border-right-color: var(--fill-color);\n",
              "      border-top-color: var(--fill-color);\n",
              "    }\n",
              "    60% {\n",
              "      border-color: transparent;\n",
              "      border-right-color: var(--fill-color);\n",
              "    }\n",
              "    80% {\n",
              "      border-color: transparent;\n",
              "      border-right-color: var(--fill-color);\n",
              "      border-bottom-color: var(--fill-color);\n",
              "    }\n",
              "    90% {\n",
              "      border-color: transparent;\n",
              "      border-bottom-color: var(--fill-color);\n",
              "    }\n",
              "  }\n",
              "</style>\n",
              "\n",
              "  <script>\n",
              "    async function quickchart(key) {\n",
              "      const quickchartButtonEl =\n",
              "        document.querySelector('#' + key + ' button');\n",
              "      quickchartButtonEl.disabled = true;  // To prevent multiple clicks.\n",
              "      quickchartButtonEl.classList.add('colab-df-spinner');\n",
              "      try {\n",
              "        const charts = await google.colab.kernel.invokeFunction(\n",
              "            'suggestCharts', [key], {});\n",
              "      } catch (error) {\n",
              "        console.error('Error during call to suggestCharts:', error);\n",
              "      }\n",
              "      quickchartButtonEl.classList.remove('colab-df-spinner');\n",
              "      quickchartButtonEl.classList.add('colab-df-quickchart-complete');\n",
              "    }\n",
              "    (() => {\n",
              "      let quickchartButtonEl =\n",
              "        document.querySelector('#df-989709b1-b13b-4e62-a3a5-09f785b40175 button');\n",
              "      quickchartButtonEl.style.display =\n",
              "        google.colab.kernel.accessAllowed ? 'block' : 'none';\n",
              "    })();\n",
              "  </script>\n",
              "</div>\n",
              "    </div>\n",
              "  </div>\n"
            ],
            "application/vnd.google.colaboratory.intrinsic+json": {
              "type": "dataframe",
              "summary": "{\n  \"name\": \"x_comp2\",\n  \"rows\": 15,\n  \"fields\": [\n    {\n      \"column\": \"variable\",\n      \"properties\": {\n        \"dtype\": \"string\",\n        \"num_unique_values\": 15,\n        \"samples\": [\n          \"ybocs_comp\",\n          \"ocir_ws\",\n          \"obq_rt\"\n        ],\n        \"semantic_type\": \"\",\n        \"description\": \"\"\n      }\n    },\n    {\n      \"column\": 0,\n      \"properties\": {\n        \"dtype\": \"string\",\n        \"num_unique_values\": 13,\n        \"samples\": [\n          \"0.45\",\n          \"0.53\",\n          \"0.69\"\n        ],\n        \"semantic_type\": \"\",\n        \"description\": \"\"\n      }\n    },\n    {\n      \"column\": 1,\n      \"properties\": {\n        \"dtype\": \"category\",\n        \"num_unique_values\": 6,\n        \"samples\": [\n          \"\",\n          \"-0.57\",\n          \"0.54\"\n        ],\n        \"semantic_type\": \"\",\n        \"description\": \"\"\n      }\n    },\n    {\n      \"column\": 2,\n      \"properties\": {\n        \"dtype\": \"category\",\n        \"num_unique_values\": 6,\n        \"samples\": [\n          \"\",\n          \"-0.48\",\n          \"-0.42\"\n        ],\n        \"semantic_type\": \"\",\n        \"description\": \"\"\n      }\n    },\n    {\n      \"column\": 3,\n      \"properties\": {\n        \"dtype\": \"category\",\n        \"num_unique_values\": 4,\n        \"samples\": [\n          \"\",\n          \"-0.48\",\n          \"0.41\"\n        ],\n        \"semantic_type\": \"\",\n        \"description\": \"\"\n      }\n    },\n    {\n      \"column\": 4,\n      \"properties\": {\n        \"dtype\": \"category\",\n        \"num_unique_values\": 3,\n        \"samples\": [\n          \"\",\n          \"0.51\",\n          \"-0.53\"\n        ],\n        \"semantic_type\": \"\",\n        \"description\": \"\"\n      }\n    },\n    {\n      \"column\": 5,\n      \"properties\": {\n        \"dtype\": \"category\",\n        \"num_unique_values\": 2,\n        \"samples\": [\n          \"0.55\",\n          \"\"\n        ],\n        \"semantic_type\": \"\",\n        \"description\": \"\"\n      }\n    }\n  ]\n}"
            }
          },
          "metadata": {},
          "execution_count": 33
        }
      ]
    },
    {
      "cell_type": "code",
      "source": [
        "pc_scores = pca.fit_transform(X)"
      ],
      "metadata": {
        "id": "Yq5vxhvhb0Ag"
      },
      "execution_count": null,
      "outputs": []
    },
    {
      "cell_type": "markdown",
      "source": [
        "PCA - factor_analyzer"
      ],
      "metadata": {
        "id": "NsNbWeIpOcd2"
      }
    },
    {
      "cell_type": "code",
      "source": [
        "pip install factor_analyzer"
      ],
      "metadata": {
        "colab": {
          "base_uri": "https://localhost:8080/"
        },
        "id": "tw5sZzURObaM",
        "outputId": "476b18f3-1057-4e1c-b41f-6c94b73c3e31"
      },
      "execution_count": null,
      "outputs": [
        {
          "output_type": "stream",
          "name": "stdout",
          "text": [
            "Collecting factor_analyzer\n",
            "  Downloading factor_analyzer-0.5.1.tar.gz (42 kB)\n",
            "\u001b[?25l     \u001b[90m━━━━━━━━━━━━━━━━━━━━━━━━━━━━━━━━━━━━━━━━\u001b[0m \u001b[32m0.0/42.8 kB\u001b[0m \u001b[31m?\u001b[0m eta \u001b[36m-:--:--\u001b[0m\r\u001b[2K     \u001b[90m━━━━━━━━━━━━━━━━━━━━━━━━━━━━━━━━━━━━━━━━\u001b[0m \u001b[32m42.8/42.8 kB\u001b[0m \u001b[31m1.3 MB/s\u001b[0m eta \u001b[36m0:00:00\u001b[0m\n",
            "\u001b[?25h  Installing build dependencies ... \u001b[?25l\u001b[?25hdone\n",
            "  Getting requirements to build wheel ... \u001b[?25l\u001b[?25hdone\n",
            "  Installing backend dependencies ... \u001b[?25l\u001b[?25hdone\n",
            "  Preparing metadata (pyproject.toml) ... \u001b[?25l\u001b[?25hdone\n",
            "Requirement already satisfied: pandas in /usr/local/lib/python3.10/dist-packages (from factor_analyzer) (2.0.3)\n",
            "Requirement already satisfied: scipy in /usr/local/lib/python3.10/dist-packages (from factor_analyzer) (1.11.4)\n",
            "Requirement already satisfied: numpy in /usr/local/lib/python3.10/dist-packages (from factor_analyzer) (1.25.2)\n",
            "Requirement already satisfied: scikit-learn in /usr/local/lib/python3.10/dist-packages (from factor_analyzer) (1.2.2)\n",
            "Requirement already satisfied: python-dateutil>=2.8.2 in /usr/local/lib/python3.10/dist-packages (from pandas->factor_analyzer) (2.8.2)\n",
            "Requirement already satisfied: pytz>=2020.1 in /usr/local/lib/python3.10/dist-packages (from pandas->factor_analyzer) (2023.4)\n",
            "Requirement already satisfied: tzdata>=2022.1 in /usr/local/lib/python3.10/dist-packages (from pandas->factor_analyzer) (2024.1)\n",
            "Requirement already satisfied: joblib>=1.1.1 in /usr/local/lib/python3.10/dist-packages (from scikit-learn->factor_analyzer) (1.4.0)\n",
            "Requirement already satisfied: threadpoolctl>=2.0.0 in /usr/local/lib/python3.10/dist-packages (from scikit-learn->factor_analyzer) (3.4.0)\n",
            "Requirement already satisfied: six>=1.5 in /usr/local/lib/python3.10/dist-packages (from python-dateutil>=2.8.2->pandas->factor_analyzer) (1.16.0)\n",
            "Building wheels for collected packages: factor_analyzer\n",
            "  Building wheel for factor_analyzer (pyproject.toml) ... \u001b[?25l\u001b[?25hdone\n",
            "  Created wheel for factor_analyzer: filename=factor_analyzer-0.5.1-py2.py3-none-any.whl size=42564 sha256=b1ac0356db42b041e6636fd3e7048120a97cf8eb8f53afb7a0db926e41a94c23\n",
            "  Stored in directory: /root/.cache/pip/wheels/24/59/82/6493618e30ed1cb7a013b9e1b0c9e17de80b04dfcef4ba8a4d\n",
            "Successfully built factor_analyzer\n",
            "Installing collected packages: factor_analyzer\n",
            "Successfully installed factor_analyzer-0.5.1\n"
          ]
        }
      ]
    },
    {
      "cell_type": "code",
      "source": [
        "from factor_analyzer import FactorAnalyzer"
      ],
      "metadata": {
        "id": "P4fh4S3tOpV1"
      },
      "execution_count": null,
      "outputs": []
    },
    {
      "cell_type": "code",
      "source": [
        "# unrotated factor loadings (validated the sklearn matrix)\n",
        "fa = FactorAnalyzer(n_factors=6, rotation=None, method='principal')\n",
        "fa.fit(X)\n",
        "fa.loadings_"
      ],
      "metadata": {
        "colab": {
          "base_uri": "https://localhost:8080/"
        },
        "id": "S9wXQlPsOyyE",
        "outputId": "16e89f49-1f26-4e21-90d6-8ecb79fa9d37"
      },
      "execution_count": null,
      "outputs": [
        {
          "output_type": "execute_result",
          "data": {
            "text/plain": [
              "array([[ 0.69272233, -0.33142677, -0.07987864, -0.40945849,  0.11070433,\n",
              "        -0.22497038],\n",
              "       [ 0.54503156, -0.2059838 , -0.39556256, -0.22337264,  0.53405775,\n",
              "         0.07595495],\n",
              "       [ 0.56768009, -0.57278848, -0.04287212, -0.28332518,  0.11822191,\n",
              "         0.18783868],\n",
              "       [ 0.44665443,  0.5373112 ,  0.51357009, -0.36166393,  0.08736796,\n",
              "         0.14020972],\n",
              "       [ 0.66880368, -0.1026971 ,  0.01709783, -0.0390769 , -0.23679783,\n",
              "        -0.54814796],\n",
              "       [ 0.48330283, -0.52403377,  0.27781363,  0.26601115, -0.23352523,\n",
              "         0.25662146],\n",
              "       [ 0.55831553,  0.29156918, -0.46086097,  0.29952724,  0.01366286,\n",
              "         0.21274728],\n",
              "       [ 0.67785834,  0.18519112, -0.15294957, -0.04053853, -0.21168261,\n",
              "        -0.36688431],\n",
              "       [ 0.42314409,  0.14295267, -0.42433731,  0.04340699,  0.07064392,\n",
              "         0.04331695],\n",
              "       [ 0.58976777,  0.23508965, -0.09296993,  0.0353524 , -0.50498856,\n",
              "         0.13259387],\n",
              "       [ 0.53465389, -0.54341447,  0.302505  ,  0.05307279, -0.19506798,\n",
              "         0.24404563],\n",
              "       [ 0.57554743,  0.34923717, -0.47571808,  0.1009966 , -0.07735424,\n",
              "         0.24078555],\n",
              "       [ 0.47968662,  0.52356075,  0.49524393, -0.38559432,  0.01766478,\n",
              "         0.16978641],\n",
              "       [ 0.5583574 , -0.08175638,  0.39079204,  0.51977966,  0.26565781,\n",
              "        -0.12428851],\n",
              "       [ 0.53533136,  0.2718975 ,  0.32100434,  0.47559914,  0.36078374,\n",
              "        -0.11200474]])"
            ]
          },
          "metadata": {},
          "execution_count": 37
        }
      ]
    },
    {
      "cell_type": "code",
      "source": [
        "# rotated with varimax method\n",
        "fa = FactorAnalyzer(n_factors=6, rotation='varimax', method='principal')\n",
        "fa.fit(X)"
      ],
      "metadata": {
        "colab": {
          "base_uri": "https://localhost:8080/",
          "height": 92
        },
        "id": "3q_GtxwBQl9S",
        "outputId": "a966a158-75cd-4028-89f5-20004af416ee"
      },
      "execution_count": null,
      "outputs": [
        {
          "output_type": "execute_result",
          "data": {
            "text/plain": [
              "FactorAnalyzer(method='principal', n_factors=6, rotation='varimax',\n",
              "               rotation_kwargs={})"
            ],
            "text/html": [
              "<style>#sk-container-id-1 {color: black;background-color: white;}#sk-container-id-1 pre{padding: 0;}#sk-container-id-1 div.sk-toggleable {background-color: white;}#sk-container-id-1 label.sk-toggleable__label {cursor: pointer;display: block;width: 100%;margin-bottom: 0;padding: 0.3em;box-sizing: border-box;text-align: center;}#sk-container-id-1 label.sk-toggleable__label-arrow:before {content: \"▸\";float: left;margin-right: 0.25em;color: #696969;}#sk-container-id-1 label.sk-toggleable__label-arrow:hover:before {color: black;}#sk-container-id-1 div.sk-estimator:hover label.sk-toggleable__label-arrow:before {color: black;}#sk-container-id-1 div.sk-toggleable__content {max-height: 0;max-width: 0;overflow: hidden;text-align: left;background-color: #f0f8ff;}#sk-container-id-1 div.sk-toggleable__content pre {margin: 0.2em;color: black;border-radius: 0.25em;background-color: #f0f8ff;}#sk-container-id-1 input.sk-toggleable__control:checked~div.sk-toggleable__content {max-height: 200px;max-width: 100%;overflow: auto;}#sk-container-id-1 input.sk-toggleable__control:checked~label.sk-toggleable__label-arrow:before {content: \"▾\";}#sk-container-id-1 div.sk-estimator input.sk-toggleable__control:checked~label.sk-toggleable__label {background-color: #d4ebff;}#sk-container-id-1 div.sk-label input.sk-toggleable__control:checked~label.sk-toggleable__label {background-color: #d4ebff;}#sk-container-id-1 input.sk-hidden--visually {border: 0;clip: rect(1px 1px 1px 1px);clip: rect(1px, 1px, 1px, 1px);height: 1px;margin: -1px;overflow: hidden;padding: 0;position: absolute;width: 1px;}#sk-container-id-1 div.sk-estimator {font-family: monospace;background-color: #f0f8ff;border: 1px dotted black;border-radius: 0.25em;box-sizing: border-box;margin-bottom: 0.5em;}#sk-container-id-1 div.sk-estimator:hover {background-color: #d4ebff;}#sk-container-id-1 div.sk-parallel-item::after {content: \"\";width: 100%;border-bottom: 1px solid gray;flex-grow: 1;}#sk-container-id-1 div.sk-label:hover label.sk-toggleable__label {background-color: #d4ebff;}#sk-container-id-1 div.sk-serial::before {content: \"\";position: absolute;border-left: 1px solid gray;box-sizing: border-box;top: 0;bottom: 0;left: 50%;z-index: 0;}#sk-container-id-1 div.sk-serial {display: flex;flex-direction: column;align-items: center;background-color: white;padding-right: 0.2em;padding-left: 0.2em;position: relative;}#sk-container-id-1 div.sk-item {position: relative;z-index: 1;}#sk-container-id-1 div.sk-parallel {display: flex;align-items: stretch;justify-content: center;background-color: white;position: relative;}#sk-container-id-1 div.sk-item::before, #sk-container-id-1 div.sk-parallel-item::before {content: \"\";position: absolute;border-left: 1px solid gray;box-sizing: border-box;top: 0;bottom: 0;left: 50%;z-index: -1;}#sk-container-id-1 div.sk-parallel-item {display: flex;flex-direction: column;z-index: 1;position: relative;background-color: white;}#sk-container-id-1 div.sk-parallel-item:first-child::after {align-self: flex-end;width: 50%;}#sk-container-id-1 div.sk-parallel-item:last-child::after {align-self: flex-start;width: 50%;}#sk-container-id-1 div.sk-parallel-item:only-child::after {width: 0;}#sk-container-id-1 div.sk-dashed-wrapped {border: 1px dashed gray;margin: 0 0.4em 0.5em 0.4em;box-sizing: border-box;padding-bottom: 0.4em;background-color: white;}#sk-container-id-1 div.sk-label label {font-family: monospace;font-weight: bold;display: inline-block;line-height: 1.2em;}#sk-container-id-1 div.sk-label-container {text-align: center;}#sk-container-id-1 div.sk-container {/* jupyter's `normalize.less` sets `[hidden] { display: none; }` but bootstrap.min.css set `[hidden] { display: none !important; }` so we also need the `!important` here to be able to override the default hidden behavior on the sphinx rendered scikit-learn.org. See: https://github.com/scikit-learn/scikit-learn/issues/21755 */display: inline-block !important;position: relative;}#sk-container-id-1 div.sk-text-repr-fallback {display: none;}</style><div id=\"sk-container-id-1\" class=\"sk-top-container\"><div class=\"sk-text-repr-fallback\"><pre>FactorAnalyzer(method=&#x27;principal&#x27;, n_factors=6, rotation=&#x27;varimax&#x27;,\n",
              "               rotation_kwargs={})</pre><b>In a Jupyter environment, please rerun this cell to show the HTML representation or trust the notebook. <br />On GitHub, the HTML representation is unable to render, please try loading this page with nbviewer.org.</b></div><div class=\"sk-container\" hidden><div class=\"sk-item\"><div class=\"sk-estimator sk-toggleable\"><input class=\"sk-toggleable__control sk-hidden--visually\" id=\"sk-estimator-id-1\" type=\"checkbox\" checked><label for=\"sk-estimator-id-1\" class=\"sk-toggleable__label sk-toggleable__label-arrow\">FactorAnalyzer</label><div class=\"sk-toggleable__content\"><pre>FactorAnalyzer(method=&#x27;principal&#x27;, n_factors=6, rotation=&#x27;varimax&#x27;,\n",
              "               rotation_kwargs={})</pre></div></div></div></div></div>"
            ]
          },
          "metadata": {},
          "execution_count": 38
        }
      ]
    },
    {
      "cell_type": "code",
      "source": [
        "x_comp = pd.DataFrame(fa.loadings_)\n",
        "x_comp['variable'] = feature_names\n",
        "x_comp1 = pd.DataFrame(x_comp.set_index('variable'))\n",
        "x_comp2 = x_comp1.apply(lambda x: np.where(x.where(x > -.4) < .4,'',round(x,2)))\n",
        "x_comp2.sort_values([0,1], ascending=False)"
      ],
      "metadata": {
        "colab": {
          "base_uri": "https://localhost:8080/",
          "height": 551
        },
        "id": "OknAHt_ZOzL-",
        "outputId": "7c895698-c1de-4205-c6e7-97ccaf4026ac"
      },
      "execution_count": null,
      "outputs": [
        {
          "output_type": "execute_result",
          "data": {
            "text/plain": [
              "               0     1     2     3     4     5\n",
              "variable                                      \n",
              "docs_rsp    0.84                              \n",
              "ocir_chk    0.69                              \n",
              "obq_rt      0.52                    0.67      \n",
              "docs_unacc        0.85                        \n",
              "ocir_obs          0.84                        \n",
              "obq_ict           0.57              0.66      \n",
              "obq_pc                              0.84      \n",
              "docs_ctm                                  0.93\n",
              "docs_right              0.83                  \n",
              "ocir_hd                 0.55                  \n",
              "ocir_neut               0.57                  \n",
              "ocir_ord                0.84                  \n",
              "ocir_ws                                   0.94\n",
              "ybocs_obs                     0.83            \n",
              "ybocs_comp                    0.85            "
            ],
            "text/html": [
              "\n",
              "  <div id=\"df-56a4471a-df00-4cdc-9f62-da0749e0f3d7\" class=\"colab-df-container\">\n",
              "    <div>\n",
              "<style scoped>\n",
              "    .dataframe tbody tr th:only-of-type {\n",
              "        vertical-align: middle;\n",
              "    }\n",
              "\n",
              "    .dataframe tbody tr th {\n",
              "        vertical-align: top;\n",
              "    }\n",
              "\n",
              "    .dataframe thead th {\n",
              "        text-align: right;\n",
              "    }\n",
              "</style>\n",
              "<table border=\"1\" class=\"dataframe\">\n",
              "  <thead>\n",
              "    <tr style=\"text-align: right;\">\n",
              "      <th></th>\n",
              "      <th>0</th>\n",
              "      <th>1</th>\n",
              "      <th>2</th>\n",
              "      <th>3</th>\n",
              "      <th>4</th>\n",
              "      <th>5</th>\n",
              "    </tr>\n",
              "    <tr>\n",
              "      <th>variable</th>\n",
              "      <th></th>\n",
              "      <th></th>\n",
              "      <th></th>\n",
              "      <th></th>\n",
              "      <th></th>\n",
              "      <th></th>\n",
              "    </tr>\n",
              "  </thead>\n",
              "  <tbody>\n",
              "    <tr>\n",
              "      <th>docs_rsp</th>\n",
              "      <td>0.84</td>\n",
              "      <td></td>\n",
              "      <td></td>\n",
              "      <td></td>\n",
              "      <td></td>\n",
              "      <td></td>\n",
              "    </tr>\n",
              "    <tr>\n",
              "      <th>ocir_chk</th>\n",
              "      <td>0.69</td>\n",
              "      <td></td>\n",
              "      <td></td>\n",
              "      <td></td>\n",
              "      <td></td>\n",
              "      <td></td>\n",
              "    </tr>\n",
              "    <tr>\n",
              "      <th>obq_rt</th>\n",
              "      <td>0.52</td>\n",
              "      <td></td>\n",
              "      <td></td>\n",
              "      <td></td>\n",
              "      <td>0.67</td>\n",
              "      <td></td>\n",
              "    </tr>\n",
              "    <tr>\n",
              "      <th>docs_unacc</th>\n",
              "      <td></td>\n",
              "      <td>0.85</td>\n",
              "      <td></td>\n",
              "      <td></td>\n",
              "      <td></td>\n",
              "      <td></td>\n",
              "    </tr>\n",
              "    <tr>\n",
              "      <th>ocir_obs</th>\n",
              "      <td></td>\n",
              "      <td>0.84</td>\n",
              "      <td></td>\n",
              "      <td></td>\n",
              "      <td></td>\n",
              "      <td></td>\n",
              "    </tr>\n",
              "    <tr>\n",
              "      <th>obq_ict</th>\n",
              "      <td></td>\n",
              "      <td>0.57</td>\n",
              "      <td></td>\n",
              "      <td></td>\n",
              "      <td>0.66</td>\n",
              "      <td></td>\n",
              "    </tr>\n",
              "    <tr>\n",
              "      <th>obq_pc</th>\n",
              "      <td></td>\n",
              "      <td></td>\n",
              "      <td></td>\n",
              "      <td></td>\n",
              "      <td>0.84</td>\n",
              "      <td></td>\n",
              "    </tr>\n",
              "    <tr>\n",
              "      <th>docs_ctm</th>\n",
              "      <td></td>\n",
              "      <td></td>\n",
              "      <td></td>\n",
              "      <td></td>\n",
              "      <td></td>\n",
              "      <td>0.93</td>\n",
              "    </tr>\n",
              "    <tr>\n",
              "      <th>docs_right</th>\n",
              "      <td></td>\n",
              "      <td></td>\n",
              "      <td>0.83</td>\n",
              "      <td></td>\n",
              "      <td></td>\n",
              "      <td></td>\n",
              "    </tr>\n",
              "    <tr>\n",
              "      <th>ocir_hd</th>\n",
              "      <td></td>\n",
              "      <td></td>\n",
              "      <td>0.55</td>\n",
              "      <td></td>\n",
              "      <td></td>\n",
              "      <td></td>\n",
              "    </tr>\n",
              "    <tr>\n",
              "      <th>ocir_neut</th>\n",
              "      <td></td>\n",
              "      <td></td>\n",
              "      <td>0.57</td>\n",
              "      <td></td>\n",
              "      <td></td>\n",
              "      <td></td>\n",
              "    </tr>\n",
              "    <tr>\n",
              "      <th>ocir_ord</th>\n",
              "      <td></td>\n",
              "      <td></td>\n",
              "      <td>0.84</td>\n",
              "      <td></td>\n",
              "      <td></td>\n",
              "      <td></td>\n",
              "    </tr>\n",
              "    <tr>\n",
              "      <th>ocir_ws</th>\n",
              "      <td></td>\n",
              "      <td></td>\n",
              "      <td></td>\n",
              "      <td></td>\n",
              "      <td></td>\n",
              "      <td>0.94</td>\n",
              "    </tr>\n",
              "    <tr>\n",
              "      <th>ybocs_obs</th>\n",
              "      <td></td>\n",
              "      <td></td>\n",
              "      <td></td>\n",
              "      <td>0.83</td>\n",
              "      <td></td>\n",
              "      <td></td>\n",
              "    </tr>\n",
              "    <tr>\n",
              "      <th>ybocs_comp</th>\n",
              "      <td></td>\n",
              "      <td></td>\n",
              "      <td></td>\n",
              "      <td>0.85</td>\n",
              "      <td></td>\n",
              "      <td></td>\n",
              "    </tr>\n",
              "  </tbody>\n",
              "</table>\n",
              "</div>\n",
              "    <div class=\"colab-df-buttons\">\n",
              "\n",
              "  <div class=\"colab-df-container\">\n",
              "    <button class=\"colab-df-convert\" onclick=\"convertToInteractive('df-56a4471a-df00-4cdc-9f62-da0749e0f3d7')\"\n",
              "            title=\"Convert this dataframe to an interactive table.\"\n",
              "            style=\"display:none;\">\n",
              "\n",
              "  <svg xmlns=\"http://www.w3.org/2000/svg\" height=\"24px\" viewBox=\"0 -960 960 960\">\n",
              "    <path d=\"M120-120v-720h720v720H120Zm60-500h600v-160H180v160Zm220 220h160v-160H400v160Zm0 220h160v-160H400v160ZM180-400h160v-160H180v160Zm440 0h160v-160H620v160ZM180-180h160v-160H180v160Zm440 0h160v-160H620v160Z\"/>\n",
              "  </svg>\n",
              "    </button>\n",
              "\n",
              "  <style>\n",
              "    .colab-df-container {\n",
              "      display:flex;\n",
              "      gap: 12px;\n",
              "    }\n",
              "\n",
              "    .colab-df-convert {\n",
              "      background-color: #E8F0FE;\n",
              "      border: none;\n",
              "      border-radius: 50%;\n",
              "      cursor: pointer;\n",
              "      display: none;\n",
              "      fill: #1967D2;\n",
              "      height: 32px;\n",
              "      padding: 0 0 0 0;\n",
              "      width: 32px;\n",
              "    }\n",
              "\n",
              "    .colab-df-convert:hover {\n",
              "      background-color: #E2EBFA;\n",
              "      box-shadow: 0px 1px 2px rgba(60, 64, 67, 0.3), 0px 1px 3px 1px rgba(60, 64, 67, 0.15);\n",
              "      fill: #174EA6;\n",
              "    }\n",
              "\n",
              "    .colab-df-buttons div {\n",
              "      margin-bottom: 4px;\n",
              "    }\n",
              "\n",
              "    [theme=dark] .colab-df-convert {\n",
              "      background-color: #3B4455;\n",
              "      fill: #D2E3FC;\n",
              "    }\n",
              "\n",
              "    [theme=dark] .colab-df-convert:hover {\n",
              "      background-color: #434B5C;\n",
              "      box-shadow: 0px 1px 3px 1px rgba(0, 0, 0, 0.15);\n",
              "      filter: drop-shadow(0px 1px 2px rgba(0, 0, 0, 0.3));\n",
              "      fill: #FFFFFF;\n",
              "    }\n",
              "  </style>\n",
              "\n",
              "    <script>\n",
              "      const buttonEl =\n",
              "        document.querySelector('#df-56a4471a-df00-4cdc-9f62-da0749e0f3d7 button.colab-df-convert');\n",
              "      buttonEl.style.display =\n",
              "        google.colab.kernel.accessAllowed ? 'block' : 'none';\n",
              "\n",
              "      async function convertToInteractive(key) {\n",
              "        const element = document.querySelector('#df-56a4471a-df00-4cdc-9f62-da0749e0f3d7');\n",
              "        const dataTable =\n",
              "          await google.colab.kernel.invokeFunction('convertToInteractive',\n",
              "                                                    [key], {});\n",
              "        if (!dataTable) return;\n",
              "\n",
              "        const docLinkHtml = 'Like what you see? Visit the ' +\n",
              "          '<a target=\"_blank\" href=https://colab.research.google.com/notebooks/data_table.ipynb>data table notebook</a>'\n",
              "          + ' to learn more about interactive tables.';\n",
              "        element.innerHTML = '';\n",
              "        dataTable['output_type'] = 'display_data';\n",
              "        await google.colab.output.renderOutput(dataTable, element);\n",
              "        const docLink = document.createElement('div');\n",
              "        docLink.innerHTML = docLinkHtml;\n",
              "        element.appendChild(docLink);\n",
              "      }\n",
              "    </script>\n",
              "  </div>\n",
              "\n",
              "\n",
              "<div id=\"df-e27ea997-ed64-4ddc-a228-019eb36ec84a\">\n",
              "  <button class=\"colab-df-quickchart\" onclick=\"quickchart('df-e27ea997-ed64-4ddc-a228-019eb36ec84a')\"\n",
              "            title=\"Suggest charts\"\n",
              "            style=\"display:none;\">\n",
              "\n",
              "<svg xmlns=\"http://www.w3.org/2000/svg\" height=\"24px\"viewBox=\"0 0 24 24\"\n",
              "     width=\"24px\">\n",
              "    <g>\n",
              "        <path d=\"M19 3H5c-1.1 0-2 .9-2 2v14c0 1.1.9 2 2 2h14c1.1 0 2-.9 2-2V5c0-1.1-.9-2-2-2zM9 17H7v-7h2v7zm4 0h-2V7h2v10zm4 0h-2v-4h2v4z\"/>\n",
              "    </g>\n",
              "</svg>\n",
              "  </button>\n",
              "\n",
              "<style>\n",
              "  .colab-df-quickchart {\n",
              "      --bg-color: #E8F0FE;\n",
              "      --fill-color: #1967D2;\n",
              "      --hover-bg-color: #E2EBFA;\n",
              "      --hover-fill-color: #174EA6;\n",
              "      --disabled-fill-color: #AAA;\n",
              "      --disabled-bg-color: #DDD;\n",
              "  }\n",
              "\n",
              "  [theme=dark] .colab-df-quickchart {\n",
              "      --bg-color: #3B4455;\n",
              "      --fill-color: #D2E3FC;\n",
              "      --hover-bg-color: #434B5C;\n",
              "      --hover-fill-color: #FFFFFF;\n",
              "      --disabled-bg-color: #3B4455;\n",
              "      --disabled-fill-color: #666;\n",
              "  }\n",
              "\n",
              "  .colab-df-quickchart {\n",
              "    background-color: var(--bg-color);\n",
              "    border: none;\n",
              "    border-radius: 50%;\n",
              "    cursor: pointer;\n",
              "    display: none;\n",
              "    fill: var(--fill-color);\n",
              "    height: 32px;\n",
              "    padding: 0;\n",
              "    width: 32px;\n",
              "  }\n",
              "\n",
              "  .colab-df-quickchart:hover {\n",
              "    background-color: var(--hover-bg-color);\n",
              "    box-shadow: 0 1px 2px rgba(60, 64, 67, 0.3), 0 1px 3px 1px rgba(60, 64, 67, 0.15);\n",
              "    fill: var(--button-hover-fill-color);\n",
              "  }\n",
              "\n",
              "  .colab-df-quickchart-complete:disabled,\n",
              "  .colab-df-quickchart-complete:disabled:hover {\n",
              "    background-color: var(--disabled-bg-color);\n",
              "    fill: var(--disabled-fill-color);\n",
              "    box-shadow: none;\n",
              "  }\n",
              "\n",
              "  .colab-df-spinner {\n",
              "    border: 2px solid var(--fill-color);\n",
              "    border-color: transparent;\n",
              "    border-bottom-color: var(--fill-color);\n",
              "    animation:\n",
              "      spin 1s steps(1) infinite;\n",
              "  }\n",
              "\n",
              "  @keyframes spin {\n",
              "    0% {\n",
              "      border-color: transparent;\n",
              "      border-bottom-color: var(--fill-color);\n",
              "      border-left-color: var(--fill-color);\n",
              "    }\n",
              "    20% {\n",
              "      border-color: transparent;\n",
              "      border-left-color: var(--fill-color);\n",
              "      border-top-color: var(--fill-color);\n",
              "    }\n",
              "    30% {\n",
              "      border-color: transparent;\n",
              "      border-left-color: var(--fill-color);\n",
              "      border-top-color: var(--fill-color);\n",
              "      border-right-color: var(--fill-color);\n",
              "    }\n",
              "    40% {\n",
              "      border-color: transparent;\n",
              "      border-right-color: var(--fill-color);\n",
              "      border-top-color: var(--fill-color);\n",
              "    }\n",
              "    60% {\n",
              "      border-color: transparent;\n",
              "      border-right-color: var(--fill-color);\n",
              "    }\n",
              "    80% {\n",
              "      border-color: transparent;\n",
              "      border-right-color: var(--fill-color);\n",
              "      border-bottom-color: var(--fill-color);\n",
              "    }\n",
              "    90% {\n",
              "      border-color: transparent;\n",
              "      border-bottom-color: var(--fill-color);\n",
              "    }\n",
              "  }\n",
              "</style>\n",
              "\n",
              "  <script>\n",
              "    async function quickchart(key) {\n",
              "      const quickchartButtonEl =\n",
              "        document.querySelector('#' + key + ' button');\n",
              "      quickchartButtonEl.disabled = true;  // To prevent multiple clicks.\n",
              "      quickchartButtonEl.classList.add('colab-df-spinner');\n",
              "      try {\n",
              "        const charts = await google.colab.kernel.invokeFunction(\n",
              "            'suggestCharts', [key], {});\n",
              "      } catch (error) {\n",
              "        console.error('Error during call to suggestCharts:', error);\n",
              "      }\n",
              "      quickchartButtonEl.classList.remove('colab-df-spinner');\n",
              "      quickchartButtonEl.classList.add('colab-df-quickchart-complete');\n",
              "    }\n",
              "    (() => {\n",
              "      let quickchartButtonEl =\n",
              "        document.querySelector('#df-e27ea997-ed64-4ddc-a228-019eb36ec84a button');\n",
              "      quickchartButtonEl.style.display =\n",
              "        google.colab.kernel.accessAllowed ? 'block' : 'none';\n",
              "    })();\n",
              "  </script>\n",
              "</div>\n",
              "    </div>\n",
              "  </div>\n"
            ],
            "application/vnd.google.colaboratory.intrinsic+json": {
              "type": "dataframe",
              "summary": "{\n  \"name\": \"x_comp2\",\n  \"rows\": 15,\n  \"fields\": [\n    {\n      \"column\": \"variable\",\n      \"properties\": {\n        \"dtype\": \"string\",\n        \"num_unique_values\": 15,\n        \"samples\": [\n          \"ocir_hd\",\n          \"ocir_ord\",\n          \"docs_rsp\"\n        ],\n        \"semantic_type\": \"\",\n        \"description\": \"\"\n      }\n    },\n    {\n      \"column\": 0,\n      \"properties\": {\n        \"dtype\": \"category\",\n        \"num_unique_values\": 4,\n        \"samples\": [\n          \"0.69\",\n          \"\",\n          \"0.84\"\n        ],\n        \"semantic_type\": \"\",\n        \"description\": \"\"\n      }\n    },\n    {\n      \"column\": 1,\n      \"properties\": {\n        \"dtype\": \"category\",\n        \"num_unique_values\": 4,\n        \"samples\": [\n          \"0.85\",\n          \"0.57\",\n          \"\"\n        ],\n        \"semantic_type\": \"\",\n        \"description\": \"\"\n      }\n    },\n    {\n      \"column\": 2,\n      \"properties\": {\n        \"dtype\": \"category\",\n        \"num_unique_values\": 5,\n        \"samples\": [\n          \"0.83\",\n          \"0.84\",\n          \"0.55\"\n        ],\n        \"semantic_type\": \"\",\n        \"description\": \"\"\n      }\n    },\n    {\n      \"column\": 3,\n      \"properties\": {\n        \"dtype\": \"category\",\n        \"num_unique_values\": 3,\n        \"samples\": [\n          \"\",\n          \"0.83\",\n          \"0.85\"\n        ],\n        \"semantic_type\": \"\",\n        \"description\": \"\"\n      }\n    },\n    {\n      \"column\": 4,\n      \"properties\": {\n        \"dtype\": \"category\",\n        \"num_unique_values\": 4,\n        \"samples\": [\n          \"0.67\",\n          \"0.84\",\n          \"\"\n        ],\n        \"semantic_type\": \"\",\n        \"description\": \"\"\n      }\n    },\n    {\n      \"column\": 5,\n      \"properties\": {\n        \"dtype\": \"category\",\n        \"num_unique_values\": 3,\n        \"samples\": [\n          \"\",\n          \"0.93\",\n          \"0.94\"\n        ],\n        \"semantic_type\": \"\",\n        \"description\": \"\"\n      }\n    }\n  ]\n}"
            }
          },
          "metadata": {},
          "execution_count": 39
        }
      ]
    },
    {
      "cell_type": "code",
      "source": [
        "pc_scores_rotated = fa.transform(X)"
      ],
      "metadata": {
        "id": "T6Oj1PqcuHgv"
      },
      "execution_count": null,
      "outputs": []
    },
    {
      "cell_type": "markdown",
      "source": [
        "Factor Analysis"
      ],
      "metadata": {
        "id": "A75H-GjySZ5s"
      }
    },
    {
      "cell_type": "code",
      "source": [
        "# 6 factors\n",
        "fa = FactorAnalysis(n_components=6)\n",
        "l = len(X)\n",
        "X_fa = fa.fit(X)"
      ],
      "metadata": {
        "id": "BXf5VZIlSwU6"
      },
      "execution_count": null,
      "outputs": []
    },
    {
      "cell_type": "code",
      "source": [
        "# unrotated factors\n",
        "x_comp = pd.DataFrame(fa.components_.T)\n",
        "x_comp['variable'] = feature_names\n",
        "x_comp1 = pd.DataFrame(x_comp.set_index('variable'))\n",
        "x_comp2 = x_comp1.apply(lambda x: np.where(x.where(x > -.4) < .4,'',round(x,2)))\n",
        "x_comp2.sort_values([0,1], ascending=False)"
      ],
      "metadata": {
        "colab": {
          "base_uri": "https://localhost:8080/",
          "height": 551
        },
        "id": "I_BvX57eS9oG",
        "outputId": "48366593-d227-46fb-87d6-2700f8f80fb8"
      },
      "execution_count": null,
      "outputs": [
        {
          "output_type": "execute_result",
          "data": {
            "text/plain": [
              "               0      1      2      3 4     5\n",
              "variable                                     \n",
              "ocir_ws     0.94                             \n",
              "docs_ctm    0.85                             \n",
              "ybocs_comp  0.45                -0.56        \n",
              "ocir_chk    0.43   -0.4                      \n",
              "ocir_neut   0.42                             \n",
              "obq_rt            -0.68                      \n",
              "obq_ict           -0.65                      \n",
              "obq_pc            -0.58                      \n",
              "docs_rsp          -0.54                  0.47\n",
              "ocir_obs          -0.53  -0.46               \n",
              "docs_unacc        -0.51                      \n",
              "docs_right                 0.6               \n",
              "ocir_hd                                      \n",
              "ocir_ord                  0.64               \n",
              "ybocs_obs                       -0.61        "
            ],
            "text/html": [
              "\n",
              "  <div id=\"df-42faad79-2909-4922-a314-d2a6012e9838\" class=\"colab-df-container\">\n",
              "    <div>\n",
              "<style scoped>\n",
              "    .dataframe tbody tr th:only-of-type {\n",
              "        vertical-align: middle;\n",
              "    }\n",
              "\n",
              "    .dataframe tbody tr th {\n",
              "        vertical-align: top;\n",
              "    }\n",
              "\n",
              "    .dataframe thead th {\n",
              "        text-align: right;\n",
              "    }\n",
              "</style>\n",
              "<table border=\"1\" class=\"dataframe\">\n",
              "  <thead>\n",
              "    <tr style=\"text-align: right;\">\n",
              "      <th></th>\n",
              "      <th>0</th>\n",
              "      <th>1</th>\n",
              "      <th>2</th>\n",
              "      <th>3</th>\n",
              "      <th>4</th>\n",
              "      <th>5</th>\n",
              "    </tr>\n",
              "    <tr>\n",
              "      <th>variable</th>\n",
              "      <th></th>\n",
              "      <th></th>\n",
              "      <th></th>\n",
              "      <th></th>\n",
              "      <th></th>\n",
              "      <th></th>\n",
              "    </tr>\n",
              "  </thead>\n",
              "  <tbody>\n",
              "    <tr>\n",
              "      <th>ocir_ws</th>\n",
              "      <td>0.94</td>\n",
              "      <td></td>\n",
              "      <td></td>\n",
              "      <td></td>\n",
              "      <td></td>\n",
              "      <td></td>\n",
              "    </tr>\n",
              "    <tr>\n",
              "      <th>docs_ctm</th>\n",
              "      <td>0.85</td>\n",
              "      <td></td>\n",
              "      <td></td>\n",
              "      <td></td>\n",
              "      <td></td>\n",
              "      <td></td>\n",
              "    </tr>\n",
              "    <tr>\n",
              "      <th>ybocs_comp</th>\n",
              "      <td>0.45</td>\n",
              "      <td></td>\n",
              "      <td></td>\n",
              "      <td>-0.56</td>\n",
              "      <td></td>\n",
              "      <td></td>\n",
              "    </tr>\n",
              "    <tr>\n",
              "      <th>ocir_chk</th>\n",
              "      <td>0.43</td>\n",
              "      <td>-0.4</td>\n",
              "      <td></td>\n",
              "      <td></td>\n",
              "      <td></td>\n",
              "      <td></td>\n",
              "    </tr>\n",
              "    <tr>\n",
              "      <th>ocir_neut</th>\n",
              "      <td>0.42</td>\n",
              "      <td></td>\n",
              "      <td></td>\n",
              "      <td></td>\n",
              "      <td></td>\n",
              "      <td></td>\n",
              "    </tr>\n",
              "    <tr>\n",
              "      <th>obq_rt</th>\n",
              "      <td></td>\n",
              "      <td>-0.68</td>\n",
              "      <td></td>\n",
              "      <td></td>\n",
              "      <td></td>\n",
              "      <td></td>\n",
              "    </tr>\n",
              "    <tr>\n",
              "      <th>obq_ict</th>\n",
              "      <td></td>\n",
              "      <td>-0.65</td>\n",
              "      <td></td>\n",
              "      <td></td>\n",
              "      <td></td>\n",
              "      <td></td>\n",
              "    </tr>\n",
              "    <tr>\n",
              "      <th>obq_pc</th>\n",
              "      <td></td>\n",
              "      <td>-0.58</td>\n",
              "      <td></td>\n",
              "      <td></td>\n",
              "      <td></td>\n",
              "      <td></td>\n",
              "    </tr>\n",
              "    <tr>\n",
              "      <th>docs_rsp</th>\n",
              "      <td></td>\n",
              "      <td>-0.54</td>\n",
              "      <td></td>\n",
              "      <td></td>\n",
              "      <td></td>\n",
              "      <td>0.47</td>\n",
              "    </tr>\n",
              "    <tr>\n",
              "      <th>ocir_obs</th>\n",
              "      <td></td>\n",
              "      <td>-0.53</td>\n",
              "      <td>-0.46</td>\n",
              "      <td></td>\n",
              "      <td></td>\n",
              "      <td></td>\n",
              "    </tr>\n",
              "    <tr>\n",
              "      <th>docs_unacc</th>\n",
              "      <td></td>\n",
              "      <td>-0.51</td>\n",
              "      <td></td>\n",
              "      <td></td>\n",
              "      <td></td>\n",
              "      <td></td>\n",
              "    </tr>\n",
              "    <tr>\n",
              "      <th>docs_right</th>\n",
              "      <td></td>\n",
              "      <td></td>\n",
              "      <td>0.6</td>\n",
              "      <td></td>\n",
              "      <td></td>\n",
              "      <td></td>\n",
              "    </tr>\n",
              "    <tr>\n",
              "      <th>ocir_hd</th>\n",
              "      <td></td>\n",
              "      <td></td>\n",
              "      <td></td>\n",
              "      <td></td>\n",
              "      <td></td>\n",
              "      <td></td>\n",
              "    </tr>\n",
              "    <tr>\n",
              "      <th>ocir_ord</th>\n",
              "      <td></td>\n",
              "      <td></td>\n",
              "      <td>0.64</td>\n",
              "      <td></td>\n",
              "      <td></td>\n",
              "      <td></td>\n",
              "    </tr>\n",
              "    <tr>\n",
              "      <th>ybocs_obs</th>\n",
              "      <td></td>\n",
              "      <td></td>\n",
              "      <td></td>\n",
              "      <td>-0.61</td>\n",
              "      <td></td>\n",
              "      <td></td>\n",
              "    </tr>\n",
              "  </tbody>\n",
              "</table>\n",
              "</div>\n",
              "    <div class=\"colab-df-buttons\">\n",
              "\n",
              "  <div class=\"colab-df-container\">\n",
              "    <button class=\"colab-df-convert\" onclick=\"convertToInteractive('df-42faad79-2909-4922-a314-d2a6012e9838')\"\n",
              "            title=\"Convert this dataframe to an interactive table.\"\n",
              "            style=\"display:none;\">\n",
              "\n",
              "  <svg xmlns=\"http://www.w3.org/2000/svg\" height=\"24px\" viewBox=\"0 -960 960 960\">\n",
              "    <path d=\"M120-120v-720h720v720H120Zm60-500h600v-160H180v160Zm220 220h160v-160H400v160Zm0 220h160v-160H400v160ZM180-400h160v-160H180v160Zm440 0h160v-160H620v160ZM180-180h160v-160H180v160Zm440 0h160v-160H620v160Z\"/>\n",
              "  </svg>\n",
              "    </button>\n",
              "\n",
              "  <style>\n",
              "    .colab-df-container {\n",
              "      display:flex;\n",
              "      gap: 12px;\n",
              "    }\n",
              "\n",
              "    .colab-df-convert {\n",
              "      background-color: #E8F0FE;\n",
              "      border: none;\n",
              "      border-radius: 50%;\n",
              "      cursor: pointer;\n",
              "      display: none;\n",
              "      fill: #1967D2;\n",
              "      height: 32px;\n",
              "      padding: 0 0 0 0;\n",
              "      width: 32px;\n",
              "    }\n",
              "\n",
              "    .colab-df-convert:hover {\n",
              "      background-color: #E2EBFA;\n",
              "      box-shadow: 0px 1px 2px rgba(60, 64, 67, 0.3), 0px 1px 3px 1px rgba(60, 64, 67, 0.15);\n",
              "      fill: #174EA6;\n",
              "    }\n",
              "\n",
              "    .colab-df-buttons div {\n",
              "      margin-bottom: 4px;\n",
              "    }\n",
              "\n",
              "    [theme=dark] .colab-df-convert {\n",
              "      background-color: #3B4455;\n",
              "      fill: #D2E3FC;\n",
              "    }\n",
              "\n",
              "    [theme=dark] .colab-df-convert:hover {\n",
              "      background-color: #434B5C;\n",
              "      box-shadow: 0px 1px 3px 1px rgba(0, 0, 0, 0.15);\n",
              "      filter: drop-shadow(0px 1px 2px rgba(0, 0, 0, 0.3));\n",
              "      fill: #FFFFFF;\n",
              "    }\n",
              "  </style>\n",
              "\n",
              "    <script>\n",
              "      const buttonEl =\n",
              "        document.querySelector('#df-42faad79-2909-4922-a314-d2a6012e9838 button.colab-df-convert');\n",
              "      buttonEl.style.display =\n",
              "        google.colab.kernel.accessAllowed ? 'block' : 'none';\n",
              "\n",
              "      async function convertToInteractive(key) {\n",
              "        const element = document.querySelector('#df-42faad79-2909-4922-a314-d2a6012e9838');\n",
              "        const dataTable =\n",
              "          await google.colab.kernel.invokeFunction('convertToInteractive',\n",
              "                                                    [key], {});\n",
              "        if (!dataTable) return;\n",
              "\n",
              "        const docLinkHtml = 'Like what you see? Visit the ' +\n",
              "          '<a target=\"_blank\" href=https://colab.research.google.com/notebooks/data_table.ipynb>data table notebook</a>'\n",
              "          + ' to learn more about interactive tables.';\n",
              "        element.innerHTML = '';\n",
              "        dataTable['output_type'] = 'display_data';\n",
              "        await google.colab.output.renderOutput(dataTable, element);\n",
              "        const docLink = document.createElement('div');\n",
              "        docLink.innerHTML = docLinkHtml;\n",
              "        element.appendChild(docLink);\n",
              "      }\n",
              "    </script>\n",
              "  </div>\n",
              "\n",
              "\n",
              "<div id=\"df-6c516642-f435-436f-bf82-6a3a949efa31\">\n",
              "  <button class=\"colab-df-quickchart\" onclick=\"quickchart('df-6c516642-f435-436f-bf82-6a3a949efa31')\"\n",
              "            title=\"Suggest charts\"\n",
              "            style=\"display:none;\">\n",
              "\n",
              "<svg xmlns=\"http://www.w3.org/2000/svg\" height=\"24px\"viewBox=\"0 0 24 24\"\n",
              "     width=\"24px\">\n",
              "    <g>\n",
              "        <path d=\"M19 3H5c-1.1 0-2 .9-2 2v14c0 1.1.9 2 2 2h14c1.1 0 2-.9 2-2V5c0-1.1-.9-2-2-2zM9 17H7v-7h2v7zm4 0h-2V7h2v10zm4 0h-2v-4h2v4z\"/>\n",
              "    </g>\n",
              "</svg>\n",
              "  </button>\n",
              "\n",
              "<style>\n",
              "  .colab-df-quickchart {\n",
              "      --bg-color: #E8F0FE;\n",
              "      --fill-color: #1967D2;\n",
              "      --hover-bg-color: #E2EBFA;\n",
              "      --hover-fill-color: #174EA6;\n",
              "      --disabled-fill-color: #AAA;\n",
              "      --disabled-bg-color: #DDD;\n",
              "  }\n",
              "\n",
              "  [theme=dark] .colab-df-quickchart {\n",
              "      --bg-color: #3B4455;\n",
              "      --fill-color: #D2E3FC;\n",
              "      --hover-bg-color: #434B5C;\n",
              "      --hover-fill-color: #FFFFFF;\n",
              "      --disabled-bg-color: #3B4455;\n",
              "      --disabled-fill-color: #666;\n",
              "  }\n",
              "\n",
              "  .colab-df-quickchart {\n",
              "    background-color: var(--bg-color);\n",
              "    border: none;\n",
              "    border-radius: 50%;\n",
              "    cursor: pointer;\n",
              "    display: none;\n",
              "    fill: var(--fill-color);\n",
              "    height: 32px;\n",
              "    padding: 0;\n",
              "    width: 32px;\n",
              "  }\n",
              "\n",
              "  .colab-df-quickchart:hover {\n",
              "    background-color: var(--hover-bg-color);\n",
              "    box-shadow: 0 1px 2px rgba(60, 64, 67, 0.3), 0 1px 3px 1px rgba(60, 64, 67, 0.15);\n",
              "    fill: var(--button-hover-fill-color);\n",
              "  }\n",
              "\n",
              "  .colab-df-quickchart-complete:disabled,\n",
              "  .colab-df-quickchart-complete:disabled:hover {\n",
              "    background-color: var(--disabled-bg-color);\n",
              "    fill: var(--disabled-fill-color);\n",
              "    box-shadow: none;\n",
              "  }\n",
              "\n",
              "  .colab-df-spinner {\n",
              "    border: 2px solid var(--fill-color);\n",
              "    border-color: transparent;\n",
              "    border-bottom-color: var(--fill-color);\n",
              "    animation:\n",
              "      spin 1s steps(1) infinite;\n",
              "  }\n",
              "\n",
              "  @keyframes spin {\n",
              "    0% {\n",
              "      border-color: transparent;\n",
              "      border-bottom-color: var(--fill-color);\n",
              "      border-left-color: var(--fill-color);\n",
              "    }\n",
              "    20% {\n",
              "      border-color: transparent;\n",
              "      border-left-color: var(--fill-color);\n",
              "      border-top-color: var(--fill-color);\n",
              "    }\n",
              "    30% {\n",
              "      border-color: transparent;\n",
              "      border-left-color: var(--fill-color);\n",
              "      border-top-color: var(--fill-color);\n",
              "      border-right-color: var(--fill-color);\n",
              "    }\n",
              "    40% {\n",
              "      border-color: transparent;\n",
              "      border-right-color: var(--fill-color);\n",
              "      border-top-color: var(--fill-color);\n",
              "    }\n",
              "    60% {\n",
              "      border-color: transparent;\n",
              "      border-right-color: var(--fill-color);\n",
              "    }\n",
              "    80% {\n",
              "      border-color: transparent;\n",
              "      border-right-color: var(--fill-color);\n",
              "      border-bottom-color: var(--fill-color);\n",
              "    }\n",
              "    90% {\n",
              "      border-color: transparent;\n",
              "      border-bottom-color: var(--fill-color);\n",
              "    }\n",
              "  }\n",
              "</style>\n",
              "\n",
              "  <script>\n",
              "    async function quickchart(key) {\n",
              "      const quickchartButtonEl =\n",
              "        document.querySelector('#' + key + ' button');\n",
              "      quickchartButtonEl.disabled = true;  // To prevent multiple clicks.\n",
              "      quickchartButtonEl.classList.add('colab-df-spinner');\n",
              "      try {\n",
              "        const charts = await google.colab.kernel.invokeFunction(\n",
              "            'suggestCharts', [key], {});\n",
              "      } catch (error) {\n",
              "        console.error('Error during call to suggestCharts:', error);\n",
              "      }\n",
              "      quickchartButtonEl.classList.remove('colab-df-spinner');\n",
              "      quickchartButtonEl.classList.add('colab-df-quickchart-complete');\n",
              "    }\n",
              "    (() => {\n",
              "      let quickchartButtonEl =\n",
              "        document.querySelector('#df-6c516642-f435-436f-bf82-6a3a949efa31 button');\n",
              "      quickchartButtonEl.style.display =\n",
              "        google.colab.kernel.accessAllowed ? 'block' : 'none';\n",
              "    })();\n",
              "  </script>\n",
              "</div>\n",
              "    </div>\n",
              "  </div>\n"
            ],
            "application/vnd.google.colaboratory.intrinsic+json": {
              "type": "dataframe",
              "summary": "{\n  \"name\": \"x_comp2\",\n  \"rows\": 15,\n  \"fields\": [\n    {\n      \"column\": \"variable\",\n      \"properties\": {\n        \"dtype\": \"string\",\n        \"num_unique_values\": 15,\n        \"samples\": [\n          \"ocir_obs\",\n          \"docs_right\",\n          \"ocir_ws\"\n        ],\n        \"semantic_type\": \"\",\n        \"description\": \"\"\n      }\n    },\n    {\n      \"column\": 0,\n      \"properties\": {\n        \"dtype\": \"category\",\n        \"num_unique_values\": 6,\n        \"samples\": [\n          \"0.94\",\n          \"0.85\",\n          \"\"\n        ],\n        \"semantic_type\": \"\",\n        \"description\": \"\"\n      }\n    },\n    {\n      \"column\": 1,\n      \"properties\": {\n        \"dtype\": \"string\",\n        \"num_unique_values\": 8,\n        \"samples\": [\n          \"-0.4\",\n          \"-0.54\",\n          \"\"\n        ],\n        \"semantic_type\": \"\",\n        \"description\": \"\"\n      }\n    },\n    {\n      \"column\": 2,\n      \"properties\": {\n        \"dtype\": \"category\",\n        \"num_unique_values\": 4,\n        \"samples\": [\n          \"-0.46\",\n          \"0.64\",\n          \"\"\n        ],\n        \"semantic_type\": \"\",\n        \"description\": \"\"\n      }\n    },\n    {\n      \"column\": 3,\n      \"properties\": {\n        \"dtype\": \"category\",\n        \"num_unique_values\": 3,\n        \"samples\": [\n          \"\",\n          \"-0.56\",\n          \"-0.61\"\n        ],\n        \"semantic_type\": \"\",\n        \"description\": \"\"\n      }\n    },\n    {\n      \"column\": 4,\n      \"properties\": {\n        \"dtype\": \"object\",\n        \"num_unique_values\": 1,\n        \"samples\": [\n          \"\"\n        ],\n        \"semantic_type\": \"\",\n        \"description\": \"\"\n      }\n    },\n    {\n      \"column\": 5,\n      \"properties\": {\n        \"dtype\": \"category\",\n        \"num_unique_values\": 2,\n        \"samples\": [\n          \"0.47\"\n        ],\n        \"semantic_type\": \"\",\n        \"description\": \"\"\n      }\n    }\n  ]\n}"
            }
          },
          "metadata": {},
          "execution_count": 42
        }
      ]
    },
    {
      "cell_type": "code",
      "source": [
        "# 6 factors\n",
        "fa = FactorAnalysis(n_components=6,rotation ='varimax')\n",
        "l = len(X)\n",
        "X_fa = fa.fit(X)"
      ],
      "metadata": {
        "id": "PIxg2hitUEC5"
      },
      "execution_count": null,
      "outputs": []
    },
    {
      "cell_type": "code",
      "source": [
        "# rotated factors\n",
        "x_comp = pd.DataFrame(fa.components_.T)\n",
        "x_comp['variable'] = feature_names\n",
        "x_comp1 = pd.DataFrame(x_comp.set_index('variable'))\n",
        "x_comp2 = x_comp1.apply(lambda x: np.where(x.where(x > -.4) < .4,'',round(x,2)))\n",
        "x_comp2.sort_values([0,1], ascending=False)"
      ],
      "metadata": {
        "colab": {
          "base_uri": "https://localhost:8080/",
          "height": 551
        },
        "id": "AoSmMopMUHVq",
        "outputId": "2409272b-114f-4caf-be85-2c447be652da"
      },
      "execution_count": null,
      "outputs": [
        {
          "output_type": "execute_result",
          "data": {
            "text/plain": [
              "               0      1     2      3      4     5\n",
              "variable                                         \n",
              "ocir_ws     0.96                                 \n",
              "docs_ctm    0.87                                 \n",
              "obq_pc            -0.75                          \n",
              "obq_rt            -0.72                      0.46\n",
              "obq_ict           -0.63               -0.51      \n",
              "docs_rsp                                     0.72\n",
              "docs_unacc                             -0.7      \n",
              "docs_right               0.74                    \n",
              "ocir_chk                 0.42                0.46\n",
              "ocir_hd                   0.4                    \n",
              "ocir_neut                0.46                    \n",
              "ocir_obs                               -0.8      \n",
              "ocir_ord                  0.8                    \n",
              "ybocs_obs                      -0.77             \n",
              "ybocs_comp                     -0.73             "
            ],
            "text/html": [
              "\n",
              "  <div id=\"df-2e3e6730-a2e7-4872-842a-8c3a3bce3c48\" class=\"colab-df-container\">\n",
              "    <div>\n",
              "<style scoped>\n",
              "    .dataframe tbody tr th:only-of-type {\n",
              "        vertical-align: middle;\n",
              "    }\n",
              "\n",
              "    .dataframe tbody tr th {\n",
              "        vertical-align: top;\n",
              "    }\n",
              "\n",
              "    .dataframe thead th {\n",
              "        text-align: right;\n",
              "    }\n",
              "</style>\n",
              "<table border=\"1\" class=\"dataframe\">\n",
              "  <thead>\n",
              "    <tr style=\"text-align: right;\">\n",
              "      <th></th>\n",
              "      <th>0</th>\n",
              "      <th>1</th>\n",
              "      <th>2</th>\n",
              "      <th>3</th>\n",
              "      <th>4</th>\n",
              "      <th>5</th>\n",
              "    </tr>\n",
              "    <tr>\n",
              "      <th>variable</th>\n",
              "      <th></th>\n",
              "      <th></th>\n",
              "      <th></th>\n",
              "      <th></th>\n",
              "      <th></th>\n",
              "      <th></th>\n",
              "    </tr>\n",
              "  </thead>\n",
              "  <tbody>\n",
              "    <tr>\n",
              "      <th>ocir_ws</th>\n",
              "      <td>0.96</td>\n",
              "      <td></td>\n",
              "      <td></td>\n",
              "      <td></td>\n",
              "      <td></td>\n",
              "      <td></td>\n",
              "    </tr>\n",
              "    <tr>\n",
              "      <th>docs_ctm</th>\n",
              "      <td>0.87</td>\n",
              "      <td></td>\n",
              "      <td></td>\n",
              "      <td></td>\n",
              "      <td></td>\n",
              "      <td></td>\n",
              "    </tr>\n",
              "    <tr>\n",
              "      <th>obq_pc</th>\n",
              "      <td></td>\n",
              "      <td>-0.75</td>\n",
              "      <td></td>\n",
              "      <td></td>\n",
              "      <td></td>\n",
              "      <td></td>\n",
              "    </tr>\n",
              "    <tr>\n",
              "      <th>obq_rt</th>\n",
              "      <td></td>\n",
              "      <td>-0.72</td>\n",
              "      <td></td>\n",
              "      <td></td>\n",
              "      <td></td>\n",
              "      <td>0.46</td>\n",
              "    </tr>\n",
              "    <tr>\n",
              "      <th>obq_ict</th>\n",
              "      <td></td>\n",
              "      <td>-0.63</td>\n",
              "      <td></td>\n",
              "      <td></td>\n",
              "      <td>-0.51</td>\n",
              "      <td></td>\n",
              "    </tr>\n",
              "    <tr>\n",
              "      <th>docs_rsp</th>\n",
              "      <td></td>\n",
              "      <td></td>\n",
              "      <td></td>\n",
              "      <td></td>\n",
              "      <td></td>\n",
              "      <td>0.72</td>\n",
              "    </tr>\n",
              "    <tr>\n",
              "      <th>docs_unacc</th>\n",
              "      <td></td>\n",
              "      <td></td>\n",
              "      <td></td>\n",
              "      <td></td>\n",
              "      <td>-0.7</td>\n",
              "      <td></td>\n",
              "    </tr>\n",
              "    <tr>\n",
              "      <th>docs_right</th>\n",
              "      <td></td>\n",
              "      <td></td>\n",
              "      <td>0.74</td>\n",
              "      <td></td>\n",
              "      <td></td>\n",
              "      <td></td>\n",
              "    </tr>\n",
              "    <tr>\n",
              "      <th>ocir_chk</th>\n",
              "      <td></td>\n",
              "      <td></td>\n",
              "      <td>0.42</td>\n",
              "      <td></td>\n",
              "      <td></td>\n",
              "      <td>0.46</td>\n",
              "    </tr>\n",
              "    <tr>\n",
              "      <th>ocir_hd</th>\n",
              "      <td></td>\n",
              "      <td></td>\n",
              "      <td>0.4</td>\n",
              "      <td></td>\n",
              "      <td></td>\n",
              "      <td></td>\n",
              "    </tr>\n",
              "    <tr>\n",
              "      <th>ocir_neut</th>\n",
              "      <td></td>\n",
              "      <td></td>\n",
              "      <td>0.46</td>\n",
              "      <td></td>\n",
              "      <td></td>\n",
              "      <td></td>\n",
              "    </tr>\n",
              "    <tr>\n",
              "      <th>ocir_obs</th>\n",
              "      <td></td>\n",
              "      <td></td>\n",
              "      <td></td>\n",
              "      <td></td>\n",
              "      <td>-0.8</td>\n",
              "      <td></td>\n",
              "    </tr>\n",
              "    <tr>\n",
              "      <th>ocir_ord</th>\n",
              "      <td></td>\n",
              "      <td></td>\n",
              "      <td>0.8</td>\n",
              "      <td></td>\n",
              "      <td></td>\n",
              "      <td></td>\n",
              "    </tr>\n",
              "    <tr>\n",
              "      <th>ybocs_obs</th>\n",
              "      <td></td>\n",
              "      <td></td>\n",
              "      <td></td>\n",
              "      <td>-0.77</td>\n",
              "      <td></td>\n",
              "      <td></td>\n",
              "    </tr>\n",
              "    <tr>\n",
              "      <th>ybocs_comp</th>\n",
              "      <td></td>\n",
              "      <td></td>\n",
              "      <td></td>\n",
              "      <td>-0.73</td>\n",
              "      <td></td>\n",
              "      <td></td>\n",
              "    </tr>\n",
              "  </tbody>\n",
              "</table>\n",
              "</div>\n",
              "    <div class=\"colab-df-buttons\">\n",
              "\n",
              "  <div class=\"colab-df-container\">\n",
              "    <button class=\"colab-df-convert\" onclick=\"convertToInteractive('df-2e3e6730-a2e7-4872-842a-8c3a3bce3c48')\"\n",
              "            title=\"Convert this dataframe to an interactive table.\"\n",
              "            style=\"display:none;\">\n",
              "\n",
              "  <svg xmlns=\"http://www.w3.org/2000/svg\" height=\"24px\" viewBox=\"0 -960 960 960\">\n",
              "    <path d=\"M120-120v-720h720v720H120Zm60-500h600v-160H180v160Zm220 220h160v-160H400v160Zm0 220h160v-160H400v160ZM180-400h160v-160H180v160Zm440 0h160v-160H620v160ZM180-180h160v-160H180v160Zm440 0h160v-160H620v160Z\"/>\n",
              "  </svg>\n",
              "    </button>\n",
              "\n",
              "  <style>\n",
              "    .colab-df-container {\n",
              "      display:flex;\n",
              "      gap: 12px;\n",
              "    }\n",
              "\n",
              "    .colab-df-convert {\n",
              "      background-color: #E8F0FE;\n",
              "      border: none;\n",
              "      border-radius: 50%;\n",
              "      cursor: pointer;\n",
              "      display: none;\n",
              "      fill: #1967D2;\n",
              "      height: 32px;\n",
              "      padding: 0 0 0 0;\n",
              "      width: 32px;\n",
              "    }\n",
              "\n",
              "    .colab-df-convert:hover {\n",
              "      background-color: #E2EBFA;\n",
              "      box-shadow: 0px 1px 2px rgba(60, 64, 67, 0.3), 0px 1px 3px 1px rgba(60, 64, 67, 0.15);\n",
              "      fill: #174EA6;\n",
              "    }\n",
              "\n",
              "    .colab-df-buttons div {\n",
              "      margin-bottom: 4px;\n",
              "    }\n",
              "\n",
              "    [theme=dark] .colab-df-convert {\n",
              "      background-color: #3B4455;\n",
              "      fill: #D2E3FC;\n",
              "    }\n",
              "\n",
              "    [theme=dark] .colab-df-convert:hover {\n",
              "      background-color: #434B5C;\n",
              "      box-shadow: 0px 1px 3px 1px rgba(0, 0, 0, 0.15);\n",
              "      filter: drop-shadow(0px 1px 2px rgba(0, 0, 0, 0.3));\n",
              "      fill: #FFFFFF;\n",
              "    }\n",
              "  </style>\n",
              "\n",
              "    <script>\n",
              "      const buttonEl =\n",
              "        document.querySelector('#df-2e3e6730-a2e7-4872-842a-8c3a3bce3c48 button.colab-df-convert');\n",
              "      buttonEl.style.display =\n",
              "        google.colab.kernel.accessAllowed ? 'block' : 'none';\n",
              "\n",
              "      async function convertToInteractive(key) {\n",
              "        const element = document.querySelector('#df-2e3e6730-a2e7-4872-842a-8c3a3bce3c48');\n",
              "        const dataTable =\n",
              "          await google.colab.kernel.invokeFunction('convertToInteractive',\n",
              "                                                    [key], {});\n",
              "        if (!dataTable) return;\n",
              "\n",
              "        const docLinkHtml = 'Like what you see? Visit the ' +\n",
              "          '<a target=\"_blank\" href=https://colab.research.google.com/notebooks/data_table.ipynb>data table notebook</a>'\n",
              "          + ' to learn more about interactive tables.';\n",
              "        element.innerHTML = '';\n",
              "        dataTable['output_type'] = 'display_data';\n",
              "        await google.colab.output.renderOutput(dataTable, element);\n",
              "        const docLink = document.createElement('div');\n",
              "        docLink.innerHTML = docLinkHtml;\n",
              "        element.appendChild(docLink);\n",
              "      }\n",
              "    </script>\n",
              "  </div>\n",
              "\n",
              "\n",
              "<div id=\"df-01e14fed-dd18-40ee-8c25-56f971cbf437\">\n",
              "  <button class=\"colab-df-quickchart\" onclick=\"quickchart('df-01e14fed-dd18-40ee-8c25-56f971cbf437')\"\n",
              "            title=\"Suggest charts\"\n",
              "            style=\"display:none;\">\n",
              "\n",
              "<svg xmlns=\"http://www.w3.org/2000/svg\" height=\"24px\"viewBox=\"0 0 24 24\"\n",
              "     width=\"24px\">\n",
              "    <g>\n",
              "        <path d=\"M19 3H5c-1.1 0-2 .9-2 2v14c0 1.1.9 2 2 2h14c1.1 0 2-.9 2-2V5c0-1.1-.9-2-2-2zM9 17H7v-7h2v7zm4 0h-2V7h2v10zm4 0h-2v-4h2v4z\"/>\n",
              "    </g>\n",
              "</svg>\n",
              "  </button>\n",
              "\n",
              "<style>\n",
              "  .colab-df-quickchart {\n",
              "      --bg-color: #E8F0FE;\n",
              "      --fill-color: #1967D2;\n",
              "      --hover-bg-color: #E2EBFA;\n",
              "      --hover-fill-color: #174EA6;\n",
              "      --disabled-fill-color: #AAA;\n",
              "      --disabled-bg-color: #DDD;\n",
              "  }\n",
              "\n",
              "  [theme=dark] .colab-df-quickchart {\n",
              "      --bg-color: #3B4455;\n",
              "      --fill-color: #D2E3FC;\n",
              "      --hover-bg-color: #434B5C;\n",
              "      --hover-fill-color: #FFFFFF;\n",
              "      --disabled-bg-color: #3B4455;\n",
              "      --disabled-fill-color: #666;\n",
              "  }\n",
              "\n",
              "  .colab-df-quickchart {\n",
              "    background-color: var(--bg-color);\n",
              "    border: none;\n",
              "    border-radius: 50%;\n",
              "    cursor: pointer;\n",
              "    display: none;\n",
              "    fill: var(--fill-color);\n",
              "    height: 32px;\n",
              "    padding: 0;\n",
              "    width: 32px;\n",
              "  }\n",
              "\n",
              "  .colab-df-quickchart:hover {\n",
              "    background-color: var(--hover-bg-color);\n",
              "    box-shadow: 0 1px 2px rgba(60, 64, 67, 0.3), 0 1px 3px 1px rgba(60, 64, 67, 0.15);\n",
              "    fill: var(--button-hover-fill-color);\n",
              "  }\n",
              "\n",
              "  .colab-df-quickchart-complete:disabled,\n",
              "  .colab-df-quickchart-complete:disabled:hover {\n",
              "    background-color: var(--disabled-bg-color);\n",
              "    fill: var(--disabled-fill-color);\n",
              "    box-shadow: none;\n",
              "  }\n",
              "\n",
              "  .colab-df-spinner {\n",
              "    border: 2px solid var(--fill-color);\n",
              "    border-color: transparent;\n",
              "    border-bottom-color: var(--fill-color);\n",
              "    animation:\n",
              "      spin 1s steps(1) infinite;\n",
              "  }\n",
              "\n",
              "  @keyframes spin {\n",
              "    0% {\n",
              "      border-color: transparent;\n",
              "      border-bottom-color: var(--fill-color);\n",
              "      border-left-color: var(--fill-color);\n",
              "    }\n",
              "    20% {\n",
              "      border-color: transparent;\n",
              "      border-left-color: var(--fill-color);\n",
              "      border-top-color: var(--fill-color);\n",
              "    }\n",
              "    30% {\n",
              "      border-color: transparent;\n",
              "      border-left-color: var(--fill-color);\n",
              "      border-top-color: var(--fill-color);\n",
              "      border-right-color: var(--fill-color);\n",
              "    }\n",
              "    40% {\n",
              "      border-color: transparent;\n",
              "      border-right-color: var(--fill-color);\n",
              "      border-top-color: var(--fill-color);\n",
              "    }\n",
              "    60% {\n",
              "      border-color: transparent;\n",
              "      border-right-color: var(--fill-color);\n",
              "    }\n",
              "    80% {\n",
              "      border-color: transparent;\n",
              "      border-right-color: var(--fill-color);\n",
              "      border-bottom-color: var(--fill-color);\n",
              "    }\n",
              "    90% {\n",
              "      border-color: transparent;\n",
              "      border-bottom-color: var(--fill-color);\n",
              "    }\n",
              "  }\n",
              "</style>\n",
              "\n",
              "  <script>\n",
              "    async function quickchart(key) {\n",
              "      const quickchartButtonEl =\n",
              "        document.querySelector('#' + key + ' button');\n",
              "      quickchartButtonEl.disabled = true;  // To prevent multiple clicks.\n",
              "      quickchartButtonEl.classList.add('colab-df-spinner');\n",
              "      try {\n",
              "        const charts = await google.colab.kernel.invokeFunction(\n",
              "            'suggestCharts', [key], {});\n",
              "      } catch (error) {\n",
              "        console.error('Error during call to suggestCharts:', error);\n",
              "      }\n",
              "      quickchartButtonEl.classList.remove('colab-df-spinner');\n",
              "      quickchartButtonEl.classList.add('colab-df-quickchart-complete');\n",
              "    }\n",
              "    (() => {\n",
              "      let quickchartButtonEl =\n",
              "        document.querySelector('#df-01e14fed-dd18-40ee-8c25-56f971cbf437 button');\n",
              "      quickchartButtonEl.style.display =\n",
              "        google.colab.kernel.accessAllowed ? 'block' : 'none';\n",
              "    })();\n",
              "  </script>\n",
              "</div>\n",
              "    </div>\n",
              "  </div>\n"
            ],
            "application/vnd.google.colaboratory.intrinsic+json": {
              "type": "dataframe",
              "summary": "{\n  \"name\": \"x_comp2\",\n  \"rows\": 15,\n  \"fields\": [\n    {\n      \"column\": \"variable\",\n      \"properties\": {\n        \"dtype\": \"string\",\n        \"num_unique_values\": 15,\n        \"samples\": [\n          \"ocir_hd\",\n          \"ocir_obs\",\n          \"ocir_ws\"\n        ],\n        \"semantic_type\": \"\",\n        \"description\": \"\"\n      }\n    },\n    {\n      \"column\": 0,\n      \"properties\": {\n        \"dtype\": \"category\",\n        \"num_unique_values\": 3,\n        \"samples\": [\n          \"0.96\",\n          \"0.87\",\n          \"\"\n        ],\n        \"semantic_type\": \"\",\n        \"description\": \"\"\n      }\n    },\n    {\n      \"column\": 1,\n      \"properties\": {\n        \"dtype\": \"category\",\n        \"num_unique_values\": 4,\n        \"samples\": [\n          \"-0.75\",\n          \"-0.63\",\n          \"\"\n        ],\n        \"semantic_type\": \"\",\n        \"description\": \"\"\n      }\n    },\n    {\n      \"column\": 2,\n      \"properties\": {\n        \"dtype\": \"category\",\n        \"num_unique_values\": 6,\n        \"samples\": [\n          \"\",\n          \"0.74\",\n          \"0.8\"\n        ],\n        \"semantic_type\": \"\",\n        \"description\": \"\"\n      }\n    },\n    {\n      \"column\": 3,\n      \"properties\": {\n        \"dtype\": \"category\",\n        \"num_unique_values\": 3,\n        \"samples\": [\n          \"\",\n          \"-0.77\",\n          \"-0.73\"\n        ],\n        \"semantic_type\": \"\",\n        \"description\": \"\"\n      }\n    },\n    {\n      \"column\": 4,\n      \"properties\": {\n        \"dtype\": \"category\",\n        \"num_unique_values\": 4,\n        \"samples\": [\n          \"-0.51\",\n          \"-0.8\",\n          \"\"\n        ],\n        \"semantic_type\": \"\",\n        \"description\": \"\"\n      }\n    },\n    {\n      \"column\": 5,\n      \"properties\": {\n        \"dtype\": \"category\",\n        \"num_unique_values\": 3,\n        \"samples\": [\n          \"\",\n          \"0.46\",\n          \"0.72\"\n        ],\n        \"semantic_type\": \"\",\n        \"description\": \"\"\n      }\n    }\n  ]\n}"
            }
          },
          "metadata": {},
          "execution_count": 44
        }
      ]
    },
    {
      "cell_type": "markdown",
      "source": [
        "Clustering - KMeans"
      ],
      "metadata": {
        "id": "ZXDgktEkWJ5r"
      }
    },
    {
      "cell_type": "code",
      "source": [
        "from sklearn.cluster import KMeans\n",
        "from sklearn.metrics import silhouette_score, adjusted_rand_score"
      ],
      "metadata": {
        "id": "WwPvRPt2P07L"
      },
      "execution_count": null,
      "outputs": []
    },
    {
      "cell_type": "code",
      "source": [
        "pc_df = pd.DataFrame(pc_scores_rotated,columns = ['pc0','pc1','pc2','pc3','pc4','pc5'])\n",
        "pc_df.describe().round(2)"
      ],
      "metadata": {
        "colab": {
          "base_uri": "https://localhost:8080/",
          "height": 300
        },
        "id": "bdJVste2OF3N",
        "outputId": "faa03486-1d33-4dc8-c1cc-bd68a1392fc7"
      },
      "execution_count": null,
      "outputs": [
        {
          "output_type": "execute_result",
          "data": {
            "text/plain": [
              "          pc0     pc1     pc2     pc3     pc4     pc5\n",
              "count  855.00  855.00  855.00  855.00  855.00  855.00\n",
              "mean     0.00   -0.00   -0.00    0.00    0.00   -0.00\n",
              "std      1.00    1.00    1.00    1.00    1.00    1.00\n",
              "min     -2.22   -2.60   -1.82   -4.65   -3.28   -1.82\n",
              "25%     -0.78   -0.81   -0.82   -0.61   -0.71   -0.83\n",
              "50%     -0.10    0.09   -0.14    0.05    0.07   -0.29\n",
              "75%      0.72    0.81    0.65    0.69    0.71    0.82\n",
              "max      2.69    2.45    3.42    2.75    2.50    2.31"
            ],
            "text/html": [
              "\n",
              "  <div id=\"df-4b9c8bb1-fc7a-4696-b32e-d2e6e2ce181f\" class=\"colab-df-container\">\n",
              "    <div>\n",
              "<style scoped>\n",
              "    .dataframe tbody tr th:only-of-type {\n",
              "        vertical-align: middle;\n",
              "    }\n",
              "\n",
              "    .dataframe tbody tr th {\n",
              "        vertical-align: top;\n",
              "    }\n",
              "\n",
              "    .dataframe thead th {\n",
              "        text-align: right;\n",
              "    }\n",
              "</style>\n",
              "<table border=\"1\" class=\"dataframe\">\n",
              "  <thead>\n",
              "    <tr style=\"text-align: right;\">\n",
              "      <th></th>\n",
              "      <th>pc0</th>\n",
              "      <th>pc1</th>\n",
              "      <th>pc2</th>\n",
              "      <th>pc3</th>\n",
              "      <th>pc4</th>\n",
              "      <th>pc5</th>\n",
              "    </tr>\n",
              "  </thead>\n",
              "  <tbody>\n",
              "    <tr>\n",
              "      <th>count</th>\n",
              "      <td>855.00</td>\n",
              "      <td>855.00</td>\n",
              "      <td>855.00</td>\n",
              "      <td>855.00</td>\n",
              "      <td>855.00</td>\n",
              "      <td>855.00</td>\n",
              "    </tr>\n",
              "    <tr>\n",
              "      <th>mean</th>\n",
              "      <td>0.00</td>\n",
              "      <td>-0.00</td>\n",
              "      <td>-0.00</td>\n",
              "      <td>0.00</td>\n",
              "      <td>0.00</td>\n",
              "      <td>-0.00</td>\n",
              "    </tr>\n",
              "    <tr>\n",
              "      <th>std</th>\n",
              "      <td>1.00</td>\n",
              "      <td>1.00</td>\n",
              "      <td>1.00</td>\n",
              "      <td>1.00</td>\n",
              "      <td>1.00</td>\n",
              "      <td>1.00</td>\n",
              "    </tr>\n",
              "    <tr>\n",
              "      <th>min</th>\n",
              "      <td>-2.22</td>\n",
              "      <td>-2.60</td>\n",
              "      <td>-1.82</td>\n",
              "      <td>-4.65</td>\n",
              "      <td>-3.28</td>\n",
              "      <td>-1.82</td>\n",
              "    </tr>\n",
              "    <tr>\n",
              "      <th>25%</th>\n",
              "      <td>-0.78</td>\n",
              "      <td>-0.81</td>\n",
              "      <td>-0.82</td>\n",
              "      <td>-0.61</td>\n",
              "      <td>-0.71</td>\n",
              "      <td>-0.83</td>\n",
              "    </tr>\n",
              "    <tr>\n",
              "      <th>50%</th>\n",
              "      <td>-0.10</td>\n",
              "      <td>0.09</td>\n",
              "      <td>-0.14</td>\n",
              "      <td>0.05</td>\n",
              "      <td>0.07</td>\n",
              "      <td>-0.29</td>\n",
              "    </tr>\n",
              "    <tr>\n",
              "      <th>75%</th>\n",
              "      <td>0.72</td>\n",
              "      <td>0.81</td>\n",
              "      <td>0.65</td>\n",
              "      <td>0.69</td>\n",
              "      <td>0.71</td>\n",
              "      <td>0.82</td>\n",
              "    </tr>\n",
              "    <tr>\n",
              "      <th>max</th>\n",
              "      <td>2.69</td>\n",
              "      <td>2.45</td>\n",
              "      <td>3.42</td>\n",
              "      <td>2.75</td>\n",
              "      <td>2.50</td>\n",
              "      <td>2.31</td>\n",
              "    </tr>\n",
              "  </tbody>\n",
              "</table>\n",
              "</div>\n",
              "    <div class=\"colab-df-buttons\">\n",
              "\n",
              "  <div class=\"colab-df-container\">\n",
              "    <button class=\"colab-df-convert\" onclick=\"convertToInteractive('df-4b9c8bb1-fc7a-4696-b32e-d2e6e2ce181f')\"\n",
              "            title=\"Convert this dataframe to an interactive table.\"\n",
              "            style=\"display:none;\">\n",
              "\n",
              "  <svg xmlns=\"http://www.w3.org/2000/svg\" height=\"24px\" viewBox=\"0 -960 960 960\">\n",
              "    <path d=\"M120-120v-720h720v720H120Zm60-500h600v-160H180v160Zm220 220h160v-160H400v160Zm0 220h160v-160H400v160ZM180-400h160v-160H180v160Zm440 0h160v-160H620v160ZM180-180h160v-160H180v160Zm440 0h160v-160H620v160Z\"/>\n",
              "  </svg>\n",
              "    </button>\n",
              "\n",
              "  <style>\n",
              "    .colab-df-container {\n",
              "      display:flex;\n",
              "      gap: 12px;\n",
              "    }\n",
              "\n",
              "    .colab-df-convert {\n",
              "      background-color: #E8F0FE;\n",
              "      border: none;\n",
              "      border-radius: 50%;\n",
              "      cursor: pointer;\n",
              "      display: none;\n",
              "      fill: #1967D2;\n",
              "      height: 32px;\n",
              "      padding: 0 0 0 0;\n",
              "      width: 32px;\n",
              "    }\n",
              "\n",
              "    .colab-df-convert:hover {\n",
              "      background-color: #E2EBFA;\n",
              "      box-shadow: 0px 1px 2px rgba(60, 64, 67, 0.3), 0px 1px 3px 1px rgba(60, 64, 67, 0.15);\n",
              "      fill: #174EA6;\n",
              "    }\n",
              "\n",
              "    .colab-df-buttons div {\n",
              "      margin-bottom: 4px;\n",
              "    }\n",
              "\n",
              "    [theme=dark] .colab-df-convert {\n",
              "      background-color: #3B4455;\n",
              "      fill: #D2E3FC;\n",
              "    }\n",
              "\n",
              "    [theme=dark] .colab-df-convert:hover {\n",
              "      background-color: #434B5C;\n",
              "      box-shadow: 0px 1px 3px 1px rgba(0, 0, 0, 0.15);\n",
              "      filter: drop-shadow(0px 1px 2px rgba(0, 0, 0, 0.3));\n",
              "      fill: #FFFFFF;\n",
              "    }\n",
              "  </style>\n",
              "\n",
              "    <script>\n",
              "      const buttonEl =\n",
              "        document.querySelector('#df-4b9c8bb1-fc7a-4696-b32e-d2e6e2ce181f button.colab-df-convert');\n",
              "      buttonEl.style.display =\n",
              "        google.colab.kernel.accessAllowed ? 'block' : 'none';\n",
              "\n",
              "      async function convertToInteractive(key) {\n",
              "        const element = document.querySelector('#df-4b9c8bb1-fc7a-4696-b32e-d2e6e2ce181f');\n",
              "        const dataTable =\n",
              "          await google.colab.kernel.invokeFunction('convertToInteractive',\n",
              "                                                    [key], {});\n",
              "        if (!dataTable) return;\n",
              "\n",
              "        const docLinkHtml = 'Like what you see? Visit the ' +\n",
              "          '<a target=\"_blank\" href=https://colab.research.google.com/notebooks/data_table.ipynb>data table notebook</a>'\n",
              "          + ' to learn more about interactive tables.';\n",
              "        element.innerHTML = '';\n",
              "        dataTable['output_type'] = 'display_data';\n",
              "        await google.colab.output.renderOutput(dataTable, element);\n",
              "        const docLink = document.createElement('div');\n",
              "        docLink.innerHTML = docLinkHtml;\n",
              "        element.appendChild(docLink);\n",
              "      }\n",
              "    </script>\n",
              "  </div>\n",
              "\n",
              "\n",
              "<div id=\"df-17945f62-e3df-4f99-8fbb-7a969147c69b\">\n",
              "  <button class=\"colab-df-quickchart\" onclick=\"quickchart('df-17945f62-e3df-4f99-8fbb-7a969147c69b')\"\n",
              "            title=\"Suggest charts\"\n",
              "            style=\"display:none;\">\n",
              "\n",
              "<svg xmlns=\"http://www.w3.org/2000/svg\" height=\"24px\"viewBox=\"0 0 24 24\"\n",
              "     width=\"24px\">\n",
              "    <g>\n",
              "        <path d=\"M19 3H5c-1.1 0-2 .9-2 2v14c0 1.1.9 2 2 2h14c1.1 0 2-.9 2-2V5c0-1.1-.9-2-2-2zM9 17H7v-7h2v7zm4 0h-2V7h2v10zm4 0h-2v-4h2v4z\"/>\n",
              "    </g>\n",
              "</svg>\n",
              "  </button>\n",
              "\n",
              "<style>\n",
              "  .colab-df-quickchart {\n",
              "      --bg-color: #E8F0FE;\n",
              "      --fill-color: #1967D2;\n",
              "      --hover-bg-color: #E2EBFA;\n",
              "      --hover-fill-color: #174EA6;\n",
              "      --disabled-fill-color: #AAA;\n",
              "      --disabled-bg-color: #DDD;\n",
              "  }\n",
              "\n",
              "  [theme=dark] .colab-df-quickchart {\n",
              "      --bg-color: #3B4455;\n",
              "      --fill-color: #D2E3FC;\n",
              "      --hover-bg-color: #434B5C;\n",
              "      --hover-fill-color: #FFFFFF;\n",
              "      --disabled-bg-color: #3B4455;\n",
              "      --disabled-fill-color: #666;\n",
              "  }\n",
              "\n",
              "  .colab-df-quickchart {\n",
              "    background-color: var(--bg-color);\n",
              "    border: none;\n",
              "    border-radius: 50%;\n",
              "    cursor: pointer;\n",
              "    display: none;\n",
              "    fill: var(--fill-color);\n",
              "    height: 32px;\n",
              "    padding: 0;\n",
              "    width: 32px;\n",
              "  }\n",
              "\n",
              "  .colab-df-quickchart:hover {\n",
              "    background-color: var(--hover-bg-color);\n",
              "    box-shadow: 0 1px 2px rgba(60, 64, 67, 0.3), 0 1px 3px 1px rgba(60, 64, 67, 0.15);\n",
              "    fill: var(--button-hover-fill-color);\n",
              "  }\n",
              "\n",
              "  .colab-df-quickchart-complete:disabled,\n",
              "  .colab-df-quickchart-complete:disabled:hover {\n",
              "    background-color: var(--disabled-bg-color);\n",
              "    fill: var(--disabled-fill-color);\n",
              "    box-shadow: none;\n",
              "  }\n",
              "\n",
              "  .colab-df-spinner {\n",
              "    border: 2px solid var(--fill-color);\n",
              "    border-color: transparent;\n",
              "    border-bottom-color: var(--fill-color);\n",
              "    animation:\n",
              "      spin 1s steps(1) infinite;\n",
              "  }\n",
              "\n",
              "  @keyframes spin {\n",
              "    0% {\n",
              "      border-color: transparent;\n",
              "      border-bottom-color: var(--fill-color);\n",
              "      border-left-color: var(--fill-color);\n",
              "    }\n",
              "    20% {\n",
              "      border-color: transparent;\n",
              "      border-left-color: var(--fill-color);\n",
              "      border-top-color: var(--fill-color);\n",
              "    }\n",
              "    30% {\n",
              "      border-color: transparent;\n",
              "      border-left-color: var(--fill-color);\n",
              "      border-top-color: var(--fill-color);\n",
              "      border-right-color: var(--fill-color);\n",
              "    }\n",
              "    40% {\n",
              "      border-color: transparent;\n",
              "      border-right-color: var(--fill-color);\n",
              "      border-top-color: var(--fill-color);\n",
              "    }\n",
              "    60% {\n",
              "      border-color: transparent;\n",
              "      border-right-color: var(--fill-color);\n",
              "    }\n",
              "    80% {\n",
              "      border-color: transparent;\n",
              "      border-right-color: var(--fill-color);\n",
              "      border-bottom-color: var(--fill-color);\n",
              "    }\n",
              "    90% {\n",
              "      border-color: transparent;\n",
              "      border-bottom-color: var(--fill-color);\n",
              "    }\n",
              "  }\n",
              "</style>\n",
              "\n",
              "  <script>\n",
              "    async function quickchart(key) {\n",
              "      const quickchartButtonEl =\n",
              "        document.querySelector('#' + key + ' button');\n",
              "      quickchartButtonEl.disabled = true;  // To prevent multiple clicks.\n",
              "      quickchartButtonEl.classList.add('colab-df-spinner');\n",
              "      try {\n",
              "        const charts = await google.colab.kernel.invokeFunction(\n",
              "            'suggestCharts', [key], {});\n",
              "      } catch (error) {\n",
              "        console.error('Error during call to suggestCharts:', error);\n",
              "      }\n",
              "      quickchartButtonEl.classList.remove('colab-df-spinner');\n",
              "      quickchartButtonEl.classList.add('colab-df-quickchart-complete');\n",
              "    }\n",
              "    (() => {\n",
              "      let quickchartButtonEl =\n",
              "        document.querySelector('#df-17945f62-e3df-4f99-8fbb-7a969147c69b button');\n",
              "      quickchartButtonEl.style.display =\n",
              "        google.colab.kernel.accessAllowed ? 'block' : 'none';\n",
              "    })();\n",
              "  </script>\n",
              "</div>\n",
              "    </div>\n",
              "  </div>\n"
            ],
            "application/vnd.google.colaboratory.intrinsic+json": {
              "type": "dataframe",
              "summary": "{\n  \"name\": \"pc_df\",\n  \"rows\": 8,\n  \"fields\": [\n    {\n      \"column\": \"pc0\",\n      \"properties\": {\n        \"dtype\": \"number\",\n        \"std\": 302.22530604252853,\n        \"min\": -2.22,\n        \"max\": 855.0,\n        \"num_unique_values\": 8,\n        \"samples\": [\n          0.0,\n          -0.1,\n          855.0\n        ],\n        \"semantic_type\": \"\",\n        \"description\": \"\"\n      }\n    },\n    {\n      \"column\": \"pc1\",\n      \"properties\": {\n        \"dtype\": \"number\",\n        \"std\": 302.2442064551681,\n        \"min\": -2.6,\n        \"max\": 855.0,\n        \"num_unique_values\": 8,\n        \"samples\": [\n          -0.0,\n          0.09,\n          855.0\n        ],\n        \"semantic_type\": \"\",\n        \"description\": \"\"\n      }\n    },\n    {\n      \"column\": \"pc2\",\n      \"properties\": {\n        \"dtype\": \"number\",\n        \"std\": 302.17635704230264,\n        \"min\": -1.82,\n        \"max\": 855.0,\n        \"num_unique_values\": 8,\n        \"samples\": [\n          -0.0,\n          -0.14,\n          855.0\n        ],\n        \"semantic_type\": \"\",\n        \"description\": \"\"\n      }\n    },\n    {\n      \"column\": \"pc3\",\n      \"properties\": {\n        \"dtype\": \"number\",\n        \"std\": 302.3343523054047,\n        \"min\": -4.65,\n        \"max\": 855.0,\n        \"num_unique_values\": 8,\n        \"samples\": [\n          0.0,\n          0.05,\n          855.0\n        ],\n        \"semantic_type\": \"\",\n        \"description\": \"\"\n      }\n    },\n    {\n      \"column\": \"pc4\",\n      \"properties\": {\n        \"dtype\": \"number\",\n        \"std\": 302.27799373790725,\n        \"min\": -3.28,\n        \"max\": 855.0,\n        \"num_unique_values\": 8,\n        \"samples\": [\n          0.0,\n          0.07,\n          855.0\n        ],\n        \"semantic_type\": \"\",\n        \"description\": \"\"\n      }\n    },\n    {\n      \"column\": \"pc5\",\n      \"properties\": {\n        \"dtype\": \"number\",\n        \"std\": 302.2306189904609,\n        \"min\": -1.82,\n        \"max\": 855.0,\n        \"num_unique_values\": 8,\n        \"samples\": [\n          -0.0,\n          -0.29,\n          855.0\n        ],\n        \"semantic_type\": \"\",\n        \"description\": \"\"\n      }\n    }\n  ]\n}"
            }
          },
          "metadata": {},
          "execution_count": 49
        }
      ]
    },
    {
      "cell_type": "code",
      "source": [
        "plt.hist(pc_df, bins=8, alpha=0.3)\n",
        "plt.title(\"histogram of PC scores\")\n",
        "plt.legend(['pc0','pc1','pc2','pc3','pc4','pc5'])\n",
        "plt.show()"
      ],
      "metadata": {
        "colab": {
          "base_uri": "https://localhost:8080/",
          "height": 452
        },
        "id": "oTFL5quJkdXz",
        "outputId": "71a72aae-8a00-4aa2-f0c7-a361e5c34a3d"
      },
      "execution_count": null,
      "outputs": [
        {
          "output_type": "display_data",
          "data": {
            "text/plain": [
              "<Figure size 640x480 with 1 Axes>"
            ],
            "image/png": "[encoded data removed]"
          },
          "metadata": {}
        }
      ]
    },
    {
      "cell_type": "code",
      "source": [
        "pc_df.isnull().sum()"
      ],
      "metadata": {
        "colab": {
          "base_uri": "https://localhost:8080/"
        },
        "id": "SzpwrppVOycy",
        "outputId": "58622c81-56ec-499f-bfe8-75b61e14bf38"
      },
      "execution_count": null,
      "outputs": [
        {
          "output_type": "execute_result",
          "data": {
            "text/plain": [
              "pc0    0\n",
              "pc1    0\n",
              "pc2    0\n",
              "pc3    0\n",
              "pc4    0\n",
              "pc5    0\n",
              "dtype: int64"
            ]
          },
          "metadata": {},
          "execution_count": 51
        }
      ]
    },
    {
      "cell_type": "markdown",
      "source": [
        "Using PC as input"
      ],
      "metadata": {
        "id": "_Hz7GeNCUBTl"
      }
    },
    {
      "cell_type": "code",
      "source": [
        "# Find optimal K (Elbow Method)\n",
        "kmeans_kwargs = {\n",
        "    \"init\": \"random\",\n",
        "    \"n_init\": 10,\n",
        "    \"max_iter\": 300,\n",
        "    \"random_state\": 42,\n",
        " }\n",
        "\n",
        "# A list holds the SSE values for each k\n",
        "sse = []\n",
        "for k in range(1, 20):\n",
        "    kmeans_pca = KMeans(n_clusters=k, **kmeans_kwargs)\n",
        "    kmeans_pca.fit(pc_scores)\n",
        "    sse.append(kmeans_pca.inertia_)"
      ],
      "metadata": {
        "id": "2_ooa1kRPqn7"
      },
      "execution_count": null,
      "outputs": []
    },
    {
      "cell_type": "code",
      "source": [
        "plt.plot(range(1,20), sse)\n",
        "plt.xticks(range(1, 20))\n",
        "plt.title('The Elbow Method')\n",
        "plt.xlabel('# Clusters')\n",
        "plt.ylabel('SSE')\n",
        "plt.show()"
      ],
      "metadata": {
        "colab": {
          "base_uri": "https://localhost:8080/",
          "height": 472
        },
        "id": "wLp5zz-kQC9I",
        "outputId": "d73d239d-b55f-4a42-c68e-83bb5565888c"
      },
      "execution_count": null,
      "outputs": [
        {
          "output_type": "display_data",
          "data": {
            "text/plain": [
              "<Figure size 640x480 with 1 Axes>"
            ],
            "image/png": "[encoded data removed]"
          },
          "metadata": {}
        }
      ]
    },
    {
      "cell_type": "code",
      "source": [
        "# Implement the model with K = 2,5\n",
        "kmeans_2cluster = KMeans(n_clusters = 2, init = 'k-means++', random_state = 42)\n",
        "kmeans_2cluster.fit(pc_scores)\n",
        "kmeans_5cluster = KMeans(n_clusters = 5, init = 'k-means++', random_state = 42)\n",
        "kmeans_5cluster.fit(pc_scores)"
      ],
      "metadata": {
        "colab": {
          "base_uri": "https://localhost:8080/",
          "height": 166
        },
        "id": "a4Sr1YfUQLeE",
        "outputId": "5a7ca5ad-986a-487c-b97d-d8feb99a3ba5"
      },
      "execution_count": null,
      "outputs": [
        {
          "output_type": "stream",
          "name": "stderr",
          "text": [
            "/usr/local/lib/python3.10/dist-packages/sklearn/cluster/_kmeans.py:870: FutureWarning: The default value of `n_init` will change from 10 to 'auto' in 1.4. Set the value of `n_init` explicitly to suppress the warning\n",
            "  warnings.warn(\n",
            "/usr/local/lib/python3.10/dist-packages/sklearn/cluster/_kmeans.py:870: FutureWarning: The default value of `n_init` will change from 10 to 'auto' in 1.4. Set the value of `n_init` explicitly to suppress the warning\n",
            "  warnings.warn(\n"
          ]
        },
        {
          "output_type": "execute_result",
          "data": {
            "text/plain": [
              "KMeans(n_clusters=5, random_state=42)"
            ],
            "text/html": [
              "<style>#sk-container-id-2 {color: black;background-color: white;}#sk-container-id-2 pre{padding: 0;}#sk-container-id-2 div.sk-toggleable {background-color: white;}#sk-container-id-2 label.sk-toggleable__label {cursor: pointer;display: block;width: 100%;margin-bottom: 0;padding: 0.3em;box-sizing: border-box;text-align: center;}#sk-container-id-2 label.sk-toggleable__label-arrow:before {content: \"▸\";float: left;margin-right: 0.25em;color: #696969;}#sk-container-id-2 label.sk-toggleable__label-arrow:hover:before {color: black;}#sk-container-id-2 div.sk-estimator:hover label.sk-toggleable__label-arrow:before {color: black;}#sk-container-id-2 div.sk-toggleable__content {max-height: 0;max-width: 0;overflow: hidden;text-align: left;background-color: #f0f8ff;}#sk-container-id-2 div.sk-toggleable__content pre {margin: 0.2em;color: black;border-radius: 0.25em;background-color: #f0f8ff;}#sk-container-id-2 input.sk-toggleable__control:checked~div.sk-toggleable__content {max-height: 200px;max-width: 100%;overflow: auto;}#sk-container-id-2 input.sk-toggleable__control:checked~label.sk-toggleable__label-arrow:before {content: \"▾\";}#sk-container-id-2 div.sk-estimator input.sk-toggleable__control:checked~label.sk-toggleable__label {background-color: #d4ebff;}#sk-container-id-2 div.sk-label input.sk-toggleable__control:checked~label.sk-toggleable__label {background-color: #d4ebff;}#sk-container-id-2 input.sk-hidden--visually {border: 0;clip: rect(1px 1px 1px 1px);clip: rect(1px, 1px, 1px, 1px);height: 1px;margin: -1px;overflow: hidden;padding: 0;position: absolute;width: 1px;}#sk-container-id-2 div.sk-estimator {font-family: monospace;background-color: #f0f8ff;border: 1px dotted black;border-radius: 0.25em;box-sizing: border-box;margin-bottom: 0.5em;}#sk-container-id-2 div.sk-estimator:hover {background-color: #d4ebff;}#sk-container-id-2 div.sk-parallel-item::after {content: \"\";width: 100%;border-bottom: 1px solid gray;flex-grow: 1;}#sk-container-id-2 div.sk-label:hover label.sk-toggleable__label {background-color: #d4ebff;}#sk-container-id-2 div.sk-serial::before {content: \"\";position: absolute;border-left: 1px solid gray;box-sizing: border-box;top: 0;bottom: 0;left: 50%;z-index: 0;}#sk-container-id-2 div.sk-serial {display: flex;flex-direction: column;align-items: center;background-color: white;padding-right: 0.2em;padding-left: 0.2em;position: relative;}#sk-container-id-2 div.sk-item {position: relative;z-index: 1;}#sk-container-id-2 div.sk-parallel {display: flex;align-items: stretch;justify-content: center;background-color: white;position: relative;}#sk-container-id-2 div.sk-item::before, #sk-container-id-2 div.sk-parallel-item::before {content: \"\";position: absolute;border-left: 1px solid gray;box-sizing: border-box;top: 0;bottom: 0;left: 50%;z-index: -1;}#sk-container-id-2 div.sk-parallel-item {display: flex;flex-direction: column;z-index: 1;position: relative;background-color: white;}#sk-container-id-2 div.sk-parallel-item:first-child::after {align-self: flex-end;width: 50%;}#sk-container-id-2 div.sk-parallel-item:last-child::after {align-self: flex-start;width: 50%;}#sk-container-id-2 div.sk-parallel-item:only-child::after {width: 0;}#sk-container-id-2 div.sk-dashed-wrapped {border: 1px dashed gray;margin: 0 0.4em 0.5em 0.4em;box-sizing: border-box;padding-bottom: 0.4em;background-color: white;}#sk-container-id-2 div.sk-label label {font-family: monospace;font-weight: bold;display: inline-block;line-height: 1.2em;}#sk-container-id-2 div.sk-label-container {text-align: center;}#sk-container-id-2 div.sk-container {/* jupyter's `normalize.less` sets `[hidden] { display: none; }` but bootstrap.min.css set `[hidden] { display: none !important; }` so we also need the `!important` here to be able to override the default hidden behavior on the sphinx rendered scikit-learn.org. See: https://github.com/scikit-learn/scikit-learn/issues/21755 */display: inline-block !important;position: relative;}#sk-container-id-2 div.sk-text-repr-fallback {display: none;}</style><div id=\"sk-container-id-2\" class=\"sk-top-container\"><div class=\"sk-text-repr-fallback\"><pre>KMeans(n_clusters=5, random_state=42)</pre><b>In a Jupyter environment, please rerun this cell to show the HTML representation or trust the notebook. <br />On GitHub, the HTML representation is unable to render, please try loading this page with nbviewer.org.</b></div><div class=\"sk-container\" hidden><div class=\"sk-item\"><div class=\"sk-estimator sk-toggleable\"><input class=\"sk-toggleable__control sk-hidden--visually\" id=\"sk-estimator-id-2\" type=\"checkbox\" checked><label for=\"sk-estimator-id-2\" class=\"sk-toggleable__label sk-toggleable__label-arrow\">KMeans</label><div class=\"sk-toggleable__content\"><pre>KMeans(n_clusters=5, random_state=42)</pre></div></div></div></div></div>"
            ]
          },
          "metadata": {},
          "execution_count": 54
        }
      ]
    },
    {
      "cell_type": "code",
      "source": [
        "# Create a new dataframe with the original features and add assigned clusters\n",
        "df_seg2 = df.copy()\n",
        "df_seg2['segment'] = kmeans_2cluster.labels_\n",
        "df_seg5 = df.copy()\n",
        "df_seg5['segment'] = kmeans_5cluster.labels_"
      ],
      "metadata": {
        "id": "Ts_JN3xTQZbU"
      },
      "execution_count": null,
      "outputs": []
    },
    {
      "cell_type": "code",
      "source": [
        "df_seg2['segment'].value_counts().sort_index().plot(kind='bar');"
      ],
      "metadata": {
        "colab": {
          "base_uri": "https://localhost:8080/",
          "height": 444
        },
        "id": "uahL0bhdQk6n",
        "outputId": "87cb7bbb-1218-43b4-ec4f-7a7181224c67"
      },
      "execution_count": null,
      "outputs": [
        {
          "output_type": "display_data",
          "data": {
            "text/plain": [
              "<Figure size 640x480 with 1 Axes>"
            ],
            "image/png": "[encoded data removed]"
          },
          "metadata": {}
        }
      ]
    },
    {
      "cell_type": "code",
      "source": [
        "df_seg5['segment'].value_counts()"
      ],
      "metadata": {
        "colab": {
          "base_uri": "https://localhost:8080/"
        },
        "id": "OUdYQ2_bZy4X",
        "outputId": "4f115b90-1785-4f66-8aea-9f6f36bbce27"
      },
      "execution_count": null,
      "outputs": [
        {
          "output_type": "execute_result",
          "data": {
            "text/plain": [
              "segment\n",
              "3    197\n",
              "4    187\n",
              "2    169\n",
              "0    158\n",
              "1    144\n",
              "Name: count, dtype: int64"
            ]
          },
          "metadata": {},
          "execution_count": 74
        }
      ]
    },
    {
      "cell_type": "code",
      "source": [
        "df_seg5['segment'].value_counts().sort_index().plot(kind='bar');"
      ],
      "metadata": {
        "colab": {
          "base_uri": "https://localhost:8080/",
          "height": 444
        },
        "id": "PlnZtIPpQnGx",
        "outputId": "8c6ed36c-219e-4f3f-8559-601f2dd36264"
      },
      "execution_count": null,
      "outputs": [
        {
          "output_type": "display_data",
          "data": {
            "text/plain": [
              "<Figure size 640x480 with 1 Axes>"
            ],
            "image/png": "[encoded data removed]"
          },
          "metadata": {}
        }
      ]
    },
    {
      "cell_type": "code",
      "source": [
        "df_seg2[int_theme_col+['segment']].groupby('segment').mean().T.style.format('{:,.1f}').background_gradient(low=0, high=3,cmap='rocket_r', axis = 1)"
      ],
      "metadata": {
        "colab": {
          "base_uri": "https://localhost:8080/",
          "height": 520
        },
        "id": "7TSUsIOTQzEV",
        "outputId": "7d7c1081-ca3f-4eef-b893-515230b6c46b"
      },
      "execution_count": null,
      "outputs": [
        {
          "output_type": "execute_result",
          "data": {
            "text/plain": [
              "<pandas.io.formats.style.Styler at 0x7bbfb76f7c70>"
            ],
            "text/html": [
              "<style type=\"text/css\">\n",
              "#T_e7646_row0_col0, #T_e7646_row1_col0, #T_e7646_row2_col0, #T_e7646_row3_col0, #T_e7646_row4_col0, #T_e7646_row5_col0, #T_e7646_row6_col0, #T_e7646_row7_col0, #T_e7646_row8_col0, #T_e7646_row9_col0, #T_e7646_row10_col0, #T_e7646_row11_col0, #T_e7646_row12_col0, #T_e7646_row13_col0, #T_e7646_row14_col0 {\n",
              "  background-color: #faebdd;\n",
              "  color: #000000;\n",
              "}\n",
              "#T_e7646_row0_col1, #T_e7646_row2_col1, #T_e7646_row3_col1, #T_e7646_row4_col1, #T_e7646_row5_col1, #T_e7646_row6_col1, #T_e7646_row7_col1, #T_e7646_row8_col1, #T_e7646_row9_col1, #T_e7646_row10_col1, #T_e7646_row12_col1, #T_e7646_row13_col1, #T_e7646_row14_col1 {\n",
              "  background-color: #f4865e;\n",
              "  color: #f1f1f1;\n",
              "}\n",
              "#T_e7646_row1_col1, #T_e7646_row11_col1 {\n",
              "  background-color: #f58860;\n",
              "  color: #f1f1f1;\n",
              "}\n",
              "</style>\n",
              "<table id=\"T_e7646\" class=\"dataframe\">\n",
              "  <thead>\n",
              "    <tr>\n",
              "      <th class=\"index_name level0\" >segment</th>\n",
              "      <th id=\"T_e7646_level0_col0\" class=\"col_heading level0 col0\" >0</th>\n",
              "      <th id=\"T_e7646_level0_col1\" class=\"col_heading level0 col1\" >1</th>\n",
              "    </tr>\n",
              "  </thead>\n",
              "  <tbody>\n",
              "    <tr>\n",
              "      <th id=\"T_e7646_level0_row0\" class=\"row_heading level0 row0\" >obq_rt</th>\n",
              "      <td id=\"T_e7646_row0_col0\" class=\"data row0 col0\" >54.0</td>\n",
              "      <td id=\"T_e7646_row0_col1\" class=\"data row0 col1\" >81.7</td>\n",
              "    </tr>\n",
              "    <tr>\n",
              "      <th id=\"T_e7646_level0_row1\" class=\"row_heading level0 row1\" >obq_pc</th>\n",
              "      <td id=\"T_e7646_row1_col0\" class=\"data row1 col0\" >64.9</td>\n",
              "      <td id=\"T_e7646_row1_col1\" class=\"data row1 col1\" >84.2</td>\n",
              "    </tr>\n",
              "    <tr>\n",
              "      <th id=\"T_e7646_level0_row2\" class=\"row_heading level0 row2\" >obq_ict</th>\n",
              "      <td id=\"T_e7646_row2_col0\" class=\"data row2 col0\" >33.1</td>\n",
              "      <td id=\"T_e7646_row2_col1\" class=\"data row2 col1\" >49.4</td>\n",
              "    </tr>\n",
              "    <tr>\n",
              "      <th id=\"T_e7646_level0_row3\" class=\"row_heading level0 row3\" >docs_ctm</th>\n",
              "      <td id=\"T_e7646_row3_col0\" class=\"data row3 col0\" >4.5</td>\n",
              "      <td id=\"T_e7646_row3_col1\" class=\"data row3 col1\" >8.9</td>\n",
              "    </tr>\n",
              "    <tr>\n",
              "      <th id=\"T_e7646_level0_row4\" class=\"row_heading level0 row4\" >docs_rsp</th>\n",
              "      <td id=\"T_e7646_row4_col0\" class=\"data row4 col0\" >4.2</td>\n",
              "      <td id=\"T_e7646_row4_col1\" class=\"data row4 col1\" >11.3</td>\n",
              "    </tr>\n",
              "    <tr>\n",
              "      <th id=\"T_e7646_level0_row5\" class=\"row_heading level0 row5\" >docs_unacc</th>\n",
              "      <td id=\"T_e7646_row5_col0\" class=\"data row5 col0\" >7.4</td>\n",
              "      <td id=\"T_e7646_row5_col1\" class=\"data row5 col1\" >12.1</td>\n",
              "    </tr>\n",
              "    <tr>\n",
              "      <th id=\"T_e7646_level0_row6\" class=\"row_heading level0 row6\" >docs_right</th>\n",
              "      <td id=\"T_e7646_row6_col0\" class=\"data row6 col0\" >3.9</td>\n",
              "      <td id=\"T_e7646_row6_col1\" class=\"data row6 col1\" >9.4</td>\n",
              "    </tr>\n",
              "    <tr>\n",
              "      <th id=\"T_e7646_level0_row7\" class=\"row_heading level0 row7\" >ocir_chk</th>\n",
              "      <td id=\"T_e7646_row7_col0\" class=\"data row7 col0\" >2.3</td>\n",
              "      <td id=\"T_e7646_row7_col1\" class=\"data row7 col1\" >5.9</td>\n",
              "    </tr>\n",
              "    <tr>\n",
              "      <th id=\"T_e7646_level0_row8\" class=\"row_heading level0 row8\" >ocir_hd</th>\n",
              "      <td id=\"T_e7646_row8_col0\" class=\"data row8 col0\" >1.9</td>\n",
              "      <td id=\"T_e7646_row8_col1\" class=\"data row8 col1\" >4.3</td>\n",
              "    </tr>\n",
              "    <tr>\n",
              "      <th id=\"T_e7646_level0_row9\" class=\"row_heading level0 row9\" >ocir_neut</th>\n",
              "      <td id=\"T_e7646_row9_col0\" class=\"data row9 col0\" >1.5</td>\n",
              "      <td id=\"T_e7646_row9_col1\" class=\"data row9 col1\" >5.0</td>\n",
              "    </tr>\n",
              "    <tr>\n",
              "      <th id=\"T_e7646_level0_row10\" class=\"row_heading level0 row10\" >ocir_obs</th>\n",
              "      <td id=\"T_e7646_row10_col0\" class=\"data row10 col0\" >6.1</td>\n",
              "      <td id=\"T_e7646_row10_col1\" class=\"data row10 col1\" >9.2</td>\n",
              "    </tr>\n",
              "    <tr>\n",
              "      <th id=\"T_e7646_level0_row11\" class=\"row_heading level0 row11\" >ocir_ord</th>\n",
              "      <td id=\"T_e7646_row11_col0\" class=\"data row11 col0\" >2.4</td>\n",
              "      <td id=\"T_e7646_row11_col1\" class=\"data row11 col1\" >5.9</td>\n",
              "    </tr>\n",
              "    <tr>\n",
              "      <th id=\"T_e7646_level0_row12\" class=\"row_heading level0 row12\" >ocir_ws</th>\n",
              "      <td id=\"T_e7646_row12_col0\" class=\"data row12 col0\" >2.7</td>\n",
              "      <td id=\"T_e7646_row12_col1\" class=\"data row12 col1\" >5.8</td>\n",
              "    </tr>\n",
              "    <tr>\n",
              "      <th id=\"T_e7646_level0_row13\" class=\"row_heading level0 row13\" >ybocs_obs</th>\n",
              "      <td id=\"T_e7646_row13_col0\" class=\"data row13 col0\" >13.6</td>\n",
              "      <td id=\"T_e7646_row13_col1\" class=\"data row13 col1\" >16.9</td>\n",
              "    </tr>\n",
              "    <tr>\n",
              "      <th id=\"T_e7646_level0_row14\" class=\"row_heading level0 row14\" >ybocs_comp</th>\n",
              "      <td id=\"T_e7646_row14_col0\" class=\"data row14 col0\" >8.3</td>\n",
              "      <td id=\"T_e7646_row14_col1\" class=\"data row14 col1\" >10.9</td>\n",
              "    </tr>\n",
              "  </tbody>\n",
              "</table>\n"
            ]
          },
          "metadata": {},
          "execution_count": 76
        }
      ]
    },
    {
      "cell_type": "code",
      "source": [
        "output = df_seg5[int_theme_col+['segment']].groupby('segment').median().T\n",
        "output.style.format('{:,.1f}').background_gradient(low=0, high=3,cmap='rocket_r', axis = 1)"
      ],
      "metadata": {
        "colab": {
          "base_uri": "https://localhost:8080/",
          "height": 520
        },
        "id": "Kr1SlEAwRsmN",
        "outputId": "29a63e30-2401-477b-e60b-6c49963be5ef"
      },
      "execution_count": null,
      "outputs": [
        {
          "output_type": "execute_result",
          "data": {
            "text/plain": [
              "<pandas.io.formats.style.Styler at 0x7bbfb47371f0>"
            ],
            "text/html": [
              "<style type=\"text/css\">\n",
              "#T_18876_row0_col0, #T_18876_row7_col1, #T_18876_row7_col3 {\n",
              "  background-color: #f7ccaf;\n",
              "  color: #000000;\n",
              "}\n",
              "#T_18876_row0_col1 {\n",
              "  background-color: #f7caac;\n",
              "  color: #000000;\n",
              "}\n",
              "#T_18876_row0_col2, #T_18876_row1_col2, #T_18876_row2_col2, #T_18876_row3_col2, #T_18876_row3_col3, #T_18876_row4_col2, #T_18876_row5_col2, #T_18876_row6_col2, #T_18876_row6_col3, #T_18876_row7_col2, #T_18876_row8_col1, #T_18876_row8_col2, #T_18876_row8_col3, #T_18876_row9_col2, #T_18876_row10_col2, #T_18876_row11_col2, #T_18876_row11_col3, #T_18876_row12_col2, #T_18876_row12_col3, #T_18876_row13_col2, #T_18876_row14_col2 {\n",
              "  background-color: #faebdd;\n",
              "  color: #000000;\n",
              "}\n",
              "#T_18876_row0_col3, #T_18876_row1_col3 {\n",
              "  background-color: #f6b48f;\n",
              "  color: #000000;\n",
              "}\n",
              "#T_18876_row0_col4, #T_18876_row1_col4, #T_18876_row2_col4, #T_18876_row3_col1, #T_18876_row4_col4, #T_18876_row5_col4, #T_18876_row6_col4, #T_18876_row7_col4, #T_18876_row8_col0, #T_18876_row8_col4, #T_18876_row9_col4, #T_18876_row10_col3, #T_18876_row10_col4, #T_18876_row11_col4, #T_18876_row12_col1, #T_18876_row13_col4, #T_18876_row14_col1, #T_18876_row14_col4 {\n",
              "  background-color: #f4865e;\n",
              "  color: #f1f1f1;\n",
              "}\n",
              "#T_18876_row1_col0 {\n",
              "  background-color: #f5976e;\n",
              "  color: #000000;\n",
              "}\n",
              "#T_18876_row1_col1, #T_18876_row4_col1, #T_18876_row9_col0, #T_18876_row9_col1 {\n",
              "  background-color: #f7d0b5;\n",
              "  color: #000000;\n",
              "}\n",
              "#T_18876_row2_col0, #T_18876_row5_col1 {\n",
              "  background-color: #f8d1b8;\n",
              "  color: #000000;\n",
              "}\n",
              "#T_18876_row2_col1 {\n",
              "  background-color: #f8d6be;\n",
              "  color: #000000;\n",
              "}\n",
              "#T_18876_row2_col3 {\n",
              "  background-color: #f5966c;\n",
              "  color: #000000;\n",
              "}\n",
              "#T_18876_row3_col0 {\n",
              "  background-color: #f9dfcb;\n",
              "  color: #000000;\n",
              "}\n",
              "#T_18876_row3_col4 {\n",
              "  background-color: #f69c73;\n",
              "  color: #000000;\n",
              "}\n",
              "#T_18876_row4_col0 {\n",
              "  background-color: #f7c6a6;\n",
              "  color: #000000;\n",
              "}\n",
              "#T_18876_row4_col3 {\n",
              "  background-color: #f6bf9d;\n",
              "  color: #000000;\n",
              "}\n",
              "#T_18876_row5_col0, #T_18876_row6_col1 {\n",
              "  background-color: #f8dac5;\n",
              "  color: #000000;\n",
              "}\n",
              "#T_18876_row5_col3, #T_18876_row6_col0 {\n",
              "  background-color: #f59067;\n",
              "  color: #f1f1f1;\n",
              "}\n",
              "#T_18876_row7_col0, #T_18876_row13_col0, #T_18876_row14_col3 {\n",
              "  background-color: #f6bb97;\n",
              "  color: #000000;\n",
              "}\n",
              "#T_18876_row9_col3 {\n",
              "  background-color: #f9ddc9;\n",
              "  color: #000000;\n",
              "}\n",
              "#T_18876_row10_col0, #T_18876_row11_col1 {\n",
              "  background-color: #f8dcc7;\n",
              "  color: #000000;\n",
              "}\n",
              "#T_18876_row10_col1 {\n",
              "  background-color: #f6ab83;\n",
              "  color: #000000;\n",
              "}\n",
              "#T_18876_row11_col0, #T_18876_row13_col1, #T_18876_row13_col3 {\n",
              "  background-color: #f59970;\n",
              "  color: #000000;\n",
              "}\n",
              "#T_18876_row12_col0 {\n",
              "  background-color: #f9e0cd;\n",
              "  color: #000000;\n",
              "}\n",
              "#T_18876_row12_col4 {\n",
              "  background-color: #f6a077;\n",
              "  color: #000000;\n",
              "}\n",
              "#T_18876_row14_col0 {\n",
              "  background-color: #f6a178;\n",
              "  color: #000000;\n",
              "}\n",
              "</style>\n",
              "<table id=\"T_18876\" class=\"dataframe\">\n",
              "  <thead>\n",
              "    <tr>\n",
              "      <th class=\"index_name level0\" >segment</th>\n",
              "      <th id=\"T_18876_level0_col0\" class=\"col_heading level0 col0\" >0</th>\n",
              "      <th id=\"T_18876_level0_col1\" class=\"col_heading level0 col1\" >1</th>\n",
              "      <th id=\"T_18876_level0_col2\" class=\"col_heading level0 col2\" >2</th>\n",
              "      <th id=\"T_18876_level0_col3\" class=\"col_heading level0 col3\" >3</th>\n",
              "      <th id=\"T_18876_level0_col4\" class=\"col_heading level0 col4\" >4</th>\n",
              "    </tr>\n",
              "  </thead>\n",
              "  <tbody>\n",
              "    <tr>\n",
              "      <th id=\"T_18876_level0_row0\" class=\"row_heading level0 row0\" >obq_rt</th>\n",
              "      <td id=\"T_18876_row0_col0\" class=\"data row0 col0\" >60.0</td>\n",
              "      <td id=\"T_18876_row0_col1\" class=\"data row0 col1\" >60.5</td>\n",
              "      <td id=\"T_18876_row0_col2\" class=\"data row0 col2\" >45.0</td>\n",
              "      <td id=\"T_18876_row0_col3\" class=\"data row0 col3\" >71.0</td>\n",
              "      <td id=\"T_18876_row0_col4\" class=\"data row0 col4\" >90.0</td>\n",
              "    </tr>\n",
              "    <tr>\n",
              "      <th id=\"T_18876_level0_row1\" class=\"row_heading level0 row1\" >obq_pc</th>\n",
              "      <td id=\"T_18876_row1_col0\" class=\"data row1 col0\" >85.0</td>\n",
              "      <td id=\"T_18876_row1_col1\" class=\"data row1 col1\" >65.0</td>\n",
              "      <td id=\"T_18876_row1_col2\" class=\"data row1 col2\" >55.0</td>\n",
              "      <td id=\"T_18876_row1_col3\" class=\"data row1 col3\" >75.0</td>\n",
              "      <td id=\"T_18876_row1_col4\" class=\"data row1 col4\" >90.0</td>\n",
              "    </tr>\n",
              "    <tr>\n",
              "      <th id=\"T_18876_level0_row2\" class=\"row_heading level0 row2\" >obq_ict</th>\n",
              "      <td id=\"T_18876_row2_col0\" class=\"data row2 col0\" >32.0</td>\n",
              "      <td id=\"T_18876_row2_col1\" class=\"data row2 col1\" >31.0</td>\n",
              "      <td id=\"T_18876_row2_col2\" class=\"data row2 col2\" >24.0</td>\n",
              "      <td id=\"T_18876_row2_col3\" class=\"data row2 col3\" >50.0</td>\n",
              "      <td id=\"T_18876_row2_col4\" class=\"data row2 col4\" >54.0</td>\n",
              "    </tr>\n",
              "    <tr>\n",
              "      <th id=\"T_18876_level0_row3\" class=\"row_heading level0 row3\" >docs_ctm</th>\n",
              "      <td id=\"T_18876_row3_col0\" class=\"data row3 col0\" >2.0</td>\n",
              "      <td id=\"T_18876_row3_col1\" class=\"data row3 col1\" >15.0</td>\n",
              "      <td id=\"T_18876_row3_col2\" class=\"data row3 col2\" >0.0</td>\n",
              "      <td id=\"T_18876_row3_col3\" class=\"data row3 col3\" >0.0</td>\n",
              "      <td id=\"T_18876_row3_col4\" class=\"data row3 col4\" >12.0</td>\n",
              "    </tr>\n",
              "    <tr>\n",
              "      <th id=\"T_18876_level0_row4\" class=\"row_heading level0 row4\" >docs_rsp</th>\n",
              "      <td id=\"T_18876_row4_col0\" class=\"data row4 col0\" >5.5</td>\n",
              "      <td id=\"T_18876_row4_col1\" class=\"data row4 col1\" >4.0</td>\n",
              "      <td id=\"T_18876_row4_col2\" class=\"data row4 col2\" >0.0</td>\n",
              "      <td id=\"T_18876_row4_col3\" class=\"data row4 col3\" >6.5</td>\n",
              "      <td id=\"T_18876_row4_col4\" class=\"data row4 col4\" >14.0</td>\n",
              "    </tr>\n",
              "    <tr>\n",
              "      <th id=\"T_18876_level0_row5\" class=\"row_heading level0 row5\" >docs_unacc</th>\n",
              "      <td id=\"T_18876_row5_col0\" class=\"data row5 col0\" >6.0</td>\n",
              "      <td id=\"T_18876_row5_col1\" class=\"data row5 col1\" >7.0</td>\n",
              "      <td id=\"T_18876_row5_col2\" class=\"data row5 col2\" >4.0</td>\n",
              "      <td id=\"T_18876_row5_col3\" class=\"data row5 col3\" >14.0</td>\n",
              "      <td id=\"T_18876_row5_col4\" class=\"data row5 col4\" >15.0</td>\n",
              "    </tr>\n",
              "    <tr>\n",
              "      <th id=\"T_18876_level0_row6\" class=\"row_heading level0 row6\" >docs_right</th>\n",
              "      <td id=\"T_18876_row6_col0\" class=\"data row6 col0\" >11.0</td>\n",
              "      <td id=\"T_18876_row6_col1\" class=\"data row6 col1\" >3.0</td>\n",
              "      <td id=\"T_18876_row6_col2\" class=\"data row6 col2\" >1.0</td>\n",
              "      <td id=\"T_18876_row6_col3\" class=\"data row6 col3\" >1.0</td>\n",
              "      <td id=\"T_18876_row6_col4\" class=\"data row6 col4\" >12.0</td>\n",
              "    </tr>\n",
              "    <tr>\n",
              "      <th id=\"T_18876_level0_row7\" class=\"row_heading level0 row7\" >ocir_chk</th>\n",
              "      <td id=\"T_18876_row7_col0\" class=\"data row7 col0\" >4.0</td>\n",
              "      <td id=\"T_18876_row7_col1\" class=\"data row7 col1\" >3.0</td>\n",
              "      <td id=\"T_18876_row7_col2\" class=\"data row7 col2\" >1.0</td>\n",
              "      <td id=\"T_18876_row7_col3\" class=\"data row7 col3\" >3.0</td>\n",
              "      <td id=\"T_18876_row7_col4\" class=\"data row7 col4\" >7.0</td>\n",
              "    </tr>\n",
              "    <tr>\n",
              "      <th id=\"T_18876_level0_row8\" class=\"row_heading level0 row8\" >ocir_hd</th>\n",
              "      <td id=\"T_18876_row8_col0\" class=\"data row8 col0\" >4.0</td>\n",
              "      <td id=\"T_18876_row8_col1\" class=\"data row8 col1\" >1.0</td>\n",
              "      <td id=\"T_18876_row8_col2\" class=\"data row8 col2\" >1.0</td>\n",
              "      <td id=\"T_18876_row8_col3\" class=\"data row8 col3\" >1.0</td>\n",
              "      <td id=\"T_18876_row8_col4\" class=\"data row8 col4\" >4.0</td>\n",
              "    </tr>\n",
              "    <tr>\n",
              "      <th id=\"T_18876_level0_row9\" class=\"row_heading level0 row9\" >ocir_neut</th>\n",
              "      <td id=\"T_18876_row9_col0\" class=\"data row9 col0\" >2.0</td>\n",
              "      <td id=\"T_18876_row9_col1\" class=\"data row9 col1\" >2.0</td>\n",
              "      <td id=\"T_18876_row9_col2\" class=\"data row9 col2\" >0.0</td>\n",
              "      <td id=\"T_18876_row9_col3\" class=\"data row9 col3\" >1.0</td>\n",
              "      <td id=\"T_18876_row9_col4\" class=\"data row9 col4\" >7.0</td>\n",
              "    </tr>\n",
              "    <tr>\n",
              "      <th id=\"T_18876_level0_row10\" class=\"row_heading level0 row10\" >ocir_obs</th>\n",
              "      <td id=\"T_18876_row10_col0\" class=\"data row10 col0\" >5.0</td>\n",
              "      <td id=\"T_18876_row10_col1\" class=\"data row10 col1\" >8.0</td>\n",
              "      <td id=\"T_18876_row10_col2\" class=\"data row10 col2\" >4.0</td>\n",
              "      <td id=\"T_18876_row10_col3\" class=\"data row10 col3\" >10.0</td>\n",
              "      <td id=\"T_18876_row10_col4\" class=\"data row10 col4\" >10.0</td>\n",
              "    </tr>\n",
              "    <tr>\n",
              "      <th id=\"T_18876_level0_row11\" class=\"row_heading level0 row11\" >ocir_ord</th>\n",
              "      <td id=\"T_18876_row11_col0\" class=\"data row11 col0\" >6.0</td>\n",
              "      <td id=\"T_18876_row11_col1\" class=\"data row11 col1\" >2.0</td>\n",
              "      <td id=\"T_18876_row11_col2\" class=\"data row11 col2\" >1.0</td>\n",
              "      <td id=\"T_18876_row11_col3\" class=\"data row11 col3\" >1.0</td>\n",
              "      <td id=\"T_18876_row11_col4\" class=\"data row11 col4\" >7.0</td>\n",
              "    </tr>\n",
              "    <tr>\n",
              "      <th id=\"T_18876_level0_row12\" class=\"row_heading level0 row12\" >ocir_ws</th>\n",
              "      <td id=\"T_18876_row12_col0\" class=\"data row12 col0\" >1.0</td>\n",
              "      <td id=\"T_18876_row12_col1\" class=\"data row12 col1\" >9.0</td>\n",
              "      <td id=\"T_18876_row12_col2\" class=\"data row12 col2\" >0.0</td>\n",
              "      <td id=\"T_18876_row12_col3\" class=\"data row12 col3\" >0.0</td>\n",
              "      <td id=\"T_18876_row12_col4\" class=\"data row12 col4\" >7.0</td>\n",
              "    </tr>\n",
              "    <tr>\n",
              "      <th id=\"T_18876_level0_row13\" class=\"row_heading level0 row13\" >ybocs_obs</th>\n",
              "      <td id=\"T_18876_row13_col0\" class=\"data row13 col0\" >14.0</td>\n",
              "      <td id=\"T_18876_row13_col1\" class=\"data row13 col1\" >16.0</td>\n",
              "      <td id=\"T_18876_row13_col2\" class=\"data row13 col2\" >11.0</td>\n",
              "      <td id=\"T_18876_row13_col3\" class=\"data row13 col3\" >16.0</td>\n",
              "      <td id=\"T_18876_row13_col4\" class=\"data row13 col4\" >17.0</td>\n",
              "    </tr>\n",
              "    <tr>\n",
              "      <th id=\"T_18876_level0_row14\" class=\"row_heading level0 row14\" >ybocs_comp</th>\n",
              "      <td id=\"T_18876_row14_col0\" class=\"data row14 col0\" >10.0</td>\n",
              "      <td id=\"T_18876_row14_col1\" class=\"data row14 col1\" >11.0</td>\n",
              "      <td id=\"T_18876_row14_col2\" class=\"data row14 col2\" >7.0</td>\n",
              "      <td id=\"T_18876_row14_col3\" class=\"data row14 col3\" >9.0</td>\n",
              "      <td id=\"T_18876_row14_col4\" class=\"data row14 col4\" >11.0</td>\n",
              "    </tr>\n",
              "  </tbody>\n",
              "</table>\n"
            ]
          },
          "metadata": {},
          "execution_count": 77
        }
      ]
    },
    {
      "cell_type": "code",
      "source": [
        "df_seg5_pc = df_seg5.join(pd.DataFrame(pc_scores_rotated,columns = ['pc0','pc1','pc2','pc3','pc4','pc5']))"
      ],
      "metadata": {
        "id": "fZrm8ZBkoUJo"
      },
      "execution_count": null,
      "outputs": []
    },
    {
      "cell_type": "code",
      "source": [
        "df_seg5_pc.groupby('segment')[['pc0','pc1','pc2','pc3','pc4','pc5']].mean().T.style.format('{:,.1f}').background_gradient(low=0, high=3,cmap='rocket_r', axis = 1)"
      ],
      "metadata": {
        "colab": {
          "base_uri": "https://localhost:8080/",
          "height": 238
        },
        "id": "8IW-oImNn7aE",
        "outputId": "c07919e7-4b5c-436d-8b9c-1063b452e2df"
      },
      "execution_count": null,
      "outputs": [
        {
          "output_type": "execute_result",
          "data": {
            "text/plain": [
              "<pandas.io.formats.style.Styler at 0x7bbfb4c2f490>"
            ],
            "text/html": [
              "<style type=\"text/css\">\n",
              "#T_1c76d_row0_col0 {\n",
              "  background-color: #f9e0cd;\n",
              "  color: #000000;\n",
              "}\n",
              "#T_1c76d_row0_col1 {\n",
              "  background-color: #fae9da;\n",
              "  color: #000000;\n",
              "}\n",
              "#T_1c76d_row0_col2, #T_1c76d_row1_col0, #T_1c76d_row2_col3, #T_1c76d_row3_col2, #T_1c76d_row4_col2, #T_1c76d_row5_col3 {\n",
              "  background-color: #faebdd;\n",
              "  color: #000000;\n",
              "}\n",
              "#T_1c76d_row0_col3 {\n",
              "  background-color: #f8d7c0;\n",
              "  color: #000000;\n",
              "}\n",
              "#T_1c76d_row0_col4, #T_1c76d_row2_col0 {\n",
              "  background-color: #f58860;\n",
              "  color: #f1f1f1;\n",
              "}\n",
              "#T_1c76d_row1_col1 {\n",
              "  background-color: #f7d0b5;\n",
              "  color: #000000;\n",
              "}\n",
              "#T_1c76d_row1_col2 {\n",
              "  background-color: #fae8d8;\n",
              "  color: #000000;\n",
              "}\n",
              "#T_1c76d_row1_col3, #T_1c76d_row2_col4, #T_1c76d_row3_col1, #T_1c76d_row4_col4, #T_1c76d_row5_col1 {\n",
              "  background-color: #f4865e;\n",
              "  color: #f1f1f1;\n",
              "}\n",
              "#T_1c76d_row1_col4, #T_1c76d_row4_col3 {\n",
              "  background-color: #f5976e;\n",
              "  color: #000000;\n",
              "}\n",
              "#T_1c76d_row2_col1, #T_1c76d_row5_col2 {\n",
              "  background-color: #f9dfcb;\n",
              "  color: #000000;\n",
              "}\n",
              "#T_1c76d_row2_col2 {\n",
              "  background-color: #f9ddc9;\n",
              "  color: #000000;\n",
              "}\n",
              "#T_1c76d_row3_col0 {\n",
              "  background-color: #f5966c;\n",
              "  color: #000000;\n",
              "}\n",
              "#T_1c76d_row3_col3 {\n",
              "  background-color: #f59970;\n",
              "  color: #000000;\n",
              "}\n",
              "#T_1c76d_row3_col4 {\n",
              "  background-color: #f69b71;\n",
              "  color: #000000;\n",
              "}\n",
              "#T_1c76d_row4_col0 {\n",
              "  background-color: #f6a880;\n",
              "  color: #000000;\n",
              "}\n",
              "#T_1c76d_row4_col1 {\n",
              "  background-color: #f8d4bc;\n",
              "  color: #000000;\n",
              "}\n",
              "#T_1c76d_row5_col0 {\n",
              "  background-color: #fae6d6;\n",
              "  color: #000000;\n",
              "}\n",
              "#T_1c76d_row5_col4 {\n",
              "  background-color: #f6b18b;\n",
              "  color: #000000;\n",
              "}\n",
              "</style>\n",
              "<table id=\"T_1c76d\" class=\"dataframe\">\n",
              "  <thead>\n",
              "    <tr>\n",
              "      <th class=\"index_name level0\" >segment</th>\n",
              "      <th id=\"T_1c76d_level0_col0\" class=\"col_heading level0 col0\" >0</th>\n",
              "      <th id=\"T_1c76d_level0_col1\" class=\"col_heading level0 col1\" >1</th>\n",
              "      <th id=\"T_1c76d_level0_col2\" class=\"col_heading level0 col2\" >2</th>\n",
              "      <th id=\"T_1c76d_level0_col3\" class=\"col_heading level0 col3\" >3</th>\n",
              "      <th id=\"T_1c76d_level0_col4\" class=\"col_heading level0 col4\" >4</th>\n",
              "    </tr>\n",
              "  </thead>\n",
              "  <tbody>\n",
              "    <tr>\n",
              "      <th id=\"T_1c76d_level0_row0\" class=\"row_heading level0 row0\" >pc0</th>\n",
              "      <td id=\"T_1c76d_row0_col0\" class=\"data row0 col0\" >-0.2</td>\n",
              "      <td id=\"T_1c76d_row0_col1\" class=\"data row0 col1\" >-0.3</td>\n",
              "      <td id=\"T_1c76d_row0_col2\" class=\"data row0 col2\" >-0.3</td>\n",
              "      <td id=\"T_1c76d_row0_col3\" class=\"data row0 col3\" >-0.1</td>\n",
              "      <td id=\"T_1c76d_row0_col4\" class=\"data row0 col4\" >0.8</td>\n",
              "    </tr>\n",
              "    <tr>\n",
              "      <th id=\"T_1c76d_level0_row1\" class=\"row_heading level0 row1\" >pc1</th>\n",
              "      <td id=\"T_1c76d_row1_col0\" class=\"data row1 col0\" >-0.7</td>\n",
              "      <td id=\"T_1c76d_row1_col1\" class=\"data row1 col1\" >-0.3</td>\n",
              "      <td id=\"T_1c76d_row1_col2\" class=\"data row1 col2\" >-0.6</td>\n",
              "      <td id=\"T_1c76d_row1_col3\" class=\"data row1 col3\" >0.8</td>\n",
              "      <td id=\"T_1c76d_row1_col4\" class=\"data row1 col4\" >0.6</td>\n",
              "    </tr>\n",
              "    <tr>\n",
              "      <th id=\"T_1c76d_level0_row2\" class=\"row_heading level0 row2\" >pc2</th>\n",
              "      <td id=\"T_1c76d_row2_col0\" class=\"data row2 col0\" >0.8</td>\n",
              "      <td id=\"T_1c76d_row2_col1\" class=\"data row2 col1\" >-0.5</td>\n",
              "      <td id=\"T_1c76d_row2_col2\" class=\"data row2 col2\" >-0.5</td>\n",
              "      <td id=\"T_1c76d_row2_col3\" class=\"data row2 col3\" >-0.7</td>\n",
              "      <td id=\"T_1c76d_row2_col4\" class=\"data row2 col4\" >0.8</td>\n",
              "    </tr>\n",
              "    <tr>\n",
              "      <th id=\"T_1c76d_level0_row3\" class=\"row_heading level0 row3\" >pc3</th>\n",
              "      <td id=\"T_1c76d_row3_col0\" class=\"data row3 col0\" >0.2</td>\n",
              "      <td id=\"T_1c76d_row3_col1\" class=\"data row3 col1\" >0.4</td>\n",
              "      <td id=\"T_1c76d_row3_col2\" class=\"data row3 col2\" >-0.9</td>\n",
              "      <td id=\"T_1c76d_row3_col3\" class=\"data row3 col3\" >0.2</td>\n",
              "      <td id=\"T_1c76d_row3_col4\" class=\"data row3 col4\" >0.1</td>\n",
              "    </tr>\n",
              "    <tr>\n",
              "      <th id=\"T_1c76d_level0_row4\" class=\"row_heading level0 row4\" >pc4</th>\n",
              "      <td id=\"T_1c76d_row4_col0\" class=\"data row4 col0\" >0.1</td>\n",
              "      <td id=\"T_1c76d_row4_col1\" class=\"data row4 col1\" >-0.3</td>\n",
              "      <td id=\"T_1c76d_row4_col2\" class=\"data row4 col2\" >-0.5</td>\n",
              "      <td id=\"T_1c76d_row4_col3\" class=\"data row4 col3\" >0.2</td>\n",
              "      <td id=\"T_1c76d_row4_col4\" class=\"data row4 col4\" >0.4</td>\n",
              "    </tr>\n",
              "    <tr>\n",
              "      <th id=\"T_1c76d_level0_row5\" class=\"row_heading level0 row5\" >pc5</th>\n",
              "      <td id=\"T_1c76d_row5_col0\" class=\"data row5 col0\" >-0.6</td>\n",
              "      <td id=\"T_1c76d_row5_col1\" class=\"data row5 col1\" >1.4</td>\n",
              "      <td id=\"T_1c76d_row5_col2\" class=\"data row5 col2\" >-0.4</td>\n",
              "      <td id=\"T_1c76d_row5_col3\" class=\"data row5 col3\" >-0.7</td>\n",
              "      <td id=\"T_1c76d_row5_col4\" class=\"data row5 col4\" >0.5</td>\n",
              "    </tr>\n",
              "  </tbody>\n",
              "</table>\n"
            ]
          },
          "metadata": {},
          "execution_count": 79
        }
      ]
    },
    {
      "cell_type": "code",
      "source": [
        "output = df_seg5[int_theme_col+['segment']].groupby('segment').median().T\n",
        "output.style.format('{:,.1f}').background_gradient(low=0, high=3,cmap='rocket_r', axis = 1)"
      ],
      "metadata": {
        "colab": {
          "base_uri": "https://localhost:8080/",
          "height": 520
        },
        "id": "fkH35cWhm_hy",
        "outputId": "87c19814-e435-49a3-e30b-7cd7db93e507"
      },
      "execution_count": null,
      "outputs": [
        {
          "output_type": "execute_result",
          "data": {
            "text/plain": [
              "<pandas.io.formats.style.Styler at 0x7bbfb7730910>"
            ],
            "text/html": [
              "<style type=\"text/css\">\n",
              "#T_b066f_row0_col0, #T_b066f_row7_col1, #T_b066f_row7_col3 {\n",
              "  background-color: #f7ccaf;\n",
              "  color: #000000;\n",
              "}\n",
              "#T_b066f_row0_col1 {\n",
              "  background-color: #f7caac;\n",
              "  color: #000000;\n",
              "}\n",
              "#T_b066f_row0_col2, #T_b066f_row1_col2, #T_b066f_row2_col2, #T_b066f_row3_col2, #T_b066f_row3_col3, #T_b066f_row4_col2, #T_b066f_row5_col2, #T_b066f_row6_col2, #T_b066f_row6_col3, #T_b066f_row7_col2, #T_b066f_row8_col1, #T_b066f_row8_col2, #T_b066f_row8_col3, #T_b066f_row9_col2, #T_b066f_row10_col2, #T_b066f_row11_col2, #T_b066f_row11_col3, #T_b066f_row12_col2, #T_b066f_row12_col3, #T_b066f_row13_col2, #T_b066f_row14_col2 {\n",
              "  background-color: #faebdd;\n",
              "  color: #000000;\n",
              "}\n",
              "#T_b066f_row0_col3, #T_b066f_row1_col3 {\n",
              "  background-color: #f6b48f;\n",
              "  color: #000000;\n",
              "}\n",
              "#T_b066f_row0_col4, #T_b066f_row1_col4, #T_b066f_row2_col4, #T_b066f_row3_col1, #T_b066f_row4_col4, #T_b066f_row5_col4, #T_b066f_row6_col4, #T_b066f_row7_col4, #T_b066f_row8_col0, #T_b066f_row8_col4, #T_b066f_row9_col4, #T_b066f_row10_col3, #T_b066f_row10_col4, #T_b066f_row11_col4, #T_b066f_row12_col1, #T_b066f_row13_col4, #T_b066f_row14_col1, #T_b066f_row14_col4 {\n",
              "  background-color: #f4865e;\n",
              "  color: #f1f1f1;\n",
              "}\n",
              "#T_b066f_row1_col0 {\n",
              "  background-color: #f5976e;\n",
              "  color: #000000;\n",
              "}\n",
              "#T_b066f_row1_col1, #T_b066f_row4_col1, #T_b066f_row9_col0, #T_b066f_row9_col1 {\n",
              "  background-color: #f7d0b5;\n",
              "  color: #000000;\n",
              "}\n",
              "#T_b066f_row2_col0, #T_b066f_row5_col1 {\n",
              "  background-color: #f8d1b8;\n",
              "  color: #000000;\n",
              "}\n",
              "#T_b066f_row2_col1 {\n",
              "  background-color: #f8d6be;\n",
              "  color: #000000;\n",
              "}\n",
              "#T_b066f_row2_col3 {\n",
              "  background-color: #f5966c;\n",
              "  color: #000000;\n",
              "}\n",
              "#T_b066f_row3_col0 {\n",
              "  background-color: #f9dfcb;\n",
              "  color: #000000;\n",
              "}\n",
              "#T_b066f_row3_col4 {\n",
              "  background-color: #f69c73;\n",
              "  color: #000000;\n",
              "}\n",
              "#T_b066f_row4_col0 {\n",
              "  background-color: #f7c6a6;\n",
              "  color: #000000;\n",
              "}\n",
              "#T_b066f_row4_col3 {\n",
              "  background-color: #f6bf9d;\n",
              "  color: #000000;\n",
              "}\n",
              "#T_b066f_row5_col0, #T_b066f_row6_col1 {\n",
              "  background-color: #f8dac5;\n",
              "  color: #000000;\n",
              "}\n",
              "#T_b066f_row5_col3, #T_b066f_row6_col0 {\n",
              "  background-color: #f59067;\n",
              "  color: #f1f1f1;\n",
              "}\n",
              "#T_b066f_row7_col0, #T_b066f_row13_col0, #T_b066f_row14_col3 {\n",
              "  background-color: #f6bb97;\n",
              "  color: #000000;\n",
              "}\n",
              "#T_b066f_row9_col3 {\n",
              "  background-color: #f9ddc9;\n",
              "  color: #000000;\n",
              "}\n",
              "#T_b066f_row10_col0, #T_b066f_row11_col1 {\n",
              "  background-color: #f8dcc7;\n",
              "  color: #000000;\n",
              "}\n",
              "#T_b066f_row10_col1 {\n",
              "  background-color: #f6ab83;\n",
              "  color: #000000;\n",
              "}\n",
              "#T_b066f_row11_col0, #T_b066f_row13_col1, #T_b066f_row13_col3 {\n",
              "  background-color: #f59970;\n",
              "  color: #000000;\n",
              "}\n",
              "#T_b066f_row12_col0 {\n",
              "  background-color: #f9e0cd;\n",
              "  color: #000000;\n",
              "}\n",
              "#T_b066f_row12_col4 {\n",
              "  background-color: #f6a077;\n",
              "  color: #000000;\n",
              "}\n",
              "#T_b066f_row14_col0 {\n",
              "  background-color: #f6a178;\n",
              "  color: #000000;\n",
              "}\n",
              "</style>\n",
              "<table id=\"T_b066f\" class=\"dataframe\">\n",
              "  <thead>\n",
              "    <tr>\n",
              "      <th class=\"index_name level0\" >segment</th>\n",
              "      <th id=\"T_b066f_level0_col0\" class=\"col_heading level0 col0\" >0</th>\n",
              "      <th id=\"T_b066f_level0_col1\" class=\"col_heading level0 col1\" >1</th>\n",
              "      <th id=\"T_b066f_level0_col2\" class=\"col_heading level0 col2\" >2</th>\n",
              "      <th id=\"T_b066f_level0_col3\" class=\"col_heading level0 col3\" >3</th>\n",
              "      <th id=\"T_b066f_level0_col4\" class=\"col_heading level0 col4\" >4</th>\n",
              "    </tr>\n",
              "  </thead>\n",
              "  <tbody>\n",
              "    <tr>\n",
              "      <th id=\"T_b066f_level0_row0\" class=\"row_heading level0 row0\" >obq_rt</th>\n",
              "      <td id=\"T_b066f_row0_col0\" class=\"data row0 col0\" >60.0</td>\n",
              "      <td id=\"T_b066f_row0_col1\" class=\"data row0 col1\" >60.5</td>\n",
              "      <td id=\"T_b066f_row0_col2\" class=\"data row0 col2\" >45.0</td>\n",
              "      <td id=\"T_b066f_row0_col3\" class=\"data row0 col3\" >71.0</td>\n",
              "      <td id=\"T_b066f_row0_col4\" class=\"data row0 col4\" >90.0</td>\n",
              "    </tr>\n",
              "    <tr>\n",
              "      <th id=\"T_b066f_level0_row1\" class=\"row_heading level0 row1\" >obq_pc</th>\n",
              "      <td id=\"T_b066f_row1_col0\" class=\"data row1 col0\" >85.0</td>\n",
              "      <td id=\"T_b066f_row1_col1\" class=\"data row1 col1\" >65.0</td>\n",
              "      <td id=\"T_b066f_row1_col2\" class=\"data row1 col2\" >55.0</td>\n",
              "      <td id=\"T_b066f_row1_col3\" class=\"data row1 col3\" >75.0</td>\n",
              "      <td id=\"T_b066f_row1_col4\" class=\"data row1 col4\" >90.0</td>\n",
              "    </tr>\n",
              "    <tr>\n",
              "      <th id=\"T_b066f_level0_row2\" class=\"row_heading level0 row2\" >obq_ict</th>\n",
              "      <td id=\"T_b066f_row2_col0\" class=\"data row2 col0\" >32.0</td>\n",
              "      <td id=\"T_b066f_row2_col1\" class=\"data row2 col1\" >31.0</td>\n",
              "      <td id=\"T_b066f_row2_col2\" class=\"data row2 col2\" >24.0</td>\n",
              "      <td id=\"T_b066f_row2_col3\" class=\"data row2 col3\" >50.0</td>\n",
              "      <td id=\"T_b066f_row2_col4\" class=\"data row2 col4\" >54.0</td>\n",
              "    </tr>\n",
              "    <tr>\n",
              "      <th id=\"T_b066f_level0_row3\" class=\"row_heading level0 row3\" >docs_ctm</th>\n",
              "      <td id=\"T_b066f_row3_col0\" class=\"data row3 col0\" >2.0</td>\n",
              "      <td id=\"T_b066f_row3_col1\" class=\"data row3 col1\" >15.0</td>\n",
              "      <td id=\"T_b066f_row3_col2\" class=\"data row3 col2\" >0.0</td>\n",
              "      <td id=\"T_b066f_row3_col3\" class=\"data row3 col3\" >0.0</td>\n",
              "      <td id=\"T_b066f_row3_col4\" class=\"data row3 col4\" >12.0</td>\n",
              "    </tr>\n",
              "    <tr>\n",
              "      <th id=\"T_b066f_level0_row4\" class=\"row_heading level0 row4\" >docs_rsp</th>\n",
              "      <td id=\"T_b066f_row4_col0\" class=\"data row4 col0\" >5.5</td>\n",
              "      <td id=\"T_b066f_row4_col1\" class=\"data row4 col1\" >4.0</td>\n",
              "      <td id=\"T_b066f_row4_col2\" class=\"data row4 col2\" >0.0</td>\n",
              "      <td id=\"T_b066f_row4_col3\" class=\"data row4 col3\" >6.5</td>\n",
              "      <td id=\"T_b066f_row4_col4\" class=\"data row4 col4\" >14.0</td>\n",
              "    </tr>\n",
              "    <tr>\n",
              "      <th id=\"T_b066f_level0_row5\" class=\"row_heading level0 row5\" >docs_unacc</th>\n",
              "      <td id=\"T_b066f_row5_col0\" class=\"data row5 col0\" >6.0</td>\n",
              "      <td id=\"T_b066f_row5_col1\" class=\"data row5 col1\" >7.0</td>\n",
              "      <td id=\"T_b066f_row5_col2\" class=\"data row5 col2\" >4.0</td>\n",
              "      <td id=\"T_b066f_row5_col3\" class=\"data row5 col3\" >14.0</td>\n",
              "      <td id=\"T_b066f_row5_col4\" class=\"data row5 col4\" >15.0</td>\n",
              "    </tr>\n",
              "    <tr>\n",
              "      <th id=\"T_b066f_level0_row6\" class=\"row_heading level0 row6\" >docs_right</th>\n",
              "      <td id=\"T_b066f_row6_col0\" class=\"data row6 col0\" >11.0</td>\n",
              "      <td id=\"T_b066f_row6_col1\" class=\"data row6 col1\" >3.0</td>\n",
              "      <td id=\"T_b066f_row6_col2\" class=\"data row6 col2\" >1.0</td>\n",
              "      <td id=\"T_b066f_row6_col3\" class=\"data row6 col3\" >1.0</td>\n",
              "      <td id=\"T_b066f_row6_col4\" class=\"data row6 col4\" >12.0</td>\n",
              "    </tr>\n",
              "    <tr>\n",
              "      <th id=\"T_b066f_level0_row7\" class=\"row_heading level0 row7\" >ocir_chk</th>\n",
              "      <td id=\"T_b066f_row7_col0\" class=\"data row7 col0\" >4.0</td>\n",
              "      <td id=\"T_b066f_row7_col1\" class=\"data row7 col1\" >3.0</td>\n",
              "      <td id=\"T_b066f_row7_col2\" class=\"data row7 col2\" >1.0</td>\n",
              "      <td id=\"T_b066f_row7_col3\" class=\"data row7 col3\" >3.0</td>\n",
              "      <td id=\"T_b066f_row7_col4\" class=\"data row7 col4\" >7.0</td>\n",
              "    </tr>\n",
              "    <tr>\n",
              "      <th id=\"T_b066f_level0_row8\" class=\"row_heading level0 row8\" >ocir_hd</th>\n",
              "      <td id=\"T_b066f_row8_col0\" class=\"data row8 col0\" >4.0</td>\n",
              "      <td id=\"T_b066f_row8_col1\" class=\"data row8 col1\" >1.0</td>\n",
              "      <td id=\"T_b066f_row8_col2\" class=\"data row8 col2\" >1.0</td>\n",
              "      <td id=\"T_b066f_row8_col3\" class=\"data row8 col3\" >1.0</td>\n",
              "      <td id=\"T_b066f_row8_col4\" class=\"data row8 col4\" >4.0</td>\n",
              "    </tr>\n",
              "    <tr>\n",
              "      <th id=\"T_b066f_level0_row9\" class=\"row_heading level0 row9\" >ocir_neut</th>\n",
              "      <td id=\"T_b066f_row9_col0\" class=\"data row9 col0\" >2.0</td>\n",
              "      <td id=\"T_b066f_row9_col1\" class=\"data row9 col1\" >2.0</td>\n",
              "      <td id=\"T_b066f_row9_col2\" class=\"data row9 col2\" >0.0</td>\n",
              "      <td id=\"T_b066f_row9_col3\" class=\"data row9 col3\" >1.0</td>\n",
              "      <td id=\"T_b066f_row9_col4\" class=\"data row9 col4\" >7.0</td>\n",
              "    </tr>\n",
              "    <tr>\n",
              "      <th id=\"T_b066f_level0_row10\" class=\"row_heading level0 row10\" >ocir_obs</th>\n",
              "      <td id=\"T_b066f_row10_col0\" class=\"data row10 col0\" >5.0</td>\n",
              "      <td id=\"T_b066f_row10_col1\" class=\"data row10 col1\" >8.0</td>\n",
              "      <td id=\"T_b066f_row10_col2\" class=\"data row10 col2\" >4.0</td>\n",
              "      <td id=\"T_b066f_row10_col3\" class=\"data row10 col3\" >10.0</td>\n",
              "      <td id=\"T_b066f_row10_col4\" class=\"data row10 col4\" >10.0</td>\n",
              "    </tr>\n",
              "    <tr>\n",
              "      <th id=\"T_b066f_level0_row11\" class=\"row_heading level0 row11\" >ocir_ord</th>\n",
              "      <td id=\"T_b066f_row11_col0\" class=\"data row11 col0\" >6.0</td>\n",
              "      <td id=\"T_b066f_row11_col1\" class=\"data row11 col1\" >2.0</td>\n",
              "      <td id=\"T_b066f_row11_col2\" class=\"data row11 col2\" >1.0</td>\n",
              "      <td id=\"T_b066f_row11_col3\" class=\"data row11 col3\" >1.0</td>\n",
              "      <td id=\"T_b066f_row11_col4\" class=\"data row11 col4\" >7.0</td>\n",
              "    </tr>\n",
              "    <tr>\n",
              "      <th id=\"T_b066f_level0_row12\" class=\"row_heading level0 row12\" >ocir_ws</th>\n",
              "      <td id=\"T_b066f_row12_col0\" class=\"data row12 col0\" >1.0</td>\n",
              "      <td id=\"T_b066f_row12_col1\" class=\"data row12 col1\" >9.0</td>\n",
              "      <td id=\"T_b066f_row12_col2\" class=\"data row12 col2\" >0.0</td>\n",
              "      <td id=\"T_b066f_row12_col3\" class=\"data row12 col3\" >0.0</td>\n",
              "      <td id=\"T_b066f_row12_col4\" class=\"data row12 col4\" >7.0</td>\n",
              "    </tr>\n",
              "    <tr>\n",
              "      <th id=\"T_b066f_level0_row13\" class=\"row_heading level0 row13\" >ybocs_obs</th>\n",
              "      <td id=\"T_b066f_row13_col0\" class=\"data row13 col0\" >14.0</td>\n",
              "      <td id=\"T_b066f_row13_col1\" class=\"data row13 col1\" >16.0</td>\n",
              "      <td id=\"T_b066f_row13_col2\" class=\"data row13 col2\" >11.0</td>\n",
              "      <td id=\"T_b066f_row13_col3\" class=\"data row13 col3\" >16.0</td>\n",
              "      <td id=\"T_b066f_row13_col4\" class=\"data row13 col4\" >17.0</td>\n",
              "    </tr>\n",
              "    <tr>\n",
              "      <th id=\"T_b066f_level0_row14\" class=\"row_heading level0 row14\" >ybocs_comp</th>\n",
              "      <td id=\"T_b066f_row14_col0\" class=\"data row14 col0\" >10.0</td>\n",
              "      <td id=\"T_b066f_row14_col1\" class=\"data row14 col1\" >11.0</td>\n",
              "      <td id=\"T_b066f_row14_col2\" class=\"data row14 col2\" >7.0</td>\n",
              "      <td id=\"T_b066f_row14_col3\" class=\"data row14 col3\" >9.0</td>\n",
              "      <td id=\"T_b066f_row14_col4\" class=\"data row14 col4\" >11.0</td>\n",
              "    </tr>\n",
              "  </tbody>\n",
              "</table>\n"
            ]
          },
          "metadata": {},
          "execution_count": 80
        }
      ]
    },
    {
      "cell_type": "code",
      "source": [
        "df_seg5_pc['segment'] = df_seg5_pc['segment'].apply(lambda x: np.where(x==0,'C0 - exterior control',\n",
        "                                                        np.where(x==1,'C1 - contamination/washing',\n",
        "                                                        np.where(x==2,'C2 - sub-clinical',\n",
        "                                                        np.where(x==3,'C3 - interior control', 'C4 - mixed symptoms'\n",
        "                                                        )))))"
      ],
      "metadata": {
        "id": "CqDwSsWFleDG"
      },
      "execution_count": null,
      "outputs": []
    },
    {
      "cell_type": "markdown",
      "source": [
        "Distribution of PC Score by Segment"
      ],
      "metadata": {
        "id": "UzbPeeMjc5tN"
      }
    },
    {
      "cell_type": "code",
      "source": [
        "sorted(list(df_seg5_pc['segment'].unique()))"
      ],
      "metadata": {
        "colab": {
          "base_uri": "https://localhost:8080/"
        },
        "id": "6MtLxm9feGwr",
        "outputId": "008539ce-37e2-49be-c06c-7bf9c94d1a0a"
      },
      "execution_count": null,
      "outputs": [
        {
          "output_type": "execute_result",
          "data": {
            "text/plain": [
              "['C0 - exterior control',\n",
              " 'C1 - contamination/washing',\n",
              " 'C2 - sub-clinical',\n",
              " 'C3 - interior control',\n",
              " 'C4 - mixed symptoms']"
            ]
          },
          "metadata": {},
          "execution_count": 104
        }
      ]
    },
    {
      "cell_type": "code",
      "source": [
        "segments = sorted(list(df_seg5_pc['segment'].unique()))\n",
        "fig, axes = plt.subplots(nrows=len(segments), figsize=(10, 12), sharex=True)\n",
        "for ax, segment in zip(axes,segments):\n",
        "  seg= df_seg5_pc[df_seg5_pc['segment']==segment][['pc0','pc1','pc2','pc3','pc4','pc5']]\n",
        "  ax.hist(seg, bins=8, alpha=0.3)\n",
        "  ax.set_title(str(segment))\n",
        "  ax.set_yticks([0, 100])\n",
        "  ax.legend(['pc0','pc1','pc2','pc3','pc4','pc5'])\n",
        "plt.show()"
      ],
      "metadata": {
        "colab": {
          "base_uri": "https://localhost:8080/",
          "height": 1000
        },
        "id": "iz4sV3jpc44A",
        "outputId": "cf095ea2-08fb-4e7f-ec2e-7fc130fbbe97"
      },
      "execution_count": null,
      "outputs": [
        {
          "output_type": "display_data",
          "data": {
            "text/plain": [
              "<Figure size 1000x1200 with 5 Axes>"
            ],
            "image/png": "[encoded data removed]"
          },
          "metadata": {}
        }
      ]
    },
    {
      "cell_type": "markdown",
      "source": [
        "Profile analysis"
      ],
      "metadata": {
        "id": "bxm6b-V0UFhD"
      }
    },
    {
      "cell_type": "code",
      "source": [
        "df_seg5[demo_col].isnull().sum()"
      ],
      "metadata": {
        "colab": {
          "base_uri": "https://localhost:8080/"
        },
        "id": "aRLhbSSqff6r",
        "outputId": "1be0af1f-edc6-4d18-a5e6-fed3349ce442"
      },
      "execution_count": null,
      "outputs": [
        {
          "output_type": "execute_result",
          "data": {
            "text/plain": [
              "age                     0\n",
              "gender_allphases        0\n",
              "Race                    0\n",
              "education_level         1\n",
              "sexual_orientation    467\n",
              "dtype: int64"
            ]
          },
          "metadata": {},
          "execution_count": 109
        }
      ]
    },
    {
      "cell_type": "code",
      "source": [
        "import scipy.stats as stats\n",
        "import statsmodels.api as sm\n",
        "from statsmodels.formula.api import ols"
      ],
      "metadata": {
        "id": "N6bWesmL-JZR"
      },
      "execution_count": null,
      "outputs": []
    },
    {
      "cell_type": "markdown",
      "source": [
        "Age"
      ],
      "metadata": {
        "id": "GyE-0FXl_BLW"
      }
    },
    {
      "cell_type": "code",
      "source": [
        "df_seg5[['age']+['segment']].groupby('segment').median().T.style.format('{:,.2f}').background_gradient(low=0, high=3,cmap='rocket_r', axis = 1)"
      ],
      "metadata": {
        "colab": {
          "base_uri": "https://localhost:8080/",
          "height": 81
        },
        "id": "GPgfmtj3nr9i",
        "outputId": "800f774d-4b62-45de-b271-f3be81c53e92"
      },
      "execution_count": null,
      "outputs": [
        {
          "output_type": "execute_result",
          "data": {
            "text/plain": [
              "<pandas.io.formats.style.Styler at 0x7bbfb4ab7d90>"
            ],
            "text/html": [
              "<style type=\"text/css\">\n",
              "#T_21064_row0_col0 {\n",
              "  background-color: #faebdd;\n",
              "  color: #000000;\n",
              "}\n",
              "#T_21064_row0_col1, #T_21064_row0_col2, #T_21064_row0_col3, #T_21064_row0_col4 {\n",
              "  background-color: #f4865e;\n",
              "  color: #f1f1f1;\n",
              "}\n",
              "</style>\n",
              "<table id=\"T_21064\" class=\"dataframe\">\n",
              "  <thead>\n",
              "    <tr>\n",
              "      <th class=\"index_name level0\" >segment</th>\n",
              "      <th id=\"T_21064_level0_col0\" class=\"col_heading level0 col0\" >0</th>\n",
              "      <th id=\"T_21064_level0_col1\" class=\"col_heading level0 col1\" >1</th>\n",
              "      <th id=\"T_21064_level0_col2\" class=\"col_heading level0 col2\" >2</th>\n",
              "      <th id=\"T_21064_level0_col3\" class=\"col_heading level0 col3\" >3</th>\n",
              "      <th id=\"T_21064_level0_col4\" class=\"col_heading level0 col4\" >4</th>\n",
              "    </tr>\n",
              "  </thead>\n",
              "  <tbody>\n",
              "    <tr>\n",
              "      <th id=\"T_21064_level0_row0\" class=\"row_heading level0 row0\" >age</th>\n",
              "      <td id=\"T_21064_row0_col0\" class=\"data row0 col0\" >25.00</td>\n",
              "      <td id=\"T_21064_row0_col1\" class=\"data row0 col1\" >26.00</td>\n",
              "      <td id=\"T_21064_row0_col2\" class=\"data row0 col2\" >26.00</td>\n",
              "      <td id=\"T_21064_row0_col3\" class=\"data row0 col3\" >26.00</td>\n",
              "      <td id=\"T_21064_row0_col4\" class=\"data row0 col4\" >26.00</td>\n",
              "    </tr>\n",
              "  </tbody>\n",
              "</table>\n"
            ]
          },
          "metadata": {},
          "execution_count": 135
        }
      ]
    },
    {
      "cell_type": "code",
      "source": [
        "frame = df_seg5[['segment','age']].copy()"
      ],
      "metadata": {
        "id": "bJ-jyJ8y_n-m"
      },
      "execution_count": null,
      "outputs": []
    },
    {
      "cell_type": "code",
      "source": [
        "model = ols('age ~ segment',                 # Model formula\n",
        "            data = frame).fit()\n",
        "anova_result = sm.stats.anova_lm(model, typ=2)\n",
        "print (anova_result)"
      ],
      "metadata": {
        "colab": {
          "base_uri": "https://localhost:8080/"
        },
        "id": "xPdQWASL_4mE",
        "outputId": "c66966f4-3cd0-47ea-86e7-a0d8b8518981"
      },
      "execution_count": null,
      "outputs": [
        {
          "output_type": "stream",
          "name": "stdout",
          "text": [
            "                 sum_sq     df         F    PR(>F)\n",
            "segment        0.076810    1.0  0.000579  0.980811\n",
            "Residual  113189.693951  853.0       NaN       NaN\n"
          ]
        }
      ]
    },
    {
      "cell_type": "code",
      "source": [
        "from statsmodels.stats.multicomp import pairwise_tukeyhsd\n",
        "\n",
        "tukey = pairwise_tukeyhsd(endog=frame['age'],     # Data\n",
        "                          groups=frame['segment'],   # Groups\n",
        "                          alpha=0.05)          # Significance level\n",
        "\n",
        "tukey.plot_simultaneous()    # Plot group confidence intervals\n",
        "plt.vlines(x=49.57,ymin=-0.5,ymax=4.5, color=\"red\")\n",
        "\n",
        "tukey.summary()              # See test summary"
      ],
      "metadata": {
        "colab": {
          "base_uri": "https://localhost:8080/",
          "height": 817
        },
        "id": "CNbiy7IdSwHx",
        "outputId": "c188548a-a2f1-43ab-c6e1-fe27b7e730f7"
      },
      "execution_count": null,
      "outputs": [
        {
          "output_type": "execute_result",
          "data": {
            "text/plain": [
              "<class 'statsmodels.iolib.table.SimpleTable'>"
            ],
            "text/html": [
              "<table class=\"simpletable\">\n",
              "<caption>Multiple Comparison of Means - Tukey HSD, FWER=0.05</caption>\n",
              "<tr>\n",
              "  <th>group1</th> <th>group2</th> <th>meandiff</th>  <th>p-adj</th>  <th>lower</th>   <th>upper</th> <th>reject</th>\n",
              "</tr>\n",
              "<tr>\n",
              "     <td>0</td>      <td>1</td>    <td>0.7949</td>  <td>0.9751</td> <td>-2.8286</td> <td>4.4184</td>  <td>False</td>\n",
              "</tr>\n",
              "<tr>\n",
              "     <td>0</td>      <td>2</td>    <td>2.4344</td>  <td>0.3116</td> <td>-1.046</td>  <td>5.9149</td>  <td>False</td>\n",
              "</tr>\n",
              "<tr>\n",
              "     <td>0</td>      <td>3</td>    <td>0.9872</td>  <td>0.9296</td> <td>-2.3716</td>  <td>4.346</td>  <td>False</td>\n",
              "</tr>\n",
              "<tr>\n",
              "     <td>0</td>      <td>4</td>    <td>0.0059</td>    <td>1.0</td>  <td>-3.3927</td> <td>3.4045</td>  <td>False</td>\n",
              "</tr>\n",
              "<tr>\n",
              "     <td>1</td>      <td>2</td>    <td>1.6395</td>  <td>0.7179</td> <td>-1.9273</td> <td>5.2063</td>  <td>False</td>\n",
              "</tr>\n",
              "<tr>\n",
              "     <td>1</td>      <td>3</td>    <td>0.1923</td>  <td>0.9999</td> <td>-3.256</td>  <td>3.6405</td>  <td>False</td>\n",
              "</tr>\n",
              "<tr>\n",
              "     <td>1</td>      <td>4</td>    <td>-0.789</td>  <td>0.9721</td> <td>-4.276</td>  <td>2.6979</td>  <td>False</td>\n",
              "</tr>\n",
              "<tr>\n",
              "     <td>2</td>      <td>3</td>    <td>-1.4472</td> <td>0.7516</td> <td>-4.7448</td> <td>1.8504</td>  <td>False</td>\n",
              "</tr>\n",
              "<tr>\n",
              "     <td>2</td>      <td>4</td>    <td>-2.4285</td> <td>0.2723</td> <td>-5.7666</td> <td>0.9095</td>  <td>False</td>\n",
              "</tr>\n",
              "<tr>\n",
              "     <td>3</td>      <td>4</td>    <td>-0.9813</td> <td>0.9196</td> <td>-4.1924</td> <td>2.2297</td>  <td>False</td>\n",
              "</tr>\n",
              "</table>"
            ],
            "text/latex": "\\begin{center}\n\\begin{tabular}{ccccccc}\n\\toprule\n\\textbf{group1} & \\textbf{group2} & \\textbf{meandiff} & \\textbf{p-adj} & \\textbf{lower} & \\textbf{upper} & \\textbf{reject}  \\\\\n\\midrule\n       0        &        1        &       0.7949      &     0.9751     &    -2.8286     &     4.4184     &      False       \\\\\n       0        &        2        &       2.4344      &     0.3116     &     -1.046     &     5.9149     &      False       \\\\\n       0        &        3        &       0.9872      &     0.9296     &    -2.3716     &     4.346      &      False       \\\\\n       0        &        4        &       0.0059      &      1.0       &    -3.3927     &     3.4045     &      False       \\\\\n       1        &        2        &       1.6395      &     0.7179     &    -1.9273     &     5.2063     &      False       \\\\\n       1        &        3        &       0.1923      &     0.9999     &     -3.256     &     3.6405     &      False       \\\\\n       1        &        4        &       -0.789      &     0.9721     &     -4.276     &     2.6979     &      False       \\\\\n       2        &        3        &      -1.4472      &     0.7516     &    -4.7448     &     1.8504     &      False       \\\\\n       2        &        4        &      -2.4285      &     0.2723     &    -5.7666     &     0.9095     &      False       \\\\\n       3        &        4        &      -0.9813      &     0.9196     &    -4.1924     &     2.2297     &      False       \\\\\n\\bottomrule\n\\end{tabular}\n%\\caption{Multiple Comparison of Means - Tukey HSD, FWER=0.05}\n\\end{center}"
          },
          "metadata": {},
          "execution_count": 138
        },
        {
          "output_type": "display_data",
          "data": {
            "text/plain": [
              "<Figure size 1000x600 with 1 Axes>"
            ],
            "image/png": "[encoded data removed]"
          },
          "metadata": {}
        }
      ]
    },
    {
      "cell_type": "markdown",
      "source": [
        "Gender"
      ],
      "metadata": {
        "id": "Z7SVJM6xAKQk"
      }
    },
    {
      "cell_type": "code",
      "source": [
        "pd.DataFrame(df_seg5[df_seg5['gender_allphases']=='Woman'].groupby('segment')['gender_allphases'].count()/df_seg5.groupby('segment')['gender_allphases'].count()).T.style.format('{:,.2f}').background_gradient(low=0, high=3,cmap='rocket_r', axis = 1)"
      ],
      "metadata": {
        "colab": {
          "base_uri": "https://localhost:8080/",
          "height": 81
        },
        "id": "tHAYfpRDauvY",
        "outputId": "c7b555a9-c625-4e86-aa9d-3ad7d3bc3f47"
      },
      "execution_count": null,
      "outputs": [
        {
          "output_type": "execute_result",
          "data": {
            "text/plain": [
              "<pandas.io.formats.style.Styler at 0x7bbfb4e175b0>"
            ],
            "text/html": [
              "<style type=\"text/css\">\n",
              "#T_f5b1d_row0_col0 {\n",
              "  background-color: #f6a47c;\n",
              "  color: #000000;\n",
              "}\n",
              "#T_f5b1d_row0_col1 {\n",
              "  background-color: #f59269;\n",
              "  color: #000000;\n",
              "}\n",
              "#T_f5b1d_row0_col2 {\n",
              "  background-color: #faebdd;\n",
              "  color: #000000;\n",
              "}\n",
              "#T_f5b1d_row0_col3 {\n",
              "  background-color: #f7c4a4;\n",
              "  color: #000000;\n",
              "}\n",
              "#T_f5b1d_row0_col4 {\n",
              "  background-color: #f4865e;\n",
              "  color: #f1f1f1;\n",
              "}\n",
              "</style>\n",
              "<table id=\"T_f5b1d\" class=\"dataframe\">\n",
              "  <thead>\n",
              "    <tr>\n",
              "      <th class=\"index_name level0\" >segment</th>\n",
              "      <th id=\"T_f5b1d_level0_col0\" class=\"col_heading level0 col0\" >0</th>\n",
              "      <th id=\"T_f5b1d_level0_col1\" class=\"col_heading level0 col1\" >1</th>\n",
              "      <th id=\"T_f5b1d_level0_col2\" class=\"col_heading level0 col2\" >2</th>\n",
              "      <th id=\"T_f5b1d_level0_col3\" class=\"col_heading level0 col3\" >3</th>\n",
              "      <th id=\"T_f5b1d_level0_col4\" class=\"col_heading level0 col4\" >4</th>\n",
              "    </tr>\n",
              "  </thead>\n",
              "  <tbody>\n",
              "    <tr>\n",
              "      <th id=\"T_f5b1d_level0_row0\" class=\"row_heading level0 row0\" >gender_allphases</th>\n",
              "      <td id=\"T_f5b1d_row0_col0\" class=\"data row0 col0\" >0.53</td>\n",
              "      <td id=\"T_f5b1d_row0_col1\" class=\"data row0 col1\" >0.57</td>\n",
              "      <td id=\"T_f5b1d_row0_col2\" class=\"data row0 col2\" >0.33</td>\n",
              "      <td id=\"T_f5b1d_row0_col3\" class=\"data row0 col3\" >0.44</td>\n",
              "      <td id=\"T_f5b1d_row0_col4\" class=\"data row0 col4\" >0.60</td>\n",
              "    </tr>\n",
              "  </tbody>\n",
              "</table>\n"
            ]
          },
          "metadata": {},
          "execution_count": 130
        }
      ]
    },
    {
      "cell_type": "code",
      "source": [
        "df_seg5['is_woman'] = df_seg5['gender_allphases'].apply(lambda x: np.where(x=='Woman',1,0))\n",
        "frame = df_seg5[['segment','is_woman']].copy()"
      ],
      "metadata": {
        "id": "Z_ioWIJZAM7C"
      },
      "execution_count": null,
      "outputs": []
    },
    {
      "cell_type": "code",
      "source": [
        "model = ols('is_woman ~ segment',                 # Model formula\n",
        "            data = frame).fit()\n",
        "anova_result = sm.stats.anova_lm(model, typ=2)\n",
        "print (anova_result)"
      ],
      "metadata": {
        "colab": {
          "base_uri": "https://localhost:8080/"
        },
        "id": "4iRacpAWAPQ-",
        "outputId": "4aae9b81-9e24-4381-c531-799dbdd5b992"
      },
      "execution_count": null,
      "outputs": [
        {
          "output_type": "stream",
          "name": "stdout",
          "text": [
            "              sum_sq     df         F    PR(>F)\n",
            "segment     0.035043    1.0  0.139937  0.708436\n",
            "Residual  213.609401  853.0       NaN       NaN\n"
          ]
        }
      ]
    },
    {
      "cell_type": "code",
      "source": [
        "from statsmodels.stats.multicomp import pairwise_tukeyhsd\n",
        "\n",
        "tukey = pairwise_tukeyhsd(endog=frame['is_woman'],     # Data\n",
        "                          groups=frame['segment'],   # Groups\n",
        "                          alpha=0.05)          # Significance level\n",
        "\n",
        "tukey.plot_simultaneous()    # Plot group confidence intervals\n",
        "plt.vlines(x=49.57,ymin=-0.5,ymax=4.5, color=\"red\")\n",
        "\n",
        "tukey.summary()              # See test summary"
      ],
      "metadata": {
        "colab": {
          "base_uri": "https://localhost:8080/",
          "height": 799
        },
        "id": "yyVuRXLuBi0F",
        "outputId": "bce37a7c-5460-442f-b461-ba06a7a42bb0"
      },
      "execution_count": null,
      "outputs": [
        {
          "output_type": "execute_result",
          "data": {
            "text/plain": [
              "<class 'statsmodels.iolib.table.SimpleTable'>"
            ],
            "text/html": [
              "<table class=\"simpletable\">\n",
              "<caption>Multiple Comparison of Means - Tukey HSD, FWER=0.05</caption>\n",
              "<tr>\n",
              "  <th>group1</th> <th>group2</th> <th>meandiff</th>  <th>p-adj</th>  <th>lower</th>   <th>upper</th>  <th>reject</th>\n",
              "</tr>\n",
              "<tr>\n",
              "     <td>0</td>      <td>1</td>    <td>0.0441</td>  <td>0.9365</td> <td>-0.1106</td> <td>0.1989</td>   <td>False</td>\n",
              "</tr>\n",
              "<tr>\n",
              "     <td>0</td>      <td>2</td>    <td>-0.1999</td> <td>0.0023</td> <td>-0.3485</td> <td>-0.0512</td>  <td>True</td> \n",
              "</tr>\n",
              "<tr>\n",
              "     <td>0</td>      <td>3</td>    <td>-0.0888</td> <td>0.4396</td> <td>-0.2322</td> <td>0.0547</td>   <td>False</td>\n",
              "</tr>\n",
              "<tr>\n",
              "     <td>0</td>      <td>4</td>    <td>0.0736</td>  <td>0.6365</td> <td>-0.0715</td> <td>0.2187</td>   <td>False</td>\n",
              "</tr>\n",
              "<tr>\n",
              "     <td>1</td>      <td>2</td>    <td>-0.244</td>  <td>0.0001</td> <td>-0.3963</td> <td>-0.0917</td>  <td>True</td> \n",
              "</tr>\n",
              "<tr>\n",
              "     <td>1</td>      <td>3</td>    <td>-0.1329</td> <td>0.0992</td> <td>-0.2801</td> <td>0.0144</td>   <td>False</td>\n",
              "</tr>\n",
              "<tr>\n",
              "     <td>1</td>      <td>4</td>    <td>0.0295</td>   <td>0.983</td> <td>-0.1194</td> <td>0.1784</td>   <td>False</td>\n",
              "</tr>\n",
              "<tr>\n",
              "     <td>2</td>      <td>3</td>    <td>0.1111</td>  <td>0.1974</td> <td>-0.0297</td> <td>0.2519</td>   <td>False</td>\n",
              "</tr>\n",
              "<tr>\n",
              "     <td>2</td>      <td>4</td>    <td>0.2735</td>    <td>0.0</td>  <td>0.1309</td>   <td>0.416</td>   <td>True</td> \n",
              "</tr>\n",
              "<tr>\n",
              "     <td>3</td>      <td>4</td>    <td>0.1624</td>   <td>0.011</td> <td>0.0253</td>  <td>0.2995</td>   <td>True</td> \n",
              "</tr>\n",
              "</table>"
            ],
            "text/latex": "\\begin{center}\n\\begin{tabular}{ccccccc}\n\\toprule\n\\textbf{group1} & \\textbf{group2} & \\textbf{meandiff} & \\textbf{p-adj} & \\textbf{lower} & \\textbf{upper} & \\textbf{reject}  \\\\\n\\midrule\n       0        &        1        &       0.0441      &     0.9365     &    -0.1106     &     0.1989     &      False       \\\\\n       0        &        2        &      -0.1999      &     0.0023     &    -0.3485     &    -0.0512     &       True       \\\\\n       0        &        3        &      -0.0888      &     0.4396     &    -0.2322     &     0.0547     &      False       \\\\\n       0        &        4        &       0.0736      &     0.6365     &    -0.0715     &     0.2187     &      False       \\\\\n       1        &        2        &       -0.244      &     0.0001     &    -0.3963     &    -0.0917     &       True       \\\\\n       1        &        3        &      -0.1329      &     0.0992     &    -0.2801     &     0.0144     &      False       \\\\\n       1        &        4        &       0.0295      &     0.983      &    -0.1194     &     0.1784     &      False       \\\\\n       2        &        3        &       0.1111      &     0.1974     &    -0.0297     &     0.2519     &      False       \\\\\n       2        &        4        &       0.2735      &      0.0       &     0.1309     &     0.416      &       True       \\\\\n       3        &        4        &       0.1624      &     0.011      &     0.0253     &     0.2995     &       True       \\\\\n\\bottomrule\n\\end{tabular}\n%\\caption{Multiple Comparison of Means - Tukey HSD, FWER=0.05}\n\\end{center}"
          },
          "metadata": {},
          "execution_count": 133
        },
        {
          "output_type": "display_data",
          "data": {
            "text/plain": [
              "<Figure size 1000x600 with 1 Axes>"
            ],
            "image/png": "[encoded data removed]"
          },
          "metadata": {}
        }
      ]
    },
    {
      "cell_type": "markdown",
      "source": [
        "Race (White)"
      ],
      "metadata": {
        "id": "kNr68Ss4DPTo"
      }
    },
    {
      "cell_type": "code",
      "source": [
        "pd.DataFrame(df_seg5[df_seg5['Race']=='White'].groupby('segment')['Race'].count()/df_seg5.groupby('segment')['Race'].count()).T.style.format('{:,.2f}').background_gradient(low=0, high=3,cmap='rocket_r', axis = 1)"
      ],
      "metadata": {
        "colab": {
          "base_uri": "https://localhost:8080/",
          "height": 81
        },
        "id": "5ZpKfHkhb4oE",
        "outputId": "9187ceba-e0b8-4448-ee4a-bcaed168598f"
      },
      "execution_count": null,
      "outputs": [
        {
          "output_type": "execute_result",
          "data": {
            "text/plain": [
              "<pandas.io.formats.style.Styler at 0x7bbfa9e7fe80>"
            ],
            "text/html": [
              "<style type=\"text/css\">\n",
              "#T_fb9d4_row0_col0 {\n",
              "  background-color: #f7c4a4;\n",
              "  color: #000000;\n",
              "}\n",
              "#T_fb9d4_row0_col1 {\n",
              "  background-color: #faebdd;\n",
              "  color: #000000;\n",
              "}\n",
              "#T_fb9d4_row0_col2 {\n",
              "  background-color: #f8d3ba;\n",
              "  color: #000000;\n",
              "}\n",
              "#T_fb9d4_row0_col3 {\n",
              "  background-color: #f4865e;\n",
              "  color: #f1f1f1;\n",
              "}\n",
              "#T_fb9d4_row0_col4 {\n",
              "  background-color: #f6bb97;\n",
              "  color: #000000;\n",
              "}\n",
              "</style>\n",
              "<table id=\"T_fb9d4\" class=\"dataframe\">\n",
              "  <thead>\n",
              "    <tr>\n",
              "      <th class=\"index_name level0\" >segment</th>\n",
              "      <th id=\"T_fb9d4_level0_col0\" class=\"col_heading level0 col0\" >0</th>\n",
              "      <th id=\"T_fb9d4_level0_col1\" class=\"col_heading level0 col1\" >1</th>\n",
              "      <th id=\"T_fb9d4_level0_col2\" class=\"col_heading level0 col2\" >2</th>\n",
              "      <th id=\"T_fb9d4_level0_col3\" class=\"col_heading level0 col3\" >3</th>\n",
              "      <th id=\"T_fb9d4_level0_col4\" class=\"col_heading level0 col4\" >4</th>\n",
              "    </tr>\n",
              "  </thead>\n",
              "  <tbody>\n",
              "    <tr>\n",
              "      <th id=\"T_fb9d4_level0_row0\" class=\"row_heading level0 row0\" >Race</th>\n",
              "      <td id=\"T_fb9d4_row0_col0\" class=\"data row0 col0\" >0.85</td>\n",
              "      <td id=\"T_fb9d4_row0_col1\" class=\"data row0 col1\" >0.81</td>\n",
              "      <td id=\"T_fb9d4_row0_col2\" class=\"data row0 col2\" >0.83</td>\n",
              "      <td id=\"T_fb9d4_row0_col3\" class=\"data row0 col3\" >0.90</td>\n",
              "      <td id=\"T_fb9d4_row0_col4\" class=\"data row0 col4\" >0.86</td>\n",
              "    </tr>\n",
              "  </tbody>\n",
              "</table>\n"
            ]
          },
          "metadata": {},
          "execution_count": 139
        }
      ]
    },
    {
      "cell_type": "code",
      "source": [
        "df_seg5['is_white'] = df_seg5['Race'].apply(lambda x: np.where(x=='White',1,0))\n",
        "frame = df_seg5[['segment','is_white']].copy()"
      ],
      "metadata": {
        "id": "qV806jlICqDW"
      },
      "execution_count": null,
      "outputs": []
    },
    {
      "cell_type": "code",
      "source": [
        "model = ols('is_white ~ segment',                 # Model formula\n",
        "            data = frame).fit()\n",
        "anova_result = sm.stats.anova_lm(model, typ=2)\n",
        "print (anova_result)"
      ],
      "metadata": {
        "colab": {
          "base_uri": "https://localhost:8080/"
        },
        "id": "O5pjWR4dC8SR",
        "outputId": "93d116a1-8f53-4792-e294-fe917594da22"
      },
      "execution_count": null,
      "outputs": [
        {
          "output_type": "stream",
          "name": "stdout",
          "text": [
            "              sum_sq     df         F    PR(>F)\n",
            "segment     0.176549    1.0  1.404095  0.236369\n",
            "Residual  107.255030  853.0       NaN       NaN\n"
          ]
        }
      ]
    },
    {
      "cell_type": "code",
      "source": [
        "from statsmodels.stats.multicomp import pairwise_tukeyhsd\n",
        "\n",
        "tukey = pairwise_tukeyhsd(endog=frame['is_white'],     # Data\n",
        "                          groups=frame['segment'],   # Groups\n",
        "                          alpha=0.05)          # Significance level\n",
        "\n",
        "tukey.plot_simultaneous()    # Plot group confidence intervals\n",
        "plt.vlines(x=49.57,ymin=-0.5,ymax=4.5, color=\"red\")\n",
        "\n",
        "tukey.summary()              # See test summary"
      ],
      "metadata": {
        "colab": {
          "base_uri": "https://localhost:8080/",
          "height": 817
        },
        "id": "Ex6PC-GBS6ji",
        "outputId": "6fd54123-97ae-44d9-cf33-b3791fd05f42"
      },
      "execution_count": null,
      "outputs": [
        {
          "output_type": "execute_result",
          "data": {
            "text/plain": [
              "<class 'statsmodels.iolib.table.SimpleTable'>"
            ],
            "text/html": [
              "<table class=\"simpletable\">\n",
              "<caption>Multiple Comparison of Means - Tukey HSD, FWER=0.05</caption>\n",
              "<tr>\n",
              "  <th>group1</th> <th>group2</th> <th>meandiff</th>  <th>p-adj</th>  <th>lower</th>   <th>upper</th> <th>reject</th>\n",
              "</tr>\n",
              "<tr>\n",
              "     <td>0</td>      <td>1</td>    <td>-0.0356</td> <td>0.9071</td> <td>-0.1472</td>  <td>0.076</td>  <td>False</td>\n",
              "</tr>\n",
              "<tr>\n",
              "     <td>0</td>      <td>2</td>    <td>-0.0138</td> <td>0.9967</td> <td>-0.121</td>  <td>0.0934</td>  <td>False</td>\n",
              "</tr>\n",
              "<tr>\n",
              "     <td>0</td>      <td>3</td>    <td>0.0504</td>  <td>0.6718</td> <td>-0.0531</td> <td>0.1538</td>  <td>False</td>\n",
              "</tr>\n",
              "<tr>\n",
              "     <td>0</td>      <td>4</td>    <td>0.0075</td>  <td>0.9997</td> <td>-0.0972</td> <td>0.1122</td>  <td>False</td>\n",
              "</tr>\n",
              "<tr>\n",
              "     <td>1</td>      <td>2</td>    <td>0.0218</td>  <td>0.9828</td> <td>-0.088</td>  <td>0.1317</td>  <td>False</td>\n",
              "</tr>\n",
              "<tr>\n",
              "     <td>1</td>      <td>3</td>     <td>0.086</td>  <td>0.1758</td> <td>-0.0202</td> <td>0.1922</td>  <td>False</td>\n",
              "</tr>\n",
              "<tr>\n",
              "     <td>1</td>      <td>4</td>    <td>0.0431</td>  <td>0.8079</td> <td>-0.0643</td> <td>0.1505</td>  <td>False</td>\n",
              "</tr>\n",
              "<tr>\n",
              "     <td>2</td>      <td>3</td>    <td>0.0642</td>  <td>0.4179</td> <td>-0.0374</td> <td>0.1657</td>  <td>False</td>\n",
              "</tr>\n",
              "<tr>\n",
              "     <td>2</td>      <td>4</td>    <td>0.0213</td>  <td>0.9799</td> <td>-0.0815</td> <td>0.1241</td>  <td>False</td>\n",
              "</tr>\n",
              "<tr>\n",
              "     <td>3</td>      <td>4</td>    <td>-0.0429</td> <td>0.7602</td> <td>-0.1418</td>  <td>0.056</td>  <td>False</td>\n",
              "</tr>\n",
              "</table>"
            ],
            "text/latex": "\\begin{center}\n\\begin{tabular}{ccccccc}\n\\toprule\n\\textbf{group1} & \\textbf{group2} & \\textbf{meandiff} & \\textbf{p-adj} & \\textbf{lower} & \\textbf{upper} & \\textbf{reject}  \\\\\n\\midrule\n       0        &        1        &      -0.0356      &     0.9071     &    -0.1472     &     0.076      &      False       \\\\\n       0        &        2        &      -0.0138      &     0.9967     &     -0.121     &     0.0934     &      False       \\\\\n       0        &        3        &       0.0504      &     0.6718     &    -0.0531     &     0.1538     &      False       \\\\\n       0        &        4        &       0.0075      &     0.9997     &    -0.0972     &     0.1122     &      False       \\\\\n       1        &        2        &       0.0218      &     0.9828     &     -0.088     &     0.1317     &      False       \\\\\n       1        &        3        &       0.086       &     0.1758     &    -0.0202     &     0.1922     &      False       \\\\\n       1        &        4        &       0.0431      &     0.8079     &    -0.0643     &     0.1505     &      False       \\\\\n       2        &        3        &       0.0642      &     0.4179     &    -0.0374     &     0.1657     &      False       \\\\\n       2        &        4        &       0.0213      &     0.9799     &    -0.0815     &     0.1241     &      False       \\\\\n       3        &        4        &      -0.0429      &     0.7602     &    -0.1418     &     0.056      &      False       \\\\\n\\bottomrule\n\\end{tabular}\n%\\caption{Multiple Comparison of Means - Tukey HSD, FWER=0.05}\n\\end{center}"
          },
          "metadata": {},
          "execution_count": 142
        },
        {
          "output_type": "display_data",
          "data": {
            "text/plain": [
              "<Figure size 1000x600 with 1 Axes>"
            ],
            "image/png": "[encoded data removed]"
          },
          "metadata": {}
        }
      ]
    },
    {
      "cell_type": "markdown",
      "source": [
        "Education (High)"
      ],
      "metadata": {
        "id": "MGITR0LVDTpA"
      }
    },
    {
      "cell_type": "code",
      "source": [
        "pd.DataFrame(df_seg5[df_seg5['education_level']>5].groupby('segment')['education_level'].count()/df_seg5.groupby('segment')['education_level'].count()).T.style.format('{:,.2f}').background_gradient(low=0, high=3,cmap='rocket_r', axis = 1)"
      ],
      "metadata": {
        "colab": {
          "base_uri": "https://localhost:8080/",
          "height": 81
        },
        "id": "Rb3au1Usec4b",
        "outputId": "10df5765-4808-45ed-8fcd-d8e4ece531cb"
      },
      "execution_count": null,
      "outputs": [
        {
          "output_type": "execute_result",
          "data": {
            "text/plain": [
              "<pandas.io.formats.style.Styler at 0x7bbfb4b12230>"
            ],
            "text/html": [
              "<style type=\"text/css\">\n",
              "#T_16fae_row0_col0 {\n",
              "  background-color: #faebdd;\n",
              "  color: #000000;\n",
              "}\n",
              "#T_16fae_row0_col1 {\n",
              "  background-color: #f6a981;\n",
              "  color: #000000;\n",
              "}\n",
              "#T_16fae_row0_col2 {\n",
              "  background-color: #f6b995;\n",
              "  color: #000000;\n",
              "}\n",
              "#T_16fae_row0_col3 {\n",
              "  background-color: #f58860;\n",
              "  color: #f1f1f1;\n",
              "}\n",
              "#T_16fae_row0_col4 {\n",
              "  background-color: #f9e2d0;\n",
              "  color: #000000;\n",
              "}\n",
              "</style>\n",
              "<table id=\"T_16fae\" class=\"dataframe\">\n",
              "  <thead>\n",
              "    <tr>\n",
              "      <th class=\"index_name level0\" >segment</th>\n",
              "      <th id=\"T_16fae_level0_col0\" class=\"col_heading level0 col0\" >0</th>\n",
              "      <th id=\"T_16fae_level0_col1\" class=\"col_heading level0 col1\" >1</th>\n",
              "      <th id=\"T_16fae_level0_col2\" class=\"col_heading level0 col2\" >2</th>\n",
              "      <th id=\"T_16fae_level0_col3\" class=\"col_heading level0 col3\" >3</th>\n",
              "      <th id=\"T_16fae_level0_col4\" class=\"col_heading level0 col4\" >4</th>\n",
              "    </tr>\n",
              "  </thead>\n",
              "  <tbody>\n",
              "    <tr>\n",
              "      <th id=\"T_16fae_level0_row0\" class=\"row_heading level0 row0\" >education_level</th>\n",
              "      <td id=\"T_16fae_row0_col0\" class=\"data row0 col0\" >0.17</td>\n",
              "      <td id=\"T_16fae_row0_col1\" class=\"data row0 col1\" >0.21</td>\n",
              "      <td id=\"T_16fae_row0_col2\" class=\"data row0 col2\" >0.20</td>\n",
              "      <td id=\"T_16fae_row0_col3\" class=\"data row0 col3\" >0.23</td>\n",
              "      <td id=\"T_16fae_row0_col4\" class=\"data row0 col4\" >0.18</td>\n",
              "    </tr>\n",
              "  </tbody>\n",
              "</table>\n"
            ]
          },
          "metadata": {},
          "execution_count": 143
        }
      ]
    },
    {
      "cell_type": "code",
      "source": [
        "df_seg5['is_high_ed'] = df_seg5['education_level'].apply(lambda x: np.where(x>5,1,0))\n",
        "frame = df_seg5[['segment','is_high_ed']].copy()"
      ],
      "metadata": {
        "id": "4sEOQzLWDAax"
      },
      "execution_count": null,
      "outputs": []
    },
    {
      "cell_type": "code",
      "source": [
        "model = ols('is_high_ed ~ segment',                 # Model formula\n",
        "            data = frame).fit()\n",
        "anova_result = sm.stats.anova_lm(model, typ=2)\n",
        "print (anova_result)"
      ],
      "metadata": {
        "colab": {
          "base_uri": "https://localhost:8080/"
        },
        "id": "idEQuyQDDGAl",
        "outputId": "9aaa0022-f4d8-4b2a-9752-38e2ce9bce5b"
      },
      "execution_count": null,
      "outputs": [
        {
          "output_type": "stream",
          "name": "stdout",
          "text": [
            "              sum_sq     df         F   PR(>F)\n",
            "segment     0.015001    1.0  0.094377  0.75876\n",
            "Residual  135.580321  853.0       NaN      NaN\n"
          ]
        }
      ]
    },
    {
      "cell_type": "code",
      "source": [
        "from statsmodels.stats.multicomp import pairwise_tukeyhsd\n",
        "\n",
        "tukey = pairwise_tukeyhsd(endog=frame['is_high_ed'],     # Data\n",
        "                          groups=frame['segment'],   # Groups\n",
        "                          alpha=0.05)          # Significance level\n",
        "\n",
        "tukey.plot_simultaneous()    # Plot group confidence intervals\n",
        "plt.vlines(x=49.57,ymin=-0.5,ymax=4.5, color=\"red\")\n",
        "\n",
        "tukey.summary()              # See test summary"
      ],
      "metadata": {
        "id": "79lOB3v5TBYk",
        "outputId": "1d20e5ff-73bc-41c9-d527-f225e6002a9e",
        "colab": {
          "base_uri": "https://localhost:8080/",
          "height": 817
        }
      },
      "execution_count": null,
      "outputs": [
        {
          "output_type": "execute_result",
          "data": {
            "text/plain": [
              "<class 'statsmodels.iolib.table.SimpleTable'>"
            ],
            "text/html": [
              "<table class=\"simpletable\">\n",
              "<caption>Multiple Comparison of Means - Tukey HSD, FWER=0.05</caption>\n",
              "<tr>\n",
              "  <th>group1</th> <th>group2</th> <th>meandiff</th>  <th>p-adj</th>  <th>lower</th>   <th>upper</th> <th>reject</th>\n",
              "</tr>\n",
              "<tr>\n",
              "     <td>0</td>      <td>1</td>    <td>0.0374</td>   <td>0.926</td> <td>-0.0882</td> <td>0.1631</td>  <td>False</td>\n",
              "</tr>\n",
              "<tr>\n",
              "     <td>0</td>      <td>2</td>    <td>0.0303</td>  <td>0.9594</td> <td>-0.0903</td> <td>0.1509</td>  <td>False</td>\n",
              "</tr>\n",
              "<tr>\n",
              "     <td>0</td>      <td>3</td>    <td>0.0575</td>  <td>0.6592</td> <td>-0.0589</td>  <td>0.174</td>  <td>False</td>\n",
              "</tr>\n",
              "<tr>\n",
              "     <td>0</td>      <td>4</td>    <td>0.0056</td>  <td>0.9999</td> <td>-0.1122</td> <td>0.1234</td>  <td>False</td>\n",
              "</tr>\n",
              "<tr>\n",
              "     <td>1</td>      <td>2</td>    <td>-0.0071</td> <td>0.9999</td> <td>-0.1308</td> <td>0.1165</td>  <td>False</td>\n",
              "</tr>\n",
              "<tr>\n",
              "     <td>1</td>      <td>3</td>    <td>0.0201</td>  <td>0.9908</td> <td>-0.0994</td> <td>0.1396</td>  <td>False</td>\n",
              "</tr>\n",
              "<tr>\n",
              "     <td>1</td>      <td>4</td>    <td>-0.0319</td> <td>0.9518</td> <td>-0.1527</td>  <td>0.089</td>  <td>False</td>\n",
              "</tr>\n",
              "<tr>\n",
              "     <td>2</td>      <td>3</td>    <td>0.0272</td>  <td>0.9664</td> <td>-0.0871</td> <td>0.1416</td>  <td>False</td>\n",
              "</tr>\n",
              "<tr>\n",
              "     <td>2</td>      <td>4</td>    <td>-0.0247</td> <td>0.9775</td> <td>-0.1404</td>  <td>0.091</td>  <td>False</td>\n",
              "</tr>\n",
              "<tr>\n",
              "     <td>3</td>      <td>4</td>    <td>-0.052</td>  <td>0.7061</td> <td>-0.1633</td> <td>0.0594</td>  <td>False</td>\n",
              "</tr>\n",
              "</table>"
            ],
            "text/latex": "\\begin{center}\n\\begin{tabular}{ccccccc}\n\\toprule\n\\textbf{group1} & \\textbf{group2} & \\textbf{meandiff} & \\textbf{p-adj} & \\textbf{lower} & \\textbf{upper} & \\textbf{reject}  \\\\\n\\midrule\n       0        &        1        &       0.0374      &     0.926      &    -0.0882     &     0.1631     &      False       \\\\\n       0        &        2        &       0.0303      &     0.9594     &    -0.0903     &     0.1509     &      False       \\\\\n       0        &        3        &       0.0575      &     0.6592     &    -0.0589     &     0.174      &      False       \\\\\n       0        &        4        &       0.0056      &     0.9999     &    -0.1122     &     0.1234     &      False       \\\\\n       1        &        2        &      -0.0071      &     0.9999     &    -0.1308     &     0.1165     &      False       \\\\\n       1        &        3        &       0.0201      &     0.9908     &    -0.0994     &     0.1396     &      False       \\\\\n       1        &        4        &      -0.0319      &     0.9518     &    -0.1527     &     0.089      &      False       \\\\\n       2        &        3        &       0.0272      &     0.9664     &    -0.0871     &     0.1416     &      False       \\\\\n       2        &        4        &      -0.0247      &     0.9775     &    -0.1404     &     0.091      &      False       \\\\\n       3        &        4        &       -0.052      &     0.7061     &    -0.1633     &     0.0594     &      False       \\\\\n\\bottomrule\n\\end{tabular}\n%\\caption{Multiple Comparison of Means - Tukey HSD, FWER=0.05}\n\\end{center}"
          },
          "metadata": {},
          "execution_count": 146
        },
        {
          "output_type": "display_data",
          "data": {
            "text/plain": [
              "<Figure size 1000x600 with 1 Axes>"
            ],
            "image/png": "[encoded data removed]"
          },
          "metadata": {}
        }
      ]
    },
    {
      "cell_type": "markdown",
      "source": [
        "Sexuality"
      ],
      "metadata": {
        "id": "ti-ZYIafDcM2"
      }
    },
    {
      "cell_type": "code",
      "source": [
        "pd.DataFrame(df_seg5[df_seg5['sexual_orientation']=='Heterosexual'].groupby('segment')['sexual_orientation'].count()/df_seg5.groupby('segment')['sexual_orientation'].count()).T.style.format('{:,.2f}').background_gradient(low=0, high=3,cmap='rocket_r', axis = 1)"
      ],
      "metadata": {
        "colab": {
          "base_uri": "https://localhost:8080/",
          "height": 81
        },
        "id": "EsTb3s7ve9de",
        "outputId": "922e8b9d-d96e-470c-f1f4-114900689d1f"
      },
      "execution_count": null,
      "outputs": [
        {
          "output_type": "execute_result",
          "data": {
            "text/plain": [
              "<pandas.io.formats.style.Styler at 0x7bbfa9ec1720>"
            ],
            "text/html": [
              "<style type=\"text/css\">\n",
              "#T_06ed8_row0_col0 {\n",
              "  background-color: #f6bc99;\n",
              "  color: #000000;\n",
              "}\n",
              "#T_06ed8_row0_col1 {\n",
              "  background-color: #f5946b;\n",
              "  color: #000000;\n",
              "}\n",
              "#T_06ed8_row0_col2 {\n",
              "  background-color: #f4865e;\n",
              "  color: #f1f1f1;\n",
              "}\n",
              "#T_06ed8_row0_col3 {\n",
              "  background-color: #f8d4bc;\n",
              "  color: #000000;\n",
              "}\n",
              "#T_06ed8_row0_col4 {\n",
              "  background-color: #faebdd;\n",
              "  color: #000000;\n",
              "}\n",
              "</style>\n",
              "<table id=\"T_06ed8\" class=\"dataframe\">\n",
              "  <thead>\n",
              "    <tr>\n",
              "      <th class=\"index_name level0\" >segment</th>\n",
              "      <th id=\"T_06ed8_level0_col0\" class=\"col_heading level0 col0\" >0</th>\n",
              "      <th id=\"T_06ed8_level0_col1\" class=\"col_heading level0 col1\" >1</th>\n",
              "      <th id=\"T_06ed8_level0_col2\" class=\"col_heading level0 col2\" >2</th>\n",
              "      <th id=\"T_06ed8_level0_col3\" class=\"col_heading level0 col3\" >3</th>\n",
              "      <th id=\"T_06ed8_level0_col4\" class=\"col_heading level0 col4\" >4</th>\n",
              "    </tr>\n",
              "  </thead>\n",
              "  <tbody>\n",
              "    <tr>\n",
              "      <th id=\"T_06ed8_level0_row0\" class=\"row_heading level0 row0\" >sexual_orientation</th>\n",
              "      <td id=\"T_06ed8_row0_col0\" class=\"data row0 col0\" >0.77</td>\n",
              "      <td id=\"T_06ed8_row0_col1\" class=\"data row0 col1\" >0.82</td>\n",
              "      <td id=\"T_06ed8_row0_col2\" class=\"data row0 col2\" >0.84</td>\n",
              "      <td id=\"T_06ed8_row0_col3\" class=\"data row0 col3\" >0.74</td>\n",
              "      <td id=\"T_06ed8_row0_col4\" class=\"data row0 col4\" >0.71</td>\n",
              "    </tr>\n",
              "  </tbody>\n",
              "</table>\n"
            ]
          },
          "metadata": {},
          "execution_count": 148
        }
      ]
    },
    {
      "cell_type": "code",
      "source": [
        "df_seg5['is_hetero'] = df_seg5['sexual_orientation'].apply(lambda x: np.where(x=='Heterosexual',1,0))\n",
        "frame = df_seg5[['segment','is_hetero']].copy()"
      ],
      "metadata": {
        "id": "icZlR5WEDb3t"
      },
      "execution_count": null,
      "outputs": []
    },
    {
      "cell_type": "code",
      "source": [
        "model = ols('is_hetero ~ segment',                 # Model formula\n",
        "            data = frame).fit()\n",
        "anova_result = sm.stats.anova_lm(model, typ=2)\n",
        "print (anova_result)"
      ],
      "metadata": {
        "id": "qL8PP4XzDrLL",
        "outputId": "571c1206-d705-4ff6-abe4-3c749538eb67",
        "colab": {
          "base_uri": "https://localhost:8080/"
        }
      },
      "execution_count": null,
      "outputs": [
        {
          "output_type": "stream",
          "name": "stdout",
          "text": [
            "              sum_sq     df         F    PR(>F)\n",
            "segment     0.022397    1.0  0.098268  0.753995\n",
            "Residual  194.415030  853.0       NaN       NaN\n"
          ]
        }
      ]
    },
    {
      "cell_type": "code",
      "source": [
        "from statsmodels.stats.multicomp import pairwise_tukeyhsd\n",
        "\n",
        "tukey = pairwise_tukeyhsd(endog=frame['is_hetero'],     # Data\n",
        "                          groups=frame['segment'],   # Groups\n",
        "                          alpha=0.05)          # Significance level\n",
        "\n",
        "tukey.plot_simultaneous()    # Plot group confidence intervals\n",
        "plt.vlines(x=49.57,ymin=-0.5,ymax=4.5, color=\"red\")\n",
        "\n",
        "tukey.summary()              # See test summary"
      ],
      "metadata": {
        "id": "n1kuStvxTEW1",
        "outputId": "df7c339f-6282-496a-ff2f-2fa6ac148ad8",
        "colab": {
          "base_uri": "https://localhost:8080/",
          "height": 817
        }
      },
      "execution_count": null,
      "outputs": [
        {
          "output_type": "execute_result",
          "data": {
            "text/plain": [
              "<class 'statsmodels.iolib.table.SimpleTable'>"
            ],
            "text/html": [
              "<table class=\"simpletable\">\n",
              "<caption>Multiple Comparison of Means - Tukey HSD, FWER=0.05</caption>\n",
              "<tr>\n",
              "  <th>group1</th> <th>group2</th> <th>meandiff</th>  <th>p-adj</th>  <th>lower</th>   <th>upper</th> <th>reject</th>\n",
              "</tr>\n",
              "<tr>\n",
              "     <td>0</td>      <td>1</td>    <td>0.0845</td>  <td>0.5389</td> <td>-0.0658</td> <td>0.2348</td>  <td>False</td>\n",
              "</tr>\n",
              "<tr>\n",
              "     <td>0</td>      <td>2</td>    <td>0.0931</td>  <td>0.3964</td> <td>-0.0513</td> <td>0.2374</td>  <td>False</td>\n",
              "</tr>\n",
              "<tr>\n",
              "     <td>0</td>      <td>3</td>    <td>0.0477</td>  <td>0.8828</td> <td>-0.0916</td>  <td>0.187</td>  <td>False</td>\n",
              "</tr>\n",
              "<tr>\n",
              "     <td>0</td>      <td>4</td>    <td>0.0394</td>  <td>0.9406</td> <td>-0.1015</td> <td>0.1804</td>  <td>False</td>\n",
              "</tr>\n",
              "<tr>\n",
              "     <td>1</td>      <td>2</td>    <td>0.0086</td>  <td>0.9999</td> <td>-0.1393</td> <td>0.1565</td>  <td>False</td>\n",
              "</tr>\n",
              "<tr>\n",
              "     <td>1</td>      <td>3</td>    <td>-0.0368</td> <td>0.9559</td> <td>-0.1798</td> <td>0.1062</td>  <td>False</td>\n",
              "</tr>\n",
              "<tr>\n",
              "     <td>1</td>      <td>4</td>    <td>-0.045</td>  <td>0.9142</td> <td>-0.1897</td> <td>0.0996</td>  <td>False</td>\n",
              "</tr>\n",
              "<tr>\n",
              "     <td>2</td>      <td>3</td>    <td>-0.0454</td> <td>0.8944</td> <td>-0.1821</td> <td>0.0914</td>  <td>False</td>\n",
              "</tr>\n",
              "<tr>\n",
              "     <td>2</td>      <td>4</td>    <td>-0.0536</td> <td>0.8274</td> <td>-0.1921</td> <td>0.0848</td>  <td>False</td>\n",
              "</tr>\n",
              "<tr>\n",
              "     <td>3</td>      <td>4</td>    <td>-0.0083</td> <td>0.9998</td> <td>-0.1415</td> <td>0.1249</td>  <td>False</td>\n",
              "</tr>\n",
              "</table>"
            ],
            "text/latex": "\\begin{center}\n\\begin{tabular}{ccccccc}\n\\toprule\n\\textbf{group1} & \\textbf{group2} & \\textbf{meandiff} & \\textbf{p-adj} & \\textbf{lower} & \\textbf{upper} & \\textbf{reject}  \\\\\n\\midrule\n       0        &        1        &       0.0845      &     0.5389     &    -0.0658     &     0.2348     &      False       \\\\\n       0        &        2        &       0.0931      &     0.3964     &    -0.0513     &     0.2374     &      False       \\\\\n       0        &        3        &       0.0477      &     0.8828     &    -0.0916     &     0.187      &      False       \\\\\n       0        &        4        &       0.0394      &     0.9406     &    -0.1015     &     0.1804     &      False       \\\\\n       1        &        2        &       0.0086      &     0.9999     &    -0.1393     &     0.1565     &      False       \\\\\n       1        &        3        &      -0.0368      &     0.9559     &    -0.1798     &     0.1062     &      False       \\\\\n       1        &        4        &       -0.045      &     0.9142     &    -0.1897     &     0.0996     &      False       \\\\\n       2        &        3        &      -0.0454      &     0.8944     &    -0.1821     &     0.0914     &      False       \\\\\n       2        &        4        &      -0.0536      &     0.8274     &    -0.1921     &     0.0848     &      False       \\\\\n       3        &        4        &      -0.0083      &     0.9998     &    -0.1415     &     0.1249     &      False       \\\\\n\\bottomrule\n\\end{tabular}\n%\\caption{Multiple Comparison of Means - Tukey HSD, FWER=0.05}\n\\end{center}"
          },
          "metadata": {},
          "execution_count": 151
        },
        {
          "output_type": "display_data",
          "data": {
            "text/plain": [
              "<Figure size 1000x600 with 1 Axes>"
            ],
            "image/png": "[encoded data removed]"
          },
          "metadata": {}
        }
      ]
    },
    {
      "cell_type": "markdown",
      "source": [
        "Clustering - Gaussian Mixture Models"
      ],
      "metadata": {
        "id": "tfyAVHWUY5VQ"
      }
    }
  ]
}